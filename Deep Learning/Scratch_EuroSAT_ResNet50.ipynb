{
 "cells": [
  {
   "cell_type": "code",
   "execution_count": 1,
   "metadata": {
    "id": "Yz2BQXCHGaMA"
   },
   "outputs": [],
   "source": [
    "import numpy as np\n",
    "from keras import layers\n",
    "from keras.callbacks import ModelCheckpoint\n",
    "from keras.layers import Input, Add, Dense, Activation, ZeroPadding2D, BatchNormalization, Flatten, Conv2D, AveragePooling2D, MaxPooling2D, Dropout\n",
    "from keras.models import Model, load_model\n",
    "from keras.initializers import glorot_uniform\n",
    "from keras.optimizers import RMSprop\n",
    "from keras.preprocessing.image import ImageDataGenerator"
   ]
  },
  {
   "cell_type": "code",
   "execution_count": 2,
   "metadata": {
    "id": "GLgTasEVHR3V"
   },
   "outputs": [],
   "source": [
    "def identity_block(X, ks, filters):\n",
    "  f1, f2, f3 = filters\n",
    "  #We are performing identity mapping after the 3 component blocks (instead of 2 - ResNet34) which include bottleneck 1x1 layers i.e F1 and F3 having number of filters as variable 'filters'.\n",
    "\n",
    "  X_identity = X\n",
    "  #We will add this later\n",
    "\n",
    "  #CONV-BN-RELU x 2 - CONV-BN-IdentityMapping-RELU\n",
    "\n",
    "  X = Conv2D(filters = f1, kernel_size = (1, 1), strides = (1, 1), padding = 'valid', kernel_initializer=glorot_uniform(seed=0))(X)\n",
    "  #Glorot_uniform = Xavier Initialisation\n",
    "  X = BatchNormalization(axis = 3)(X)\n",
    "  X = Activation('relu')(X)\n",
    "\n",
    "  X = Conv2D(filters = f2, kernel_size = (ks, ks), strides = (1, 1), padding = 'same', kernel_initializer=glorot_uniform(seed=0))(X)\n",
    "  X = BatchNormalization(axis = 3)(X)\n",
    "  X = Activation('relu')(X)\n",
    "\n",
    "  X = Conv2D(filters = f3, kernel_size = (1, 1), strides = (1, 1), padding = 'valid', kernel_initializer=glorot_uniform(seed=0))(X)\n",
    "  X = BatchNormalization(axis = 3)(X)\n",
    "  X = Add()([X_identity, X])\n",
    "  X = Activation('relu')(X)\n",
    "\n",
    "  return X"
   ]
  },
  {
   "cell_type": "code",
   "execution_count": 3,
   "metadata": {
    "id": "Co7g9OFGKouL"
   },
   "outputs": [],
   "source": [
    "def convolutional_block(X, ks, filters, stride = 2):\n",
    "  f1, f2, f3 = filters\n",
    "\n",
    "  X_identity = X\n",
    "\n",
    "  #Structure same as identity block, but we do Conv and BN on identity mapping too\n",
    "\n",
    "  X = Conv2D(f1, (1,1), strides = (stride, stride), kernel_initializer=glorot_uniform(seed=0))(X)\n",
    "  X = BatchNormalization(axis = 3)(X)\n",
    "  X = Activation('relu')(X)\n",
    "\n",
    "  X = Conv2D(filters = f2, kernel_size = (ks, ks), strides = (1, 1), padding = 'same', kernel_initializer=glorot_uniform(seed=0))(X)\n",
    "  X = BatchNormalization(axis=3)(X)\n",
    "  X = Activation('relu')(X)\n",
    "\n",
    "  X = Conv2D(filters = f3, kernel_size = (1, 1), strides = (1, 1), padding = 'valid', kernel_initializer=glorot_uniform(seed=0))(X)\n",
    "  X = BatchNormalization(axis=3)(X)\n",
    "\n",
    "  X_identity = Conv2D(filters = f3, kernel_size = (1, 1), strides = (stride, stride), padding = 'valid', kernel_initializer=glorot_uniform(seed=0))(X_identity)\n",
    "  X_identity = BatchNormalization(axis = 3)(X_identity)\n",
    "  \n",
    "  X = Add()([X, X_identity])\n",
    "  X = Activation('relu')(X)\n",
    "\n",
    "  return X"
   ]
  },
  {
   "cell_type": "markdown",
   "metadata": {
    "id": "LCmmAjL7RmAM"
   },
   "source": [
    "The Structure of the ResNet50 is as follows\n",
    "\n",
    "ZeroPad - (Conv - BN - ReLU - MaxPool) - (CB-IBx2) - (CB-IBx3) - (CB-IBx5) - (CB-IBx2) - Flatten - FC - Dropout - FC - Output\n",
    "\n",
    "It usually is Avgpool - flatten - FC - output in the end but we're using Flatten FC Dropout FC Output because it gives better results"
   ]
  },
  {
   "cell_type": "code",
   "execution_count": 4,
   "metadata": {
    "id": "AMKe95C6Nh2T"
   },
   "outputs": [],
   "source": [
    "def ResNet50(input_shape = (64, 64, 3), classes = 10):\n",
    "  X_input = Input(input_shape)\n",
    "\n",
    "  X = ZeroPadding2D((3,3))(X_input)\n",
    "\n",
    "  X = Conv2D(64, (7, 7), strides = (2, 2), kernel_initializer = glorot_uniform(seed=0))(X)\n",
    "  X = BatchNormalization(axis = 3)(X)\n",
    "  X = Activation('relu')(X)\n",
    "  X = MaxPooling2D((3, 3), strides = (2, 2))(X)\n",
    "\n",
    "  X = convolutional_block(X, ks = 3, filters = [64, 64, 256], stride = 1)\n",
    "  X = identity_block(X, 3, [64, 64, 256])\n",
    "  X = identity_block(X, 3, [64, 64, 256])\n",
    "\n",
    "  X = convolutional_block(X, ks = 3, filters = [128, 128, 512], stride = 2)\n",
    "  X = identity_block(X, 3, [128, 128, 512])\n",
    "  X = identity_block(X, 3, [128, 128, 512])\n",
    "\n",
    "  X = convolutional_block(X, ks = 3, filters = [256, 256, 1024], stride = 2)\n",
    "  X = identity_block(X, 3, [256, 256, 1024])\n",
    "  X = identity_block(X, 3, [256, 256, 1024])\n",
    "  X = identity_block(X, 3, [256, 256, 1024])\n",
    "  X = identity_block(X, 3, [256, 256, 1024])\n",
    "\n",
    "  X = convolutional_block(X, ks = 3, filters = [512, 512, 2048], stride = 2)\n",
    "  X = identity_block(X, 3, [512, 512, 2048])\n",
    "  X = identity_block(X, 3, [512, 512, 2048])\n",
    "\n",
    "  X = Flatten()(X)\n",
    "  X = Dense(1024, activation='relu', kernel_initializer=glorot_uniform(seed=0))(X)\n",
    "  X = Dropout(0.5)(X)\n",
    "  X = Dense(10, activation = 'softmax', kernel_initializer=glorot_uniform(seed=0))(X)\n",
    "\n",
    "  model = Model(inputs = X_input, outputs = X, name = 'ResNet50')\n",
    "\n",
    "  return model"
   ]
  },
  {
   "cell_type": "code",
   "execution_count": 5,
   "metadata": {
    "id": "7nV341dlRfAq"
   },
   "outputs": [],
   "source": [
    "model = ResNet50(input_shape = (64, 64, 3), classes = 10)"
   ]
  },
  {
   "cell_type": "code",
   "execution_count": 6,
   "metadata": {
    "id": "MU0dpL5_RvlE"
   },
   "outputs": [],
   "source": [
    "model.compile(loss = 'categorical_crossentropy', optimizer = RMSprop(learning_rate = 1e-4), metrics = ['accuracy'])"
   ]
  },
  {
   "cell_type": "code",
   "execution_count": 7,
   "metadata": {
    "id": "ga28TTakZXe2"
   },
   "outputs": [],
   "source": [
    "#Image Augmentation\n",
    "\n",
    "train_datagen = ImageDataGenerator(rescale=1./255, shear_range=0.2, zoom_range=0.2, horizontal_flip=True)\n",
    "test_datagen = ImageDataGenerator(rescale=1./255)"
   ]
  },
  {
   "cell_type": "code",
   "execution_count": 8,
   "metadata": {
    "colab": {
     "base_uri": "https://localhost:8080/"
    },
    "id": "NltZ1XXsa_p9",
    "outputId": "bf1e0cd2-98b9-4323-b371-bcd852af34d5"
   },
   "outputs": [
    {
     "name": "stdout",
     "output_type": "stream",
     "text": [
      "Found 20600 images belonging to 10 classes.\n",
      "Found 6400 images belonging to 10 classes.\n"
     ]
    }
   ],
   "source": [
    "training_set = train_datagen.flow_from_directory('C:\\\\Users\\\\Musab Ahmed Pathan\\\\Documents\\\\EUROSAT\\\\Training Set', target_size = (64,64), batch_size=32, class_mode='categorical')\n",
    "val_set = test_datagen.flow_from_directory('C:\\\\Users\\\\Musab Ahmed Pathan\\\\Documents\\\\EUROSAT\\\\Validation Set', target_size = (64,64), batch_size=32, class_mode='categorical')"
   ]
  },
  {
   "cell_type": "code",
   "execution_count": 9,
   "metadata": {
    "id": "l06pBUdzejUP"
   },
   "outputs": [],
   "source": [
    "#We save our progress periodically\n",
    "filepath=\"C:\\\\Users\\\\Musab Ahmed Pathan\\\\Documents\\\\EUROSAT\\\\best_model4.hdf5\"\n",
    "checkpoint = ModelCheckpoint(filepath, monitor='val_accuracy', verbose=1, save_best_only=True, mode='max')\n",
    "callbacks_list = [checkpoint]\n",
    "\n",
    "#Epoch 65 - val_accuracy improved from 0.90781 to 0.91297, saving model to C:\\Users\\Musab Ahmed Pathan\\Documents\\EUROSAT\\best_model3.hdf5"
   ]
  },
  {
   "cell_type": "code",
   "execution_count": 10,
   "metadata": {},
   "outputs": [],
   "source": [
    "model = load_model('C:\\\\Users\\\\Musab Ahmed Pathan\\\\Documents\\\\EUROSAT\\\\best_model4.hdf5')"
   ]
  },
  {
   "cell_type": "code",
   "execution_count": 11,
   "metadata": {
    "colab": {
     "base_uri": "https://localhost:8080/"
    },
    "id": "u59A3VbkcCX2",
    "outputId": "61b5e106-0192-4a5a-ffaf-87b9a9ddd9b1"
   },
   "outputs": [
    {
     "name": "stdout",
     "output_type": "stream",
     "text": [
      "Epoch 1/40\n",
      "644/644 [==============================] - 963s 1s/step - loss: 0.4893 - accuracy: 0.9380 - val_loss: 2.3823 - val_accuracy: 0.7245\n",
      "\n",
      "Epoch 00001: val_accuracy improved from -inf to 0.72453, saving model to C:\\Users\\Musab Ahmed Pathan\\Documents\\EUROSAT\\best_model4.hdf5\n",
      "Epoch 2/40\n",
      "644/644 [==============================] - 948s 1s/step - loss: 0.2903 - accuracy: 0.9426 - val_loss: 1.0873 - val_accuracy: 0.8444\n",
      "\n",
      "Epoch 00002: val_accuracy improved from 0.72453 to 0.84438, saving model to C:\\Users\\Musab Ahmed Pathan\\Documents\\EUROSAT\\best_model4.hdf5\n",
      "Epoch 3/40\n",
      "644/644 [==============================] - 941s 1s/step - loss: 0.2686 - accuracy: 0.9444 - val_loss: 0.4555 - val_accuracy: 0.9078\n",
      "\n",
      "Epoch 00003: val_accuracy improved from 0.84438 to 0.90781, saving model to C:\\Users\\Musab Ahmed Pathan\\Documents\\EUROSAT\\best_model4.hdf5\n",
      "Epoch 4/40\n",
      "644/644 [==============================] - 947s 1s/step - loss: 0.3622 - accuracy: 0.9492 - val_loss: 4.6768 - val_accuracy: 0.6120\n",
      "\n",
      "Epoch 00004: val_accuracy did not improve from 0.90781\n",
      "Epoch 5/40\n",
      "644/644 [==============================] - 929s 1s/step - loss: 0.4460 - accuracy: 0.9483 - val_loss: 0.3981 - val_accuracy: 0.9003\n",
      "\n",
      "Epoch 00005: val_accuracy did not improve from 0.90781\n",
      "Epoch 6/40\n",
      "644/644 [==============================] - 950s 1s/step - loss: 0.4624 - accuracy: 0.9446 - val_loss: 0.5619 - val_accuracy: 0.8631\n",
      "\n",
      "Epoch 00006: val_accuracy did not improve from 0.90781\n",
      "Epoch 7/40\n",
      "644/644 [==============================] - 940s 1s/step - loss: 0.2502 - accuracy: 0.9469 - val_loss: 1.4684 - val_accuracy: 0.7178\n",
      "\n",
      "Epoch 00007: val_accuracy did not improve from 0.90781\n",
      "Epoch 8/40\n",
      "644/644 [==============================] - 928s 1s/step - loss: 0.4822 - accuracy: 0.9493 - val_loss: 0.9954 - val_accuracy: 0.8389\n",
      "\n",
      "Epoch 00008: val_accuracy did not improve from 0.90781\n",
      "Epoch 9/40\n",
      "644/644 [==============================] - 949s 1s/step - loss: 0.2711 - accuracy: 0.9508 - val_loss: 0.9765 - val_accuracy: 0.7956\n",
      "\n",
      "Epoch 00009: val_accuracy did not improve from 0.90781\n",
      "Epoch 10/40\n",
      "644/644 [==============================] - 950s 1s/step - loss: 0.2628 - accuracy: 0.9466 - val_loss: 1.4569 - val_accuracy: 0.8091\n",
      "\n",
      "Epoch 00010: val_accuracy did not improve from 0.90781\n",
      "Epoch 11/40\n",
      "644/644 [==============================] - 947s 1s/step - loss: 0.4669 - accuracy: 0.9514 - val_loss: 1.1760 - val_accuracy: 0.7880\n",
      "\n",
      "Epoch 00011: val_accuracy did not improve from 0.90781\n",
      "Epoch 12/40\n",
      "644/644 [==============================] - 951s 1s/step - loss: 0.1788 - accuracy: 0.9513 - val_loss: 0.8331 - val_accuracy: 0.8319\n",
      "\n",
      "Epoch 00012: val_accuracy did not improve from 0.90781\n",
      "Epoch 13/40\n",
      "644/644 [==============================] - 925s 1s/step - loss: 0.3530 - accuracy: 0.9524 - val_loss: 17.9698 - val_accuracy: 0.7394\n",
      "\n",
      "Epoch 00013: val_accuracy did not improve from 0.90781\n",
      "Epoch 14/40\n",
      "644/644 [==============================] - 945s 1s/step - loss: 0.3287 - accuracy: 0.9522 - val_loss: 2.0659 - val_accuracy: 0.7962\n",
      "\n",
      "Epoch 00014: val_accuracy did not improve from 0.90781\n",
      "Epoch 15/40\n",
      "644/644 [==============================] - 947s 1s/step - loss: 0.7185 - accuracy: 0.9524 - val_loss: 0.5202 - val_accuracy: 0.8898\n",
      "\n",
      "Epoch 00015: val_accuracy did not improve from 0.90781\n",
      "Epoch 16/40\n",
      "644/644 [==============================] - 934s 1s/step - loss: 0.2687 - accuracy: 0.9532 - val_loss: 9.7159 - val_accuracy: 0.6673\n",
      "\n",
      "Epoch 00016: val_accuracy did not improve from 0.90781\n",
      "Epoch 17/40\n",
      "644/644 [==============================] - 950s 1s/step - loss: 0.2848 - accuracy: 0.9559 - val_loss: 1.7031 - val_accuracy: 0.7553\n",
      "\n",
      "Epoch 00017: val_accuracy did not improve from 0.90781\n",
      "Epoch 18/40\n",
      "644/644 [==============================] - 943s 1s/step - loss: 0.5058 - accuracy: 0.9566 - val_loss: 0.8773 - val_accuracy: 0.8338\n",
      "\n",
      "Epoch 00018: val_accuracy did not improve from 0.90781\n",
      "Epoch 19/40\n",
      "644/644 [==============================] - 958s 1s/step - loss: 0.2479 - accuracy: 0.9558 - val_loss: 0.7983 - val_accuracy: 0.8461\n",
      "\n",
      "Epoch 00019: val_accuracy did not improve from 0.90781\n",
      "Epoch 20/40\n",
      "644/644 [==============================] - 941s 1s/step - loss: 0.4247 - accuracy: 0.9568 - val_loss: 1.0054 - val_accuracy: 0.8019\n",
      "\n",
      "Epoch 00020: val_accuracy did not improve from 0.90781\n",
      "Epoch 21/40\n",
      "644/644 [==============================] - 943s 1s/step - loss: 0.2001 - accuracy: 0.9537 - val_loss: 1.2144 - val_accuracy: 0.7738\n",
      "\n",
      "Epoch 00021: val_accuracy did not improve from 0.90781\n",
      "Epoch 22/40\n",
      "644/644 [==============================] - 951s 1s/step - loss: 0.1768 - accuracy: 0.9543 - val_loss: 4.1469 - val_accuracy: 0.6514\n",
      "\n",
      "Epoch 00022: val_accuracy did not improve from 0.90781\n",
      "Epoch 23/40\n",
      "644/644 [==============================] - 948s 1s/step - loss: 0.4478 - accuracy: 0.9576 - val_loss: 0.8540 - val_accuracy: 0.8145\n",
      "\n",
      "Epoch 00023: val_accuracy did not improve from 0.90781\n",
      "Epoch 24/40\n",
      "644/644 [==============================] - 939s 1s/step - loss: 0.2732 - accuracy: 0.9592 - val_loss: 5.0809 - val_accuracy: 0.6847\n",
      "\n",
      "Epoch 00024: val_accuracy did not improve from 0.90781\n",
      "Epoch 25/40\n",
      "644/644 [==============================] - 953s 1s/step - loss: 0.3501 - accuracy: 0.9624 - val_loss: 0.3941 - val_accuracy: 0.9130\n",
      "\n",
      "Epoch 00025: val_accuracy improved from 0.90781 to 0.91297, saving model to C:\\Users\\Musab Ahmed Pathan\\Documents\\EUROSAT\\best_model4.hdf5\n",
      "Epoch 26/40\n",
      "644/644 [==============================] - 940s 1s/step - loss: 0.1529 - accuracy: 0.9590 - val_loss: 3.4621 - val_accuracy: 0.7097\n",
      "\n",
      "Epoch 00026: val_accuracy did not improve from 0.91297\n",
      "Epoch 27/40\n",
      "644/644 [==============================] - 953s 1s/step - loss: 0.3940 - accuracy: 0.9566 - val_loss: 0.7276 - val_accuracy: 0.8316\n",
      "\n",
      "Epoch 00027: val_accuracy did not improve from 0.91297\n",
      "Epoch 28/40\n",
      "644/644 [==============================] - 929s 1s/step - loss: 0.2983 - accuracy: 0.9633 - val_loss: 0.5456 - val_accuracy: 0.8833\n",
      "\n",
      "Epoch 00028: val_accuracy did not improve from 0.91297\n",
      "Epoch 29/40\n",
      "644/644 [==============================] - 951s 1s/step - loss: 0.1972 - accuracy: 0.9613 - val_loss: 196.2346 - val_accuracy: 0.4998\n",
      "\n",
      "Epoch 00029: val_accuracy did not improve from 0.91297\n",
      "Epoch 30/40\n",
      "644/644 [==============================] - 944s 1s/step - loss: 0.2001 - accuracy: 0.9633 - val_loss: 0.4569 - val_accuracy: 0.8898\n",
      "\n",
      "Epoch 00030: val_accuracy did not improve from 0.91297\n",
      "Epoch 31/40\n",
      "644/644 [==============================] - 948s 1s/step - loss: 0.4332 - accuracy: 0.9629 - val_loss: 25.9383 - val_accuracy: 0.8269\n",
      "\n",
      "Epoch 00031: val_accuracy did not improve from 0.91297\n",
      "Epoch 32/40\n",
      "644/644 [==============================] - 952s 1s/step - loss: 0.3529 - accuracy: 0.9640 - val_loss: 10.2193 - val_accuracy: 0.6827\n",
      "\n",
      "Epoch 00032: val_accuracy did not improve from 0.91297\n",
      "Epoch 33/40\n",
      "644/644 [==============================] - 949s 1s/step - loss: 0.2238 - accuracy: 0.9653 - val_loss: 0.8270 - val_accuracy: 0.8431\n",
      "\n",
      "Epoch 00033: val_accuracy did not improve from 0.91297\n",
      "Epoch 34/40\n",
      "644/644 [==============================] - 946s 1s/step - loss: 0.1999 - accuracy: 0.9652 - val_loss: 0.9344 - val_accuracy: 0.8231\n",
      "\n",
      "Epoch 00034: val_accuracy did not improve from 0.91297\n",
      "Epoch 35/40\n",
      "644/644 [==============================] - 948s 1s/step - loss: 0.3736 - accuracy: 0.9641 - val_loss: 0.9491 - val_accuracy: 0.8341\n",
      "\n",
      "Epoch 00035: val_accuracy did not improve from 0.91297\n",
      "Epoch 36/40\n",
      "644/644 [==============================] - 930s 1s/step - loss: 0.2641 - accuracy: 0.9657 - val_loss: 0.7234 - val_accuracy: 0.8420\n",
      "\n",
      "Epoch 00036: val_accuracy did not improve from 0.91297\n",
      "Epoch 37/40\n",
      "644/644 [==============================] - 939s 1s/step - loss: 0.1960 - accuracy: 0.9671 - val_loss: 9.9125 - val_accuracy: 0.6488\n",
      "\n",
      "Epoch 00037: val_accuracy did not improve from 0.91297\n",
      "Epoch 38/40\n",
      "644/644 [==============================] - 956s 1s/step - loss: 0.1421 - accuracy: 0.9649 - val_loss: 1.6976 - val_accuracy: 0.7714\n",
      "\n",
      "Epoch 00038: val_accuracy did not improve from 0.91297\n",
      "Epoch 39/40\n",
      "644/644 [==============================] - 944s 1s/step - loss: 0.2455 - accuracy: 0.9679 - val_loss: 1.0569 - val_accuracy: 0.7927\n",
      "\n",
      "Epoch 00039: val_accuracy did not improve from 0.91297\n",
      "Epoch 40/40\n",
      "644/644 [==============================] - 937s 1s/step - loss: 0.3295 - accuracy: 0.9675 - val_loss: 4.9886 - val_accuracy: 0.7041\n",
      "\n",
      "Epoch 00040: val_accuracy did not improve from 0.91297\n"
     ]
    }
   ],
   "source": [
    "EuroSAT_ResNet50 = model.fit(training_set, epochs=40, callbacks=callbacks_list, validation_data=val_set)"
   ]
  },
  {
   "cell_type": "code",
   "execution_count": 11,
   "metadata": {
    "colab": {
     "base_uri": "https://localhost:8080/"
    },
    "id": "yVNzlhVTKU0b",
    "outputId": "c5af8962-f92b-4136-f4b1-4d84af6cb928"
   },
   "outputs": [
    {
     "name": "stdout",
     "output_type": "stream",
     "text": [
      "200/200 [==============================] - 41s 188ms/step - loss: 0.3941 - accuracy: 0.9130\n",
      "Loss = 0.3940958082675934\n",
      "Test Accuracy = 0.9129687547683716\n"
     ]
    }
   ],
   "source": [
    "preds = model.evaluate(val_set)\n",
    "print (\"Loss = \" + str(preds[0]))\n",
    "print (\"Test Accuracy = \" + str(preds[1]))"
   ]
  }
 ],
 "metadata": {
  "colab": {
   "collapsed_sections": [],
   "name": "EuroSAT_ResNet50.ipynb",
   "provenance": []
  },
  "kernelspec": {
   "display_name": "Python 3",
   "language": "python",
   "name": "python3"
  },
  "language_info": {
   "codemirror_mode": {
    "name": "ipython",
    "version": 3
   },
   "file_extension": ".py",
   "mimetype": "text/x-python",
   "name": "python",
   "nbconvert_exporter": "python",
   "pygments_lexer": "ipython3",
   "version": "3.8.3"
  }
 },
 "nbformat": 4,
 "nbformat_minor": 1
}
