{
  "cells": [
    {
      "metadata": {
        "_uuid": "92b885dd147dac19bd0a33db3cd0da100bd5bc23",
        "id": "6ZS_0zDtHOrl"
      },
      "cell_type": "markdown",
      "source": [
        "# Twitter Sentiment Analysis"
      ]
    },
    {
      "cell_type": "code",
      "source": [
        "!nvidia-smi"
      ],
      "metadata": {
        "colab": {
          "base_uri": "https://localhost:8080/"
        },
        "id": "n21QNohpHx0a",
        "outputId": "676a7187-0892-4ed3-d5ad-7d6635c8f5bc"
      },
      "execution_count": null,
      "outputs": [
        {
          "output_type": "stream",
          "name": "stdout",
          "text": [
            "Mon May  2 08:47:06 2022       \n",
            "+-----------------------------------------------------------------------------+\n",
            "| NVIDIA-SMI 460.32.03    Driver Version: 460.32.03    CUDA Version: 11.2     |\n",
            "|-------------------------------+----------------------+----------------------+\n",
            "| GPU  Name        Persistence-M| Bus-Id        Disp.A | Volatile Uncorr. ECC |\n",
            "| Fan  Temp  Perf  Pwr:Usage/Cap|         Memory-Usage | GPU-Util  Compute M. |\n",
            "|                               |                      |               MIG M. |\n",
            "|===============================+======================+======================|\n",
            "|   0  Tesla P100-PCIE...  Off  | 00000000:00:04.0 Off |                    0 |\n",
            "| N/A   34C    P0    25W / 250W |      0MiB / 16280MiB |      0%      Default |\n",
            "|                               |                      |                  N/A |\n",
            "+-------------------------------+----------------------+----------------------+\n",
            "                                                                               \n",
            "+-----------------------------------------------------------------------------+\n",
            "| Processes:                                                                  |\n",
            "|  GPU   GI   CI        PID   Type   Process name                  GPU Memory |\n",
            "|        ID   ID                                                   Usage      |\n",
            "|=============================================================================|\n",
            "|  No running processes found                                                 |\n",
            "+-----------------------------------------------------------------------------+\n"
          ]
        }
      ]
    },
    {
      "metadata": {
        "trusted": true,
        "_uuid": "70282bce8b42a51e4d44f2c7d85c4ca9567b0fd4",
        "colab": {
          "base_uri": "https://localhost:8080/"
        },
        "id": "_7hW4RADHOro",
        "outputId": "5cfa41bb-d95d-4ff8-acb9-5471196741fc"
      },
      "cell_type": "code",
      "source": [
        "!pip install gensim==3.6.0\n",
        "!pip install keras --upgrade\n",
        "!pip install pandas --upgrade"
      ],
      "execution_count": null,
      "outputs": [
        {
          "output_type": "stream",
          "name": "stdout",
          "text": [
            "Requirement already satisfied: gensim==3.6.0 in /usr/local/lib/python3.7/dist-packages (3.6.0)\n",
            "Requirement already satisfied: numpy>=1.11.3 in /usr/local/lib/python3.7/dist-packages (from gensim==3.6.0) (1.21.6)\n",
            "Requirement already satisfied: scipy>=0.18.1 in /usr/local/lib/python3.7/dist-packages (from gensim==3.6.0) (1.4.1)\n",
            "Requirement already satisfied: six>=1.5.0 in /usr/local/lib/python3.7/dist-packages (from gensim==3.6.0) (1.15.0)\n",
            "Requirement already satisfied: smart-open>=1.2.1 in /usr/local/lib/python3.7/dist-packages (from gensim==3.6.0) (6.0.0)\n",
            "Requirement already satisfied: keras in /usr/local/lib/python3.7/dist-packages (2.8.0)\n",
            "Requirement already satisfied: pandas in /usr/local/lib/python3.7/dist-packages (1.3.5)\n",
            "Requirement already satisfied: python-dateutil>=2.7.3 in /usr/local/lib/python3.7/dist-packages (from pandas) (2.8.2)\n",
            "Requirement already satisfied: pytz>=2017.3 in /usr/local/lib/python3.7/dist-packages (from pandas) (2022.1)\n",
            "Requirement already satisfied: numpy>=1.17.3 in /usr/local/lib/python3.7/dist-packages (from pandas) (1.21.6)\n",
            "Requirement already satisfied: six>=1.5 in /usr/local/lib/python3.7/dist-packages (from python-dateutil>=2.7.3->pandas) (1.15.0)\n"
          ]
        }
      ]
    },
    {
      "metadata": {
        "trusted": true,
        "_uuid": "303e72966af732ddef0bd8108a321095314e44af",
        "id": "keZJT46HHOrq"
      },
      "cell_type": "code",
      "source": [
        "# DataFrame\n",
        "import pandas as pd\n",
        "import keras\n",
        "\n",
        "# Matplot\n",
        "import matplotlib.pyplot as plt\n",
        "%matplotlib inline\n",
        "\n",
        "# Scikit-learn\n",
        "from sklearn.model_selection import train_test_split\n",
        "from sklearn.preprocessing import LabelEncoder\n",
        "from sklearn.metrics import confusion_matrix, classification_report, accuracy_score\n",
        "from sklearn.manifold import TSNE\n",
        "from sklearn.feature_extraction.text import TfidfVectorizer\n",
        "\n",
        "# Keras\n",
        "from keras.preprocessing.text import Tokenizer\n",
        "from keras.preprocessing.sequence import pad_sequences\n",
        "from keras.models import Sequential\n",
        "from keras.layers import Activation, Dense, Dropout, Embedding, Flatten, Conv1D, MaxPooling1D, LSTM\n",
        "from keras import utils\n",
        "from keras.callbacks import ReduceLROnPlateau, EarlyStopping\n",
        "\n",
        "# nltk\n",
        "import nltk\n",
        "from nltk.corpus import stopwords\n",
        "from  nltk.stem import SnowballStemmer\n",
        "\n",
        "# Word2vec\n",
        "import gensim\n",
        "\n",
        "# Utility\n",
        "import re\n",
        "import numpy as np\n",
        "import os\n",
        "from collections import Counter\n",
        "import logging\n",
        "import time\n",
        "import pickle\n",
        "import itertools\n",
        "\n",
        "# Set log\n",
        "logging.basicConfig(format='%(asctime)s : %(levelname)s : %(message)s', level=logging.INFO)"
      ],
      "execution_count": null,
      "outputs": []
    },
    {
      "metadata": {
        "trusted": true,
        "_uuid": "35e1a89dead5fd160e4c9a024a21d2e569fc89ff",
        "colab": {
          "base_uri": "https://localhost:8080/"
        },
        "id": "Jqd3vCS4HOrr",
        "outputId": "fb263f49-8639-4941-9d10-5c66197b8970"
      },
      "cell_type": "code",
      "source": [
        "nltk.download('stopwords')"
      ],
      "execution_count": null,
      "outputs": [
        {
          "output_type": "stream",
          "name": "stdout",
          "text": [
            "[nltk_data] Downloading package stopwords to /root/nltk_data...\n",
            "[nltk_data]   Unzipping corpora/stopwords.zip.\n"
          ]
        },
        {
          "output_type": "execute_result",
          "data": {
            "text/plain": [
              "True"
            ]
          },
          "metadata": {},
          "execution_count": 4
        }
      ]
    },
    {
      "metadata": {
        "_uuid": "e8b01a07df001e4abcc745900336c4db06e455f3",
        "id": "UvJqiKdlHOrr"
      },
      "cell_type": "markdown",
      "source": [
        "### Settings"
      ]
    },
    {
      "metadata": {
        "trusted": true,
        "_uuid": "180f0dd2a95419e4602b5c0229822b0111c826f6",
        "id": "XKHp0cFvHOrr"
      },
      "cell_type": "code",
      "source": [
        "# DATASET\n",
        "dataset_columns = [\"target\", \"ids\", \"date\", \"flag\", \"user\", \"text\"]\n",
        "dataset_encoding = \"ISO-8859-1\"\n",
        "train_size = 0.8\n",
        "\n",
        "# TEXT CLENAING\n",
        "RE_exp = \"@\\S+|https?:\\S+|http?:\\S|[^A-Za-z0-9]+\"\n",
        "\n",
        "# WORD2VEC\n",
        "w2v_size = 300\n",
        "w2v_window = 7\n",
        "w2v_epoch = 32\n",
        "w2v_min_count = 10\n",
        "\n",
        "# KERAS\n",
        "seq_len = 300\n",
        "EPOCHS = 8\n",
        "BATCH_SIZE = 1024\n",
        "\n",
        "# SENTIMENT\n",
        "POSITIVE = \"POSITIVE\"\n",
        "NEGATIVE = \"NEGATIVE\"\n",
        "NEUTRAL = \"NEUTRAL\"\n",
        "sent_thres = (0.4, 0.7)"
      ],
      "execution_count": null,
      "outputs": []
    },
    {
      "metadata": {
        "_uuid": "1c3beecc618be68480b3d4f0de08d9d863da1dc1",
        "id": "EomFlZw7HOrs"
      },
      "cell_type": "markdown",
      "source": [
        "### Read Dataset"
      ]
    },
    {
      "cell_type": "code",
      "source": [
        "from google.colab import drive\n",
        "\n",
        "drive.mount('/content/gdrive')"
      ],
      "metadata": {
        "colab": {
          "base_uri": "https://localhost:8080/"
        },
        "id": "cE5SeLYMHfd-",
        "outputId": "369cd463-9087-4358-b122-507679836d37"
      },
      "execution_count": null,
      "outputs": [
        {
          "output_type": "stream",
          "name": "stdout",
          "text": [
            "Mounted at /content/gdrive\n"
          ]
        }
      ]
    },
    {
      "metadata": {
        "trusted": true,
        "_uuid": "bba8f91cd70de4f5ea0fb0870ae2029b6e3dcc24",
        "id": "gXYigBw0HOrt"
      },
      "cell_type": "code",
      "source": [
        "dataset_path = \"/content/gdrive/MyDrive/sentiment.csv\"\n",
        "df = pd.read_csv(dataset_path, encoding = dataset_encoding , names = dataset_columns)"
      ],
      "execution_count": null,
      "outputs": []
    },
    {
      "metadata": {
        "trusted": true,
        "_uuid": "936d499c00c4f1648bc16ca9d283c3b39be7fb10",
        "colab": {
          "base_uri": "https://localhost:8080/"
        },
        "id": "JZysTo7YHOru",
        "outputId": "9089ccd0-9cca-4e10-cfe3-e0ae87f566d4"
      },
      "cell_type": "code",
      "source": [
        "print(\"Dataset size:\", len(df))"
      ],
      "execution_count": null,
      "outputs": [
        {
          "output_type": "stream",
          "name": "stdout",
          "text": [
            "Dataset size: 1600000\n"
          ]
        }
      ]
    },
    {
      "metadata": {
        "trusted": true,
        "_uuid": "7486ed895b813c5246f97b31b6162b0f65ff763b",
        "colab": {
          "base_uri": "https://localhost:8080/",
          "height": 206
        },
        "id": "tsoGFuk3HOru",
        "outputId": "552084a9-4150-4248-ecce-366bb992b62c"
      },
      "cell_type": "code",
      "source": [
        "df.head(5)"
      ],
      "execution_count": null,
      "outputs": [
        {
          "output_type": "execute_result",
          "data": {
            "text/plain": [
              "   target         ids                          date      flag  \\\n",
              "0       0  1467810369  Mon Apr 06 22:19:45 PDT 2009  NO_QUERY   \n",
              "1       0  1467810672  Mon Apr 06 22:19:49 PDT 2009  NO_QUERY   \n",
              "2       0  1467810917  Mon Apr 06 22:19:53 PDT 2009  NO_QUERY   \n",
              "3       0  1467811184  Mon Apr 06 22:19:57 PDT 2009  NO_QUERY   \n",
              "4       0  1467811193  Mon Apr 06 22:19:57 PDT 2009  NO_QUERY   \n",
              "\n",
              "              user                                               text  \n",
              "0  _TheSpecialOne_  @switchfoot http://twitpic.com/2y1zl - Awww, t...  \n",
              "1    scotthamilton  is upset that he can't update his Facebook by ...  \n",
              "2         mattycus  @Kenichan I dived many times for the ball. Man...  \n",
              "3          ElleCTF    my whole body feels itchy and like its on fire   \n",
              "4           Karoli  @nationwideclass no, it's not behaving at all....  "
            ],
            "text/html": [
              "\n",
              "  <div id=\"df-ee91c4d7-d129-4bdc-895e-d4c9322e327c\">\n",
              "    <div class=\"colab-df-container\">\n",
              "      <div>\n",
              "<style scoped>\n",
              "    .dataframe tbody tr th:only-of-type {\n",
              "        vertical-align: middle;\n",
              "    }\n",
              "\n",
              "    .dataframe tbody tr th {\n",
              "        vertical-align: top;\n",
              "    }\n",
              "\n",
              "    .dataframe thead th {\n",
              "        text-align: right;\n",
              "    }\n",
              "</style>\n",
              "<table border=\"1\" class=\"dataframe\">\n",
              "  <thead>\n",
              "    <tr style=\"text-align: right;\">\n",
              "      <th></th>\n",
              "      <th>target</th>\n",
              "      <th>ids</th>\n",
              "      <th>date</th>\n",
              "      <th>flag</th>\n",
              "      <th>user</th>\n",
              "      <th>text</th>\n",
              "    </tr>\n",
              "  </thead>\n",
              "  <tbody>\n",
              "    <tr>\n",
              "      <th>0</th>\n",
              "      <td>0</td>\n",
              "      <td>1467810369</td>\n",
              "      <td>Mon Apr 06 22:19:45 PDT 2009</td>\n",
              "      <td>NO_QUERY</td>\n",
              "      <td>_TheSpecialOne_</td>\n",
              "      <td>@switchfoot http://twitpic.com/2y1zl - Awww, t...</td>\n",
              "    </tr>\n",
              "    <tr>\n",
              "      <th>1</th>\n",
              "      <td>0</td>\n",
              "      <td>1467810672</td>\n",
              "      <td>Mon Apr 06 22:19:49 PDT 2009</td>\n",
              "      <td>NO_QUERY</td>\n",
              "      <td>scotthamilton</td>\n",
              "      <td>is upset that he can't update his Facebook by ...</td>\n",
              "    </tr>\n",
              "    <tr>\n",
              "      <th>2</th>\n",
              "      <td>0</td>\n",
              "      <td>1467810917</td>\n",
              "      <td>Mon Apr 06 22:19:53 PDT 2009</td>\n",
              "      <td>NO_QUERY</td>\n",
              "      <td>mattycus</td>\n",
              "      <td>@Kenichan I dived many times for the ball. Man...</td>\n",
              "    </tr>\n",
              "    <tr>\n",
              "      <th>3</th>\n",
              "      <td>0</td>\n",
              "      <td>1467811184</td>\n",
              "      <td>Mon Apr 06 22:19:57 PDT 2009</td>\n",
              "      <td>NO_QUERY</td>\n",
              "      <td>ElleCTF</td>\n",
              "      <td>my whole body feels itchy and like its on fire</td>\n",
              "    </tr>\n",
              "    <tr>\n",
              "      <th>4</th>\n",
              "      <td>0</td>\n",
              "      <td>1467811193</td>\n",
              "      <td>Mon Apr 06 22:19:57 PDT 2009</td>\n",
              "      <td>NO_QUERY</td>\n",
              "      <td>Karoli</td>\n",
              "      <td>@nationwideclass no, it's not behaving at all....</td>\n",
              "    </tr>\n",
              "  </tbody>\n",
              "</table>\n",
              "</div>\n",
              "      <button class=\"colab-df-convert\" onclick=\"convertToInteractive('df-ee91c4d7-d129-4bdc-895e-d4c9322e327c')\"\n",
              "              title=\"Convert this dataframe to an interactive table.\"\n",
              "              style=\"display:none;\">\n",
              "        \n",
              "  <svg xmlns=\"http://www.w3.org/2000/svg\" height=\"24px\"viewBox=\"0 0 24 24\"\n",
              "       width=\"24px\">\n",
              "    <path d=\"M0 0h24v24H0V0z\" fill=\"none\"/>\n",
              "    <path d=\"M18.56 5.44l.94 2.06.94-2.06 2.06-.94-2.06-.94-.94-2.06-.94 2.06-2.06.94zm-11 1L8.5 8.5l.94-2.06 2.06-.94-2.06-.94L8.5 2.5l-.94 2.06-2.06.94zm10 10l.94 2.06.94-2.06 2.06-.94-2.06-.94-.94-2.06-.94 2.06-2.06.94z\"/><path d=\"M17.41 7.96l-1.37-1.37c-.4-.4-.92-.59-1.43-.59-.52 0-1.04.2-1.43.59L10.3 9.45l-7.72 7.72c-.78.78-.78 2.05 0 2.83L4 21.41c.39.39.9.59 1.41.59.51 0 1.02-.2 1.41-.59l7.78-7.78 2.81-2.81c.8-.78.8-2.07 0-2.86zM5.41 20L4 18.59l7.72-7.72 1.47 1.35L5.41 20z\"/>\n",
              "  </svg>\n",
              "      </button>\n",
              "      \n",
              "  <style>\n",
              "    .colab-df-container {\n",
              "      display:flex;\n",
              "      flex-wrap:wrap;\n",
              "      gap: 12px;\n",
              "    }\n",
              "\n",
              "    .colab-df-convert {\n",
              "      background-color: #E8F0FE;\n",
              "      border: none;\n",
              "      border-radius: 50%;\n",
              "      cursor: pointer;\n",
              "      display: none;\n",
              "      fill: #1967D2;\n",
              "      height: 32px;\n",
              "      padding: 0 0 0 0;\n",
              "      width: 32px;\n",
              "    }\n",
              "\n",
              "    .colab-df-convert:hover {\n",
              "      background-color: #E2EBFA;\n",
              "      box-shadow: 0px 1px 2px rgba(60, 64, 67, 0.3), 0px 1px 3px 1px rgba(60, 64, 67, 0.15);\n",
              "      fill: #174EA6;\n",
              "    }\n",
              "\n",
              "    [theme=dark] .colab-df-convert {\n",
              "      background-color: #3B4455;\n",
              "      fill: #D2E3FC;\n",
              "    }\n",
              "\n",
              "    [theme=dark] .colab-df-convert:hover {\n",
              "      background-color: #434B5C;\n",
              "      box-shadow: 0px 1px 3px 1px rgba(0, 0, 0, 0.15);\n",
              "      filter: drop-shadow(0px 1px 2px rgba(0, 0, 0, 0.3));\n",
              "      fill: #FFFFFF;\n",
              "    }\n",
              "  </style>\n",
              "\n",
              "      <script>\n",
              "        const buttonEl =\n",
              "          document.querySelector('#df-ee91c4d7-d129-4bdc-895e-d4c9322e327c button.colab-df-convert');\n",
              "        buttonEl.style.display =\n",
              "          google.colab.kernel.accessAllowed ? 'block' : 'none';\n",
              "\n",
              "        async function convertToInteractive(key) {\n",
              "          const element = document.querySelector('#df-ee91c4d7-d129-4bdc-895e-d4c9322e327c');\n",
              "          const dataTable =\n",
              "            await google.colab.kernel.invokeFunction('convertToInteractive',\n",
              "                                                     [key], {});\n",
              "          if (!dataTable) return;\n",
              "\n",
              "          const docLinkHtml = 'Like what you see? Visit the ' +\n",
              "            '<a target=\"_blank\" href=https://colab.research.google.com/notebooks/data_table.ipynb>data table notebook</a>'\n",
              "            + ' to learn more about interactive tables.';\n",
              "          element.innerHTML = '';\n",
              "          dataTable['output_type'] = 'display_data';\n",
              "          await google.colab.output.renderOutput(dataTable, element);\n",
              "          const docLink = document.createElement('div');\n",
              "          docLink.innerHTML = docLinkHtml;\n",
              "          element.appendChild(docLink);\n",
              "        }\n",
              "      </script>\n",
              "    </div>\n",
              "  </div>\n",
              "  "
            ]
          },
          "metadata": {},
          "execution_count": 9
        }
      ]
    },
    {
      "metadata": {
        "_uuid": "3f9a7bb129e184967b13261fb5d253af451c75c5",
        "id": "7ZU7_ji8HOru"
      },
      "cell_type": "markdown",
      "source": [
        "### Map target label to String\n",
        "* **0** -> **NEGATIVE**\n",
        "* **2** -> **NEUTRAL**\n",
        "* **4** -> **POSITIVE**"
      ]
    },
    {
      "metadata": {
        "trusted": true,
        "_uuid": "14074b59106cb9550440839e48b832223fc9502f",
        "id": "W60ZFIIPHOru"
      },
      "cell_type": "code",
      "source": [
        "decode_map = {0: \"NEGATIVE\", 2: \"NEUTRAL\", 4: \"POSITIVE\"}\n",
        "\n",
        "def decode_sentiment(label):\n",
        "    return decode_map[int(label)]"
      ],
      "execution_count": null,
      "outputs": []
    },
    {
      "metadata": {
        "trusted": true,
        "_uuid": "4449d473187f647a195a6ac6986b009da32a7f4b",
        "colab": {
          "base_uri": "https://localhost:8080/"
        },
        "id": "uWoDyy21HOrv",
        "outputId": "b9391a61-c805-4221-d938-12fba5d83d47"
      },
      "cell_type": "code",
      "source": [
        "%%time\n",
        "df.target = df.target.apply(lambda x: decode_sentiment(x))"
      ],
      "execution_count": null,
      "outputs": [
        {
          "output_type": "stream",
          "name": "stdout",
          "text": [
            "CPU times: user 423 ms, sys: 6.17 ms, total: 429 ms\n",
            "Wall time: 422 ms\n"
          ]
        }
      ]
    },
    {
      "metadata": {
        "_uuid": "4329b1573518b03e497213efa7676220734ebb4b",
        "id": "6t1tT365HOrv"
      },
      "cell_type": "markdown",
      "source": [
        "### Pre-Process dataset"
      ]
    },
    {
      "metadata": {
        "trusted": true,
        "_uuid": "8aeee8b7b9ea11b749c7f91cd4787a7b50ed1a91",
        "id": "6duvycQaHOrw"
      },
      "cell_type": "code",
      "source": [
        "stop_words = stopwords.words(\"english\")\n",
        "stemmer = SnowballStemmer(\"english\")"
      ],
      "execution_count": null,
      "outputs": []
    },
    {
      "metadata": {
        "trusted": true,
        "_uuid": "649ebcb97969b9ac4301138783704bb3d7846a49",
        "id": "Kkin377EHOrw"
      },
      "cell_type": "code",
      "source": [
        "def preprocess(text, stem=False):\n",
        "    # Remove link,user and special characters\n",
        "    text = re.sub(RE_exp, ' ', str(text).lower()).strip()\n",
        "    tokens = []\n",
        "    for token in text.split():\n",
        "        if token not in stop_words:\n",
        "            if stem:\n",
        "                tokens.append(stemmer.stem(token))\n",
        "            else:\n",
        "                tokens.append(token)\n",
        "    return \" \".join(tokens)"
      ],
      "execution_count": null,
      "outputs": []
    },
    {
      "metadata": {
        "trusted": true,
        "_uuid": "f7f3e77ab9291d14687c49e71ba9b2b1e3323432",
        "colab": {
          "base_uri": "https://localhost:8080/"
        },
        "id": "O9X1zlrkHOrw",
        "outputId": "a6dd5216-3cb7-44ce-9c3c-1c6e128e73ae"
      },
      "cell_type": "code",
      "source": [
        "%%time\n",
        "df.text = df.text.apply(lambda x: preprocess(x))"
      ],
      "execution_count": null,
      "outputs": [
        {
          "output_type": "stream",
          "name": "stdout",
          "text": [
            "CPU times: user 56.2 s, sys: 278 ms, total: 56.5 s\n",
            "Wall time: 56.9 s\n"
          ]
        }
      ]
    },
    {
      "metadata": {
        "trusted": true,
        "_uuid": "f5f9714a8507409bbe780eebf2855a33e8e6ba37",
        "id": "WJ2TAb65HOrw"
      },
      "cell_type": "markdown",
      "source": [
        "### Split train and test"
      ]
    },
    {
      "metadata": {
        "trusted": true,
        "_uuid": "d2b1179c968e3f3910c790ecf0c5b2cbb34b0e68",
        "colab": {
          "base_uri": "https://localhost:8080/"
        },
        "id": "6lsjgBVdHOrw",
        "outputId": "3a76f014-cb49-40c8-c2be-ef9239d46263"
      },
      "cell_type": "code",
      "source": [
        "df_train, df_test = train_test_split(df, test_size=1-train_size, random_state=42)\n",
        "print(\"TRAIN size:\", len(df_train))\n",
        "print(\"TEST size:\", len(df_test))"
      ],
      "execution_count": null,
      "outputs": [
        {
          "output_type": "stream",
          "name": "stdout",
          "text": [
            "TRAIN size: 1280000\n",
            "TEST size: 320000\n"
          ]
        }
      ]
    },
    {
      "metadata": {
        "_uuid": "f08a28aab2c3d16d8b9681a7d5d07587153a1cd6",
        "id": "8nVQYyCZHOrx"
      },
      "cell_type": "markdown",
      "source": [
        "### Word2Vec "
      ]
    },
    {
      "metadata": {
        "trusted": true,
        "_uuid": "2461bf564de1b4414841933d0c1d1bee5f5cc5a6",
        "colab": {
          "base_uri": "https://localhost:8080/"
        },
        "id": "-NnRNdDFHOrx",
        "outputId": "ba155a7e-46d1-4774-c5cc-5241e59b1314"
      },
      "cell_type": "code",
      "source": [
        "%%time\n",
        "documents = [_text.split() for _text in df_train.text] "
      ],
      "execution_count": null,
      "outputs": [
        {
          "output_type": "stream",
          "name": "stdout",
          "text": [
            "CPU times: user 2.89 s, sys: 367 ms, total: 3.26 s\n",
            "Wall time: 3.24 s\n"
          ]
        }
      ]
    },
    {
      "metadata": {
        "trusted": true,
        "_uuid": "8e19b9f25801ba86420decc266d2b3e6fb44f1ea",
        "id": "DiQ-3Wd3HOrx"
      },
      "cell_type": "code",
      "source": [
        "w2v_model = gensim.models.word2vec.Word2Vec(size=w2v_size, \n",
        "                                            window=w2v_window, \n",
        "                                            min_count=w2v_min_count, \n",
        "                                            workers=8)"
      ],
      "execution_count": null,
      "outputs": []
    },
    {
      "metadata": {
        "trusted": true,
        "_uuid": "58d655af07653c594bec6bebcfb302a973b0ad9c",
        "colab": {
          "base_uri": "https://localhost:8080/"
        },
        "id": "5xIfbY7lHOrx",
        "outputId": "ed614c26-7550-4cb5-9c28-7bf6f80b70f0"
      },
      "cell_type": "code",
      "source": [
        "w2v_model.build_vocab(documents)"
      ],
      "execution_count": null,
      "outputs": [
        {
          "output_type": "stream",
          "name": "stderr",
          "text": [
            "2022-05-01 05:46:15,984 : INFO : collecting all words and their counts\n",
            "2022-05-01 05:46:15,985 : INFO : PROGRESS: at sentence #0, processed 0 words, keeping 0 word types\n",
            "2022-05-01 05:46:16,004 : INFO : PROGRESS: at sentence #10000, processed 72565 words, keeping 14005 word types\n",
            "2022-05-01 05:46:16,023 : INFO : PROGRESS: at sentence #20000, processed 144393 words, keeping 21587 word types\n",
            "2022-05-01 05:46:16,041 : INFO : PROGRESS: at sentence #30000, processed 215826 words, keeping 27541 word types\n",
            "2022-05-01 05:46:16,062 : INFO : PROGRESS: at sentence #40000, processed 288271 words, keeping 32764 word types\n",
            "2022-05-01 05:46:16,080 : INFO : PROGRESS: at sentence #50000, processed 359772 words, keeping 37587 word types\n",
            "2022-05-01 05:46:16,100 : INFO : PROGRESS: at sentence #60000, processed 431431 words, keeping 42198 word types\n",
            "2022-05-01 05:46:16,121 : INFO : PROGRESS: at sentence #70000, processed 503103 words, keeping 46458 word types\n",
            "2022-05-01 05:46:16,140 : INFO : PROGRESS: at sentence #80000, processed 575709 words, keeping 50476 word types\n",
            "2022-05-01 05:46:16,160 : INFO : PROGRESS: at sentence #90000, processed 647100 words, keeping 54140 word types\n",
            "2022-05-01 05:46:16,180 : INFO : PROGRESS: at sentence #100000, processed 718681 words, keeping 57777 word types\n",
            "2022-05-01 05:46:16,202 : INFO : PROGRESS: at sentence #110000, processed 790696 words, keeping 61207 word types\n",
            "2022-05-01 05:46:16,223 : INFO : PROGRESS: at sentence #120000, processed 863134 words, keeping 64583 word types\n",
            "2022-05-01 05:46:16,243 : INFO : PROGRESS: at sentence #130000, processed 935111 words, keeping 67865 word types\n",
            "2022-05-01 05:46:16,263 : INFO : PROGRESS: at sentence #140000, processed 1006668 words, keeping 70966 word types\n",
            "2022-05-01 05:46:16,282 : INFO : PROGRESS: at sentence #150000, processed 1078512 words, keeping 74119 word types\n",
            "2022-05-01 05:46:16,302 : INFO : PROGRESS: at sentence #160000, processed 1149914 words, keeping 77187 word types\n",
            "2022-05-01 05:46:16,321 : INFO : PROGRESS: at sentence #170000, processed 1222145 words, keeping 80267 word types\n",
            "2022-05-01 05:46:16,343 : INFO : PROGRESS: at sentence #180000, processed 1294708 words, keeping 83393 word types\n",
            "2022-05-01 05:46:16,363 : INFO : PROGRESS: at sentence #190000, processed 1367608 words, keeping 86329 word types\n",
            "2022-05-01 05:46:16,385 : INFO : PROGRESS: at sentence #200000, processed 1439469 words, keeping 89103 word types\n",
            "2022-05-01 05:46:16,403 : INFO : PROGRESS: at sentence #210000, processed 1512099 words, keeping 91840 word types\n",
            "2022-05-01 05:46:16,424 : INFO : PROGRESS: at sentence #220000, processed 1584149 words, keeping 94636 word types\n",
            "2022-05-01 05:46:16,443 : INFO : PROGRESS: at sentence #230000, processed 1656354 words, keeping 97353 word types\n",
            "2022-05-01 05:46:16,463 : INFO : PROGRESS: at sentence #240000, processed 1728573 words, keeping 99975 word types\n",
            "2022-05-01 05:46:16,483 : INFO : PROGRESS: at sentence #250000, processed 1801102 words, keeping 102594 word types\n",
            "2022-05-01 05:46:16,503 : INFO : PROGRESS: at sentence #260000, processed 1873103 words, keeping 105162 word types\n",
            "2022-05-01 05:46:16,525 : INFO : PROGRESS: at sentence #270000, processed 1945245 words, keeping 107626 word types\n",
            "2022-05-01 05:46:16,547 : INFO : PROGRESS: at sentence #280000, processed 2017163 words, keeping 110141 word types\n",
            "2022-05-01 05:46:16,567 : INFO : PROGRESS: at sentence #290000, processed 2089574 words, keeping 112539 word types\n",
            "2022-05-01 05:46:16,589 : INFO : PROGRESS: at sentence #300000, processed 2160996 words, keeping 114893 word types\n",
            "2022-05-01 05:46:16,611 : INFO : PROGRESS: at sentence #310000, processed 2232913 words, keeping 117298 word types\n",
            "2022-05-01 05:46:16,630 : INFO : PROGRESS: at sentence #320000, processed 2305039 words, keeping 119693 word types\n",
            "2022-05-01 05:46:16,651 : INFO : PROGRESS: at sentence #330000, processed 2377119 words, keeping 122131 word types\n",
            "2022-05-01 05:46:16,670 : INFO : PROGRESS: at sentence #340000, processed 2449370 words, keeping 124416 word types\n",
            "2022-05-01 05:46:16,690 : INFO : PROGRESS: at sentence #350000, processed 2521564 words, keeping 126669 word types\n",
            "2022-05-01 05:46:16,710 : INFO : PROGRESS: at sentence #360000, processed 2593681 words, keeping 128912 word types\n",
            "2022-05-01 05:46:16,732 : INFO : PROGRESS: at sentence #370000, processed 2665692 words, keeping 131135 word types\n",
            "2022-05-01 05:46:16,755 : INFO : PROGRESS: at sentence #380000, processed 2737859 words, keeping 133403 word types\n",
            "2022-05-01 05:46:16,778 : INFO : PROGRESS: at sentence #390000, processed 2809848 words, keeping 135551 word types\n",
            "2022-05-01 05:46:16,804 : INFO : PROGRESS: at sentence #400000, processed 2882438 words, keeping 137742 word types\n",
            "2022-05-01 05:46:16,824 : INFO : PROGRESS: at sentence #410000, processed 2954075 words, keeping 139909 word types\n",
            "2022-05-01 05:46:16,850 : INFO : PROGRESS: at sentence #420000, processed 3026247 words, keeping 142144 word types\n",
            "2022-05-01 05:46:16,872 : INFO : PROGRESS: at sentence #430000, processed 3098659 words, keeping 144364 word types\n",
            "2022-05-01 05:46:16,894 : INFO : PROGRESS: at sentence #440000, processed 3170663 words, keeping 146439 word types\n",
            "2022-05-01 05:46:16,918 : INFO : PROGRESS: at sentence #450000, processed 3243344 words, keeping 148526 word types\n",
            "2022-05-01 05:46:16,940 : INFO : PROGRESS: at sentence #460000, processed 3315466 words, keeping 150610 word types\n",
            "2022-05-01 05:46:16,961 : INFO : PROGRESS: at sentence #470000, processed 3388295 words, keeping 152737 word types\n",
            "2022-05-01 05:46:16,983 : INFO : PROGRESS: at sentence #480000, processed 3460120 words, keeping 154757 word types\n",
            "2022-05-01 05:46:17,006 : INFO : PROGRESS: at sentence #490000, processed 3531883 words, keeping 156825 word types\n",
            "2022-05-01 05:46:17,029 : INFO : PROGRESS: at sentence #500000, processed 3604217 words, keeping 158859 word types\n",
            "2022-05-01 05:46:17,053 : INFO : PROGRESS: at sentence #510000, processed 3676427 words, keeping 160852 word types\n",
            "2022-05-01 05:46:17,076 : INFO : PROGRESS: at sentence #520000, processed 3749045 words, keeping 162863 word types\n",
            "2022-05-01 05:46:17,097 : INFO : PROGRESS: at sentence #530000, processed 3821622 words, keeping 164929 word types\n",
            "2022-05-01 05:46:17,118 : INFO : PROGRESS: at sentence #540000, processed 3893627 words, keeping 166840 word types\n",
            "2022-05-01 05:46:17,137 : INFO : PROGRESS: at sentence #550000, processed 3965477 words, keeping 168799 word types\n",
            "2022-05-01 05:46:17,158 : INFO : PROGRESS: at sentence #560000, processed 4038050 words, keeping 170802 word types\n",
            "2022-05-01 05:46:17,178 : INFO : PROGRESS: at sentence #570000, processed 4110296 words, keeping 172760 word types\n",
            "2022-05-01 05:46:17,203 : INFO : PROGRESS: at sentence #580000, processed 4182385 words, keeping 174635 word types\n",
            "2022-05-01 05:46:17,236 : INFO : PROGRESS: at sentence #590000, processed 4254632 words, keeping 176470 word types\n",
            "2022-05-01 05:46:17,258 : INFO : PROGRESS: at sentence #600000, processed 4326859 words, keeping 178350 word types\n",
            "2022-05-01 05:46:17,280 : INFO : PROGRESS: at sentence #610000, processed 4399183 words, keeping 180290 word types\n",
            "2022-05-01 05:46:17,301 : INFO : PROGRESS: at sentence #620000, processed 4471343 words, keeping 182129 word types\n",
            "2022-05-01 05:46:17,323 : INFO : PROGRESS: at sentence #630000, processed 4543286 words, keeping 184005 word types\n",
            "2022-05-01 05:46:17,345 : INFO : PROGRESS: at sentence #640000, processed 4615780 words, keeping 185835 word types\n",
            "2022-05-01 05:46:17,368 : INFO : PROGRESS: at sentence #650000, processed 4688481 words, keeping 187705 word types\n",
            "2022-05-01 05:46:17,389 : INFO : PROGRESS: at sentence #660000, processed 4760481 words, keeping 189439 word types\n",
            "2022-05-01 05:46:17,413 : INFO : PROGRESS: at sentence #670000, processed 4833024 words, keeping 191232 word types\n",
            "2022-05-01 05:46:17,434 : INFO : PROGRESS: at sentence #680000, processed 4904516 words, keeping 193177 word types\n",
            "2022-05-01 05:46:17,455 : INFO : PROGRESS: at sentence #690000, processed 4976968 words, keeping 194960 word types\n",
            "2022-05-01 05:46:17,475 : INFO : PROGRESS: at sentence #700000, processed 5049412 words, keeping 196725 word types\n",
            "2022-05-01 05:46:17,496 : INFO : PROGRESS: at sentence #710000, processed 5121976 words, keeping 198516 word types\n",
            "2022-05-01 05:46:17,517 : INFO : PROGRESS: at sentence #720000, processed 5193881 words, keeping 200325 word types\n",
            "2022-05-01 05:46:17,537 : INFO : PROGRESS: at sentence #730000, processed 5265467 words, keeping 202133 word types\n",
            "2022-05-01 05:46:17,560 : INFO : PROGRESS: at sentence #740000, processed 5337518 words, keeping 203818 word types\n",
            "2022-05-01 05:46:17,580 : INFO : PROGRESS: at sentence #750000, processed 5409321 words, keeping 205535 word types\n",
            "2022-05-01 05:46:17,602 : INFO : PROGRESS: at sentence #760000, processed 5481512 words, keeping 207282 word types\n",
            "2022-05-01 05:46:17,623 : INFO : PROGRESS: at sentence #770000, processed 5554093 words, keeping 209076 word types\n",
            "2022-05-01 05:46:17,643 : INFO : PROGRESS: at sentence #780000, processed 5625382 words, keeping 210805 word types\n",
            "2022-05-01 05:46:17,663 : INFO : PROGRESS: at sentence #790000, processed 5698066 words, keeping 212618 word types\n",
            "2022-05-01 05:46:17,688 : INFO : PROGRESS: at sentence #800000, processed 5770880 words, keeping 214374 word types\n",
            "2022-05-01 05:46:17,710 : INFO : PROGRESS: at sentence #810000, processed 5843418 words, keeping 216009 word types\n",
            "2022-05-01 05:46:17,732 : INFO : PROGRESS: at sentence #820000, processed 5915628 words, keeping 217804 word types\n",
            "2022-05-01 05:46:17,751 : INFO : PROGRESS: at sentence #830000, processed 5987499 words, keeping 219585 word types\n",
            "2022-05-01 05:46:17,773 : INFO : PROGRESS: at sentence #840000, processed 6058973 words, keeping 221344 word types\n",
            "2022-05-01 05:46:17,795 : INFO : PROGRESS: at sentence #850000, processed 6131125 words, keeping 223002 word types\n",
            "2022-05-01 05:46:17,816 : INFO : PROGRESS: at sentence #860000, processed 6202951 words, keeping 224643 word types\n",
            "2022-05-01 05:46:17,839 : INFO : PROGRESS: at sentence #870000, processed 6275461 words, keeping 226362 word types\n",
            "2022-05-01 05:46:17,860 : INFO : PROGRESS: at sentence #880000, processed 6347661 words, keeping 227986 word types\n",
            "2022-05-01 05:46:17,881 : INFO : PROGRESS: at sentence #890000, processed 6419806 words, keeping 229634 word types\n",
            "2022-05-01 05:46:17,904 : INFO : PROGRESS: at sentence #900000, processed 6491644 words, keeping 231389 word types\n",
            "2022-05-01 05:46:17,925 : INFO : PROGRESS: at sentence #910000, processed 6564022 words, keeping 233050 word types\n",
            "2022-05-01 05:46:17,946 : INFO : PROGRESS: at sentence #920000, processed 6636228 words, keeping 234686 word types\n",
            "2022-05-01 05:46:17,966 : INFO : PROGRESS: at sentence #930000, processed 6708573 words, keeping 236393 word types\n",
            "2022-05-01 05:46:17,987 : INFO : PROGRESS: at sentence #940000, processed 6779956 words, keeping 238052 word types\n",
            "2022-05-01 05:46:18,008 : INFO : PROGRESS: at sentence #950000, processed 6852599 words, keeping 239716 word types\n",
            "2022-05-01 05:46:18,029 : INFO : PROGRESS: at sentence #960000, processed 6924717 words, keeping 241354 word types\n",
            "2022-05-01 05:46:18,051 : INFO : PROGRESS: at sentence #970000, processed 6996992 words, keeping 242980 word types\n",
            "2022-05-01 05:46:18,073 : INFO : PROGRESS: at sentence #980000, processed 7068402 words, keeping 244646 word types\n",
            "2022-05-01 05:46:18,093 : INFO : PROGRESS: at sentence #990000, processed 7140346 words, keeping 246186 word types\n",
            "2022-05-01 05:46:18,115 : INFO : PROGRESS: at sentence #1000000, processed 7211757 words, keeping 247726 word types\n",
            "2022-05-01 05:46:18,136 : INFO : PROGRESS: at sentence #1010000, processed 7283267 words, keeping 249288 word types\n",
            "2022-05-01 05:46:18,157 : INFO : PROGRESS: at sentence #1020000, processed 7355299 words, keeping 250860 word types\n",
            "2022-05-01 05:46:18,179 : INFO : PROGRESS: at sentence #1030000, processed 7426918 words, keeping 252366 word types\n",
            "2022-05-01 05:46:18,200 : INFO : PROGRESS: at sentence #1040000, processed 7498815 words, keeping 253930 word types\n",
            "2022-05-01 05:46:18,223 : INFO : PROGRESS: at sentence #1050000, processed 7570499 words, keeping 255471 word types\n",
            "2022-05-01 05:46:18,245 : INFO : PROGRESS: at sentence #1060000, processed 7643251 words, keeping 257035 word types\n",
            "2022-05-01 05:46:18,268 : INFO : PROGRESS: at sentence #1070000, processed 7714721 words, keeping 258509 word types\n",
            "2022-05-01 05:46:18,291 : INFO : PROGRESS: at sentence #1080000, processed 7787371 words, keeping 260071 word types\n",
            "2022-05-01 05:46:18,313 : INFO : PROGRESS: at sentence #1090000, processed 7859336 words, keeping 261683 word types\n",
            "2022-05-01 05:46:18,335 : INFO : PROGRESS: at sentence #1100000, processed 7932029 words, keeping 263278 word types\n",
            "2022-05-01 05:46:18,357 : INFO : PROGRESS: at sentence #1110000, processed 8004146 words, keeping 264800 word types\n",
            "2022-05-01 05:46:18,383 : INFO : PROGRESS: at sentence #1120000, processed 8075880 words, keeping 266309 word types\n",
            "2022-05-01 05:46:18,405 : INFO : PROGRESS: at sentence #1130000, processed 8148163 words, keeping 267826 word types\n",
            "2022-05-01 05:46:18,426 : INFO : PROGRESS: at sentence #1140000, processed 8220487 words, keeping 269391 word types\n",
            "2022-05-01 05:46:18,449 : INFO : PROGRESS: at sentence #1150000, processed 8292498 words, keeping 270894 word types\n",
            "2022-05-01 05:46:18,471 : INFO : PROGRESS: at sentence #1160000, processed 8363838 words, keeping 272400 word types\n",
            "2022-05-01 05:46:18,493 : INFO : PROGRESS: at sentence #1170000, processed 8435510 words, keeping 273970 word types\n",
            "2022-05-01 05:46:18,515 : INFO : PROGRESS: at sentence #1180000, processed 8507795 words, keeping 275521 word types\n",
            "2022-05-01 05:46:18,536 : INFO : PROGRESS: at sentence #1190000, processed 8579080 words, keeping 277007 word types\n",
            "2022-05-01 05:46:18,559 : INFO : PROGRESS: at sentence #1200000, processed 8650606 words, keeping 278457 word types\n",
            "2022-05-01 05:46:18,579 : INFO : PROGRESS: at sentence #1210000, processed 8721893 words, keeping 279959 word types\n",
            "2022-05-01 05:46:18,600 : INFO : PROGRESS: at sentence #1220000, processed 8793795 words, keeping 281427 word types\n",
            "2022-05-01 05:46:18,624 : INFO : PROGRESS: at sentence #1230000, processed 8865726 words, keeping 282981 word types\n",
            "2022-05-01 05:46:18,644 : INFO : PROGRESS: at sentence #1240000, processed 8938173 words, keeping 284542 word types\n",
            "2022-05-01 05:46:18,664 : INFO : PROGRESS: at sentence #1250000, processed 9010842 words, keeping 286064 word types\n",
            "2022-05-01 05:46:18,685 : INFO : PROGRESS: at sentence #1260000, processed 9083261 words, keeping 287521 word types\n",
            "2022-05-01 05:46:18,706 : INFO : PROGRESS: at sentence #1270000, processed 9155616 words, keeping 288987 word types\n",
            "2022-05-01 05:46:18,729 : INFO : collected 290418 word types from a corpus of 9227204 raw words and 1280000 sentences\n",
            "2022-05-01 05:46:18,730 : INFO : Loading a fresh vocabulary\n",
            "2022-05-01 05:46:18,887 : INFO : effective_min_count=10 retains 30369 unique words (10% of original 290418, drops 260049)\n",
            "2022-05-01 05:46:18,889 : INFO : effective_min_count=10 leaves 8780739 word corpus (95% of original 9227204, drops 446465)\n",
            "2022-05-01 05:46:18,969 : INFO : deleting the raw counts dictionary of 290418 items\n",
            "2022-05-01 05:46:18,978 : INFO : sample=0.001 downsamples 45 most-common words\n",
            "2022-05-01 05:46:18,979 : INFO : downsampling leaves estimated 8222658 word corpus (93.6% of prior 8780739)\n",
            "2022-05-01 05:46:19,062 : INFO : estimated required memory for 30369 words and 300 dimensions: 88070100 bytes\n",
            "2022-05-01 05:46:19,063 : INFO : resetting layer weights\n"
          ]
        }
      ]
    },
    {
      "metadata": {
        "trusted": true,
        "_uuid": "72a5628ca81fd4b8983c12d93ae0bf950b86b6ae",
        "colab": {
          "base_uri": "https://localhost:8080/"
        },
        "id": "PoKMTdZjHOrx",
        "outputId": "8905b457-2547-4e39-ca9e-5cd4a46cb6a0"
      },
      "cell_type": "code",
      "source": [
        "words = w2v_model.wv.vocab.keys()\n",
        "vocab_size = len(words)\n",
        "print(\"Vocab size\", vocab_size)"
      ],
      "execution_count": null,
      "outputs": [
        {
          "output_type": "stream",
          "name": "stdout",
          "text": [
            "Vocab size 30369\n"
          ]
        }
      ]
    },
    {
      "metadata": {
        "trusted": true,
        "_uuid": "68c3e4a5ba07cac3dee67f78ecdd1404c7f83f14",
        "colab": {
          "base_uri": "https://localhost:8080/"
        },
        "id": "ktVfoQ8YHOry",
        "outputId": "a9344b44-8038-48c4-a079-7e6ed844fd66"
      },
      "cell_type": "code",
      "source": [
        "%%time\n",
        "w2v_model.train(documents, total_examples=len(documents), epochs=w2v_epoch)"
      ],
      "execution_count": null,
      "outputs": [
        {
          "output_type": "stream",
          "name": "stderr",
          "text": [
            "2022-05-01 05:46:30,319 : INFO : training model with 8 workers on 30369 vocabulary and 300 features, using sg=0 hs=0 sample=0.001 negative=5 window=7\n",
            "2022-05-01 05:46:31,335 : INFO : EPOCH 1 - PROGRESS: at 9.45% examples, 771891 words/s, in_qsize 16, out_qsize 0\n",
            "2022-05-01 05:46:32,352 : INFO : EPOCH 1 - PROGRESS: at 19.19% examples, 779834 words/s, in_qsize 15, out_qsize 0\n",
            "2022-05-01 05:46:33,355 : INFO : EPOCH 1 - PROGRESS: at 29.26% examples, 795384 words/s, in_qsize 14, out_qsize 1\n",
            "2022-05-01 05:46:34,360 : INFO : EPOCH 1 - PROGRESS: at 36.51% examples, 745026 words/s, in_qsize 11, out_qsize 4\n",
            "2022-05-01 05:46:35,364 : INFO : EPOCH 1 - PROGRESS: at 45.16% examples, 738041 words/s, in_qsize 15, out_qsize 1\n",
            "2022-05-01 05:46:36,424 : INFO : EPOCH 1 - PROGRESS: at 53.27% examples, 719329 words/s, in_qsize 14, out_qsize 1\n",
            "2022-05-01 05:46:37,430 : INFO : EPOCH 1 - PROGRESS: at 61.82% examples, 716524 words/s, in_qsize 15, out_qsize 0\n",
            "2022-05-01 05:46:38,433 : INFO : EPOCH 1 - PROGRESS: at 69.50% examples, 705930 words/s, in_qsize 15, out_qsize 0\n",
            "2022-05-01 05:46:39,461 : INFO : EPOCH 1 - PROGRESS: at 75.78% examples, 683019 words/s, in_qsize 16, out_qsize 1\n",
            "2022-05-01 05:46:40,477 : INFO : EPOCH 1 - PROGRESS: at 84.26% examples, 683142 words/s, in_qsize 15, out_qsize 0\n",
            "2022-05-01 05:46:41,483 : INFO : EPOCH 1 - PROGRESS: at 93.49% examples, 689329 words/s, in_qsize 15, out_qsize 0\n",
            "2022-05-01 05:46:42,040 : INFO : worker thread finished; awaiting finish of 7 more threads\n",
            "2022-05-01 05:46:42,053 : INFO : worker thread finished; awaiting finish of 6 more threads\n",
            "2022-05-01 05:46:42,058 : INFO : worker thread finished; awaiting finish of 5 more threads\n",
            "2022-05-01 05:46:42,061 : INFO : worker thread finished; awaiting finish of 4 more threads\n",
            "2022-05-01 05:46:42,063 : INFO : worker thread finished; awaiting finish of 3 more threads\n",
            "2022-05-01 05:46:42,064 : INFO : worker thread finished; awaiting finish of 2 more threads\n",
            "2022-05-01 05:46:42,076 : INFO : worker thread finished; awaiting finish of 1 more threads\n",
            "2022-05-01 05:46:42,078 : INFO : worker thread finished; awaiting finish of 0 more threads\n",
            "2022-05-01 05:46:42,079 : INFO : EPOCH - 1 : training on 9227204 raw words (8223210 effective words) took 11.7s, 699942 effective words/s\n",
            "2022-05-01 05:46:43,102 : INFO : EPOCH 2 - PROGRESS: at 9.88% examples, 800802 words/s, in_qsize 15, out_qsize 0\n",
            "2022-05-01 05:46:44,120 : INFO : EPOCH 2 - PROGRESS: at 19.51% examples, 789346 words/s, in_qsize 15, out_qsize 0\n",
            "2022-05-01 05:46:45,148 : INFO : EPOCH 2 - PROGRESS: at 29.37% examples, 789162 words/s, in_qsize 14, out_qsize 1\n",
            "2022-05-01 05:46:46,156 : INFO : EPOCH 2 - PROGRESS: at 39.76% examples, 803979 words/s, in_qsize 14, out_qsize 1\n",
            "2022-05-01 05:46:47,157 : INFO : EPOCH 2 - PROGRESS: at 49.06% examples, 796245 words/s, in_qsize 15, out_qsize 0\n",
            "2022-05-01 05:46:48,158 : INFO : EPOCH 2 - PROGRESS: at 58.90% examples, 798619 words/s, in_qsize 15, out_qsize 0\n",
            "2022-05-01 05:46:49,164 : INFO : EPOCH 2 - PROGRESS: at 67.56% examples, 785730 words/s, in_qsize 12, out_qsize 6\n",
            "2022-05-01 05:46:50,197 : INFO : EPOCH 2 - PROGRESS: at 78.18% examples, 793187 words/s, in_qsize 14, out_qsize 1\n",
            "2022-05-01 05:46:51,199 : INFO : EPOCH 2 - PROGRESS: at 87.94% examples, 793986 words/s, in_qsize 15, out_qsize 0\n",
            "2022-05-01 05:46:52,208 : INFO : EPOCH 2 - PROGRESS: at 98.14% examples, 797521 words/s, in_qsize 13, out_qsize 2\n",
            "2022-05-01 05:46:52,335 : INFO : worker thread finished; awaiting finish of 7 more threads\n",
            "2022-05-01 05:46:52,337 : INFO : worker thread finished; awaiting finish of 6 more threads\n",
            "2022-05-01 05:46:52,341 : INFO : worker thread finished; awaiting finish of 5 more threads\n",
            "2022-05-01 05:46:52,346 : INFO : worker thread finished; awaiting finish of 4 more threads\n",
            "2022-05-01 05:46:52,350 : INFO : worker thread finished; awaiting finish of 3 more threads\n",
            "2022-05-01 05:46:52,351 : INFO : worker thread finished; awaiting finish of 2 more threads\n",
            "2022-05-01 05:46:52,354 : INFO : worker thread finished; awaiting finish of 1 more threads\n",
            "2022-05-01 05:46:52,368 : INFO : worker thread finished; awaiting finish of 0 more threads\n",
            "2022-05-01 05:46:52,369 : INFO : EPOCH - 2 : training on 9227204 raw words (8222441 effective words) took 10.3s, 799858 effective words/s\n",
            "2022-05-01 05:46:53,381 : INFO : EPOCH 3 - PROGRESS: at 8.47% examples, 693029 words/s, in_qsize 15, out_qsize 0\n",
            "2022-05-01 05:46:54,384 : INFO : EPOCH 3 - PROGRESS: at 17.46% examples, 715031 words/s, in_qsize 15, out_qsize 1\n",
            "2022-05-01 05:46:55,398 : INFO : EPOCH 3 - PROGRESS: at 26.44% examples, 719945 words/s, in_qsize 13, out_qsize 2\n",
            "2022-05-01 05:46:56,418 : INFO : EPOCH 3 - PROGRESS: at 36.29% examples, 738934 words/s, in_qsize 16, out_qsize 1\n",
            "2022-05-01 05:46:57,420 : INFO : EPOCH 3 - PROGRESS: at 46.02% examples, 750993 words/s, in_qsize 16, out_qsize 0\n",
            "2022-05-01 05:46:58,422 : INFO : EPOCH 3 - PROGRESS: at 56.08% examples, 763698 words/s, in_qsize 15, out_qsize 0\n",
            "2022-05-01 05:46:59,440 : INFO : EPOCH 3 - PROGRESS: at 65.93% examples, 768379 words/s, in_qsize 15, out_qsize 0\n",
            "2022-05-01 05:47:00,450 : INFO : EPOCH 3 - PROGRESS: at 75.46% examples, 769402 words/s, in_qsize 15, out_qsize 5\n",
            "2022-05-01 05:47:01,450 : INFO : EPOCH 3 - PROGRESS: at 86.10% examples, 780785 words/s, in_qsize 15, out_qsize 0\n",
            "2022-05-01 05:47:02,457 : INFO : EPOCH 3 - PROGRESS: at 95.55% examples, 779631 words/s, in_qsize 13, out_qsize 2\n",
            "2022-05-01 05:47:02,834 : INFO : worker thread finished; awaiting finish of 7 more threads\n",
            "2022-05-01 05:47:02,837 : INFO : worker thread finished; awaiting finish of 6 more threads\n",
            "2022-05-01 05:47:02,840 : INFO : worker thread finished; awaiting finish of 5 more threads\n",
            "2022-05-01 05:47:02,859 : INFO : worker thread finished; awaiting finish of 4 more threads\n",
            "2022-05-01 05:47:02,861 : INFO : worker thread finished; awaiting finish of 3 more threads\n",
            "2022-05-01 05:47:02,869 : INFO : worker thread finished; awaiting finish of 2 more threads\n",
            "2022-05-01 05:47:02,876 : INFO : worker thread finished; awaiting finish of 1 more threads\n",
            "2022-05-01 05:47:02,888 : INFO : worker thread finished; awaiting finish of 0 more threads\n",
            "2022-05-01 05:47:02,889 : INFO : EPOCH - 3 : training on 9227204 raw words (8223385 effective words) took 10.5s, 782391 effective words/s\n",
            "2022-05-01 05:47:03,902 : INFO : EPOCH 4 - PROGRESS: at 9.01% examples, 737536 words/s, in_qsize 16, out_qsize 1\n",
            "2022-05-01 05:47:04,909 : INFO : EPOCH 4 - PROGRESS: at 18.43% examples, 753433 words/s, in_qsize 15, out_qsize 5\n",
            "2022-05-01 05:47:05,912 : INFO : EPOCH 4 - PROGRESS: at 28.83% examples, 786658 words/s, in_qsize 15, out_qsize 0\n",
            "2022-05-01 05:47:06,918 : INFO : EPOCH 4 - PROGRESS: at 38.57% examples, 789068 words/s, in_qsize 14, out_qsize 1\n",
            "2022-05-01 05:47:07,950 : INFO : EPOCH 4 - PROGRESS: at 48.08% examples, 783145 words/s, in_qsize 14, out_qsize 1\n",
            "2022-05-01 05:47:08,958 : INFO : EPOCH 4 - PROGRESS: at 58.03% examples, 788244 words/s, in_qsize 15, out_qsize 0\n",
            "2022-05-01 05:47:09,964 : INFO : EPOCH 4 - PROGRESS: at 67.45% examples, 785598 words/s, in_qsize 15, out_qsize 0\n",
            "2022-05-01 05:47:10,974 : INFO : EPOCH 4 - PROGRESS: at 76.66% examples, 781045 words/s, in_qsize 13, out_qsize 5\n",
            "2022-05-01 05:47:12,012 : INFO : EPOCH 4 - PROGRESS: at 87.40% examples, 788859 words/s, in_qsize 16, out_qsize 0\n",
            "2022-05-01 05:47:13,046 : INFO : EPOCH 4 - PROGRESS: at 97.50% examples, 790017 words/s, in_qsize 15, out_qsize 0\n",
            "2022-05-01 05:47:13,201 : INFO : worker thread finished; awaiting finish of 7 more threads\n",
            "2022-05-01 05:47:13,210 : INFO : worker thread finished; awaiting finish of 6 more threads\n",
            "2022-05-01 05:47:13,218 : INFO : worker thread finished; awaiting finish of 5 more threads\n",
            "2022-05-01 05:47:13,220 : INFO : worker thread finished; awaiting finish of 4 more threads\n",
            "2022-05-01 05:47:13,224 : INFO : worker thread finished; awaiting finish of 3 more threads\n",
            "2022-05-01 05:47:13,226 : INFO : worker thread finished; awaiting finish of 2 more threads\n",
            "2022-05-01 05:47:13,229 : INFO : worker thread finished; awaiting finish of 1 more threads\n",
            "2022-05-01 05:47:13,235 : INFO : worker thread finished; awaiting finish of 0 more threads\n",
            "2022-05-01 05:47:13,236 : INFO : EPOCH - 4 : training on 9227204 raw words (8222223 effective words) took 10.3s, 795479 effective words/s\n",
            "2022-05-01 05:47:14,254 : INFO : EPOCH 5 - PROGRESS: at 9.66% examples, 788423 words/s, in_qsize 14, out_qsize 1\n",
            "2022-05-01 05:47:15,255 : INFO : EPOCH 5 - PROGRESS: at 19.40% examples, 794017 words/s, in_qsize 16, out_qsize 2\n",
            "2022-05-01 05:47:16,256 : INFO : EPOCH 5 - PROGRESS: at 28.94% examples, 790550 words/s, in_qsize 13, out_qsize 2\n",
            "2022-05-01 05:47:17,263 : INFO : EPOCH 5 - PROGRESS: at 39.00% examples, 798498 words/s, in_qsize 16, out_qsize 0\n",
            "2022-05-01 05:47:18,276 : INFO : EPOCH 5 - PROGRESS: at 49.06% examples, 802545 words/s, in_qsize 15, out_qsize 0\n",
            "2022-05-01 05:47:19,283 : INFO : EPOCH 5 - PROGRESS: at 59.44% examples, 810322 words/s, in_qsize 16, out_qsize 0\n",
            "2022-05-01 05:47:20,290 : INFO : EPOCH 5 - PROGRESS: at 69.72% examples, 814635 words/s, in_qsize 15, out_qsize 0\n",
            "2022-05-01 05:47:21,308 : INFO : EPOCH 5 - PROGRESS: at 78.40% examples, 801496 words/s, in_qsize 15, out_qsize 4\n",
            "2022-05-01 05:47:22,311 : INFO : EPOCH 5 - PROGRESS: at 89.02% examples, 807960 words/s, in_qsize 14, out_qsize 1\n",
            "2022-05-01 05:47:23,315 : INFO : EPOCH 5 - PROGRESS: at 98.90% examples, 807795 words/s, in_qsize 11, out_qsize 0\n",
            "2022-05-01 05:47:23,372 : INFO : worker thread finished; awaiting finish of 7 more threads\n",
            "2022-05-01 05:47:23,379 : INFO : worker thread finished; awaiting finish of 6 more threads\n",
            "2022-05-01 05:47:23,381 : INFO : worker thread finished; awaiting finish of 5 more threads\n",
            "2022-05-01 05:47:23,389 : INFO : worker thread finished; awaiting finish of 4 more threads\n",
            "2022-05-01 05:47:23,395 : INFO : worker thread finished; awaiting finish of 3 more threads\n",
            "2022-05-01 05:47:23,407 : INFO : worker thread finished; awaiting finish of 2 more threads\n",
            "2022-05-01 05:47:23,418 : INFO : worker thread finished; awaiting finish of 1 more threads\n",
            "2022-05-01 05:47:23,420 : INFO : worker thread finished; awaiting finish of 0 more threads\n",
            "2022-05-01 05:47:23,421 : INFO : EPOCH - 5 : training on 9227204 raw words (8222882 effective words) took 10.2s, 808249 effective words/s\n",
            "2022-05-01 05:47:24,462 : INFO : EPOCH 6 - PROGRESS: at 9.66% examples, 770174 words/s, in_qsize 14, out_qsize 1\n",
            "2022-05-01 05:47:25,466 : INFO : EPOCH 6 - PROGRESS: at 19.73% examples, 797205 words/s, in_qsize 15, out_qsize 0\n",
            "2022-05-01 05:47:26,472 : INFO : EPOCH 6 - PROGRESS: at 29.59% examples, 799969 words/s, in_qsize 16, out_qsize 0\n",
            "2022-05-01 05:47:27,505 : INFO : EPOCH 6 - PROGRESS: at 39.11% examples, 789437 words/s, in_qsize 15, out_qsize 0\n",
            "2022-05-01 05:47:28,531 : INFO : EPOCH 6 - PROGRESS: at 49.38% examples, 796602 words/s, in_qsize 15, out_qsize 0\n",
            "2022-05-01 05:47:29,573 : INFO : EPOCH 6 - PROGRESS: at 59.87% examples, 802175 words/s, in_qsize 16, out_qsize 1\n",
            "2022-05-01 05:47:30,582 : INFO : EPOCH 6 - PROGRESS: at 70.37% examples, 809820 words/s, in_qsize 15, out_qsize 0\n",
            "2022-05-01 05:47:31,589 : INFO : EPOCH 6 - PROGRESS: at 80.03% examples, 807071 words/s, in_qsize 15, out_qsize 0\n",
            "2022-05-01 05:47:32,603 : INFO : EPOCH 6 - PROGRESS: at 90.22% examples, 809105 words/s, in_qsize 15, out_qsize 0\n",
            "2022-05-01 05:47:33,485 : INFO : worker thread finished; awaiting finish of 7 more threads\n",
            "2022-05-01 05:47:33,495 : INFO : worker thread finished; awaiting finish of 6 more threads\n",
            "2022-05-01 05:47:33,504 : INFO : worker thread finished; awaiting finish of 5 more threads\n",
            "2022-05-01 05:47:33,509 : INFO : worker thread finished; awaiting finish of 4 more threads\n",
            "2022-05-01 05:47:33,526 : INFO : worker thread finished; awaiting finish of 3 more threads\n",
            "2022-05-01 05:47:33,532 : INFO : worker thread finished; awaiting finish of 2 more threads\n",
            "2022-05-01 05:47:33,536 : INFO : worker thread finished; awaiting finish of 1 more threads\n",
            "2022-05-01 05:47:33,537 : INFO : worker thread finished; awaiting finish of 0 more threads\n",
            "2022-05-01 05:47:33,538 : INFO : EPOCH - 6 : training on 9227204 raw words (8222091 effective words) took 10.1s, 813612 effective words/s\n",
            "2022-05-01 05:47:34,550 : INFO : EPOCH 7 - PROGRESS: at 10.10% examples, 826689 words/s, in_qsize 15, out_qsize 0\n",
            "2022-05-01 05:47:35,563 : INFO : EPOCH 7 - PROGRESS: at 19.08% examples, 777954 words/s, in_qsize 15, out_qsize 0\n",
            "2022-05-01 05:47:36,577 : INFO : EPOCH 7 - PROGRESS: at 29.48% examples, 800015 words/s, in_qsize 15, out_qsize 0\n",
            "2022-05-01 05:47:37,587 : INFO : EPOCH 7 - PROGRESS: at 39.65% examples, 807273 words/s, in_qsize 14, out_qsize 1\n",
            "2022-05-01 05:47:38,589 : INFO : EPOCH 7 - PROGRESS: at 50.13% examples, 818178 words/s, in_qsize 16, out_qsize 0\n",
            "2022-05-01 05:47:39,591 : INFO : EPOCH 7 - PROGRESS: at 59.77% examples, 813729 words/s, in_qsize 16, out_qsize 0\n",
            "2022-05-01 05:47:40,595 : INFO : EPOCH 7 - PROGRESS: at 69.61% examples, 812861 words/s, in_qsize 14, out_qsize 1\n",
            "2022-05-01 05:47:41,598 : INFO : EPOCH 7 - PROGRESS: at 79.92% examples, 816572 words/s, in_qsize 16, out_qsize 0\n",
            "2022-05-01 05:47:42,610 : INFO : EPOCH 7 - PROGRESS: at 89.02% examples, 807981 words/s, in_qsize 15, out_qsize 0\n",
            "2022-05-01 05:47:43,626 : INFO : EPOCH 7 - PROGRESS: at 98.47% examples, 803387 words/s, in_qsize 15, out_qsize 0\n",
            "2022-05-01 05:47:43,702 : INFO : worker thread finished; awaiting finish of 7 more threads\n",
            "2022-05-01 05:47:43,719 : INFO : worker thread finished; awaiting finish of 6 more threads\n",
            "2022-05-01 05:47:43,725 : INFO : worker thread finished; awaiting finish of 5 more threads\n",
            "2022-05-01 05:47:43,730 : INFO : worker thread finished; awaiting finish of 4 more threads\n",
            "2022-05-01 05:47:43,744 : INFO : worker thread finished; awaiting finish of 3 more threads\n",
            "2022-05-01 05:47:43,747 : INFO : worker thread finished; awaiting finish of 2 more threads\n",
            "2022-05-01 05:47:43,748 : INFO : worker thread finished; awaiting finish of 1 more threads\n",
            "2022-05-01 05:47:43,755 : INFO : worker thread finished; awaiting finish of 0 more threads\n",
            "2022-05-01 05:47:43,756 : INFO : EPOCH - 7 : training on 9227204 raw words (8222138 effective words) took 10.2s, 805467 effective words/s\n",
            "2022-05-01 05:47:44,772 : INFO : EPOCH 8 - PROGRESS: at 9.99% examples, 813959 words/s, in_qsize 16, out_qsize 1\n",
            "2022-05-01 05:47:45,792 : INFO : EPOCH 8 - PROGRESS: at 20.38% examples, 825897 words/s, in_qsize 14, out_qsize 1\n",
            "2022-05-01 05:47:46,797 : INFO : EPOCH 8 - PROGRESS: at 30.89% examples, 837197 words/s, in_qsize 15, out_qsize 0\n",
            "2022-05-01 05:47:47,808 : INFO : EPOCH 8 - PROGRESS: at 40.94% examples, 832813 words/s, in_qsize 14, out_qsize 1\n",
            "2022-05-01 05:47:48,808 : INFO : EPOCH 8 - PROGRESS: at 50.13% examples, 817784 words/s, in_qsize 15, out_qsize 0\n",
            "2022-05-01 05:47:49,811 : INFO : EPOCH 8 - PROGRESS: at 60.08% examples, 817832 words/s, in_qsize 13, out_qsize 2\n",
            "2022-05-01 05:47:50,831 : INFO : EPOCH 8 - PROGRESS: at 70.37% examples, 819519 words/s, in_qsize 14, out_qsize 1\n",
            "2022-05-01 05:47:51,848 : INFO : EPOCH 8 - PROGRESS: at 81.12% examples, 825462 words/s, in_qsize 16, out_qsize 1\n",
            "2022-05-01 05:47:52,854 : INFO : EPOCH 8 - PROGRESS: at 90.98% examples, 823203 words/s, in_qsize 15, out_qsize 0\n",
            "2022-05-01 05:47:53,670 : INFO : worker thread finished; awaiting finish of 7 more threads\n",
            "2022-05-01 05:47:53,678 : INFO : worker thread finished; awaiting finish of 6 more threads\n",
            "2022-05-01 05:47:53,684 : INFO : worker thread finished; awaiting finish of 5 more threads\n",
            "2022-05-01 05:47:53,691 : INFO : worker thread finished; awaiting finish of 4 more threads\n",
            "2022-05-01 05:47:53,699 : INFO : worker thread finished; awaiting finish of 3 more threads\n",
            "2022-05-01 05:47:53,704 : INFO : worker thread finished; awaiting finish of 2 more threads\n",
            "2022-05-01 05:47:53,710 : INFO : worker thread finished; awaiting finish of 1 more threads\n",
            "2022-05-01 05:47:53,722 : INFO : worker thread finished; awaiting finish of 0 more threads\n",
            "2022-05-01 05:47:53,723 : INFO : EPOCH - 8 : training on 9227204 raw words (8222557 effective words) took 10.0s, 825691 effective words/s\n",
            "2022-05-01 05:47:54,741 : INFO : EPOCH 9 - PROGRESS: at 9.55% examples, 778190 words/s, in_qsize 15, out_qsize 0\n",
            "2022-05-01 05:47:55,742 : INFO : EPOCH 9 - PROGRESS: at 19.51% examples, 798452 words/s, in_qsize 15, out_qsize 0\n",
            "2022-05-01 05:47:56,745 : INFO : EPOCH 9 - PROGRESS: at 30.02% examples, 819499 words/s, in_qsize 16, out_qsize 1\n",
            "2022-05-01 05:47:57,746 : INFO : EPOCH 9 - PROGRESS: at 40.30% examples, 825842 words/s, in_qsize 15, out_qsize 0\n",
            "2022-05-01 05:47:58,765 : INFO : EPOCH 9 - PROGRESS: at 50.46% examples, 824931 words/s, in_qsize 15, out_qsize 0\n",
            "2022-05-01 05:47:59,770 : INFO : EPOCH 9 - PROGRESS: at 60.63% examples, 826445 words/s, in_qsize 13, out_qsize 2\n",
            "2022-05-01 05:48:00,781 : INFO : EPOCH 9 - PROGRESS: at 70.91% examples, 827909 words/s, in_qsize 14, out_qsize 1\n",
            "2022-05-01 05:48:01,799 : INFO : EPOCH 9 - PROGRESS: at 81.45% examples, 830508 words/s, in_qsize 15, out_qsize 0\n",
            "2022-05-01 05:48:02,806 : INFO : EPOCH 9 - PROGRESS: at 92.28% examples, 836473 words/s, in_qsize 15, out_qsize 0\n",
            "2022-05-01 05:48:03,478 : INFO : worker thread finished; awaiting finish of 7 more threads\n",
            "2022-05-01 05:48:03,481 : INFO : worker thread finished; awaiting finish of 6 more threads\n",
            "2022-05-01 05:48:03,497 : INFO : worker thread finished; awaiting finish of 5 more threads\n",
            "2022-05-01 05:48:03,502 : INFO : worker thread finished; awaiting finish of 4 more threads\n",
            "2022-05-01 05:48:03,506 : INFO : worker thread finished; awaiting finish of 3 more threads\n",
            "2022-05-01 05:48:03,517 : INFO : worker thread finished; awaiting finish of 2 more threads\n",
            "2022-05-01 05:48:03,521 : INFO : worker thread finished; awaiting finish of 1 more threads\n",
            "2022-05-01 05:48:03,529 : INFO : worker thread finished; awaiting finish of 0 more threads\n",
            "2022-05-01 05:48:03,530 : INFO : EPOCH - 9 : training on 9227204 raw words (8222016 effective words) took 9.8s, 839251 effective words/s\n",
            "2022-05-01 05:48:04,544 : INFO : EPOCH 10 - PROGRESS: at 9.66% examples, 790155 words/s, in_qsize 15, out_qsize 0\n",
            "2022-05-01 05:48:05,550 : INFO : EPOCH 10 - PROGRESS: at 19.62% examples, 802062 words/s, in_qsize 15, out_qsize 0\n",
            "2022-05-01 05:48:06,557 : INFO : EPOCH 10 - PROGRESS: at 29.48% examples, 803279 words/s, in_qsize 15, out_qsize 0\n",
            "2022-05-01 05:48:07,583 : INFO : EPOCH 10 - PROGRESS: at 39.43% examples, 801908 words/s, in_qsize 15, out_qsize 0\n",
            "2022-05-01 05:48:08,601 : INFO : EPOCH 10 - PROGRESS: at 49.59% examples, 806123 words/s, in_qsize 16, out_qsize 0\n",
            "2022-05-01 05:48:09,603 : INFO : EPOCH 10 - PROGRESS: at 59.44% examples, 806814 words/s, in_qsize 15, out_qsize 0\n",
            "2022-05-01 05:48:10,620 : INFO : EPOCH 10 - PROGRESS: at 69.83% examples, 811667 words/s, in_qsize 15, out_qsize 0\n",
            "2022-05-01 05:48:11,629 : INFO : EPOCH 10 - PROGRESS: at 79.49% examples, 808403 words/s, in_qsize 15, out_qsize 0\n",
            "2022-05-01 05:48:12,659 : INFO : EPOCH 10 - PROGRESS: at 89.34% examples, 805933 words/s, in_qsize 14, out_qsize 1\n",
            "2022-05-01 05:48:13,623 : INFO : worker thread finished; awaiting finish of 7 more threads\n",
            "2022-05-01 05:48:13,630 : INFO : worker thread finished; awaiting finish of 6 more threads\n",
            "2022-05-01 05:48:13,631 : INFO : worker thread finished; awaiting finish of 5 more threads\n",
            "2022-05-01 05:48:13,634 : INFO : worker thread finished; awaiting finish of 4 more threads\n",
            "2022-05-01 05:48:13,637 : INFO : worker thread finished; awaiting finish of 3 more threads\n",
            "2022-05-01 05:48:13,649 : INFO : worker thread finished; awaiting finish of 2 more threads\n",
            "2022-05-01 05:48:13,652 : INFO : worker thread finished; awaiting finish of 1 more threads\n",
            "2022-05-01 05:48:13,657 : INFO : worker thread finished; awaiting finish of 0 more threads\n",
            "2022-05-01 05:48:13,657 : INFO : EPOCH - 10 : training on 9227204 raw words (8223429 effective words) took 10.1s, 812780 effective words/s\n",
            "2022-05-01 05:48:14,682 : INFO : EPOCH 11 - PROGRESS: at 9.55% examples, 772541 words/s, in_qsize 15, out_qsize 1\n",
            "2022-05-01 05:48:15,694 : INFO : EPOCH 11 - PROGRESS: at 19.29% examples, 782186 words/s, in_qsize 16, out_qsize 0\n",
            "2022-05-01 05:48:16,714 : INFO : EPOCH 11 - PROGRESS: at 29.16% examples, 786401 words/s, in_qsize 15, out_qsize 0\n",
            "2022-05-01 05:48:17,726 : INFO : EPOCH 11 - PROGRESS: at 39.43% examples, 798869 words/s, in_qsize 15, out_qsize 0\n",
            "2022-05-01 05:48:18,727 : INFO : EPOCH 11 - PROGRESS: at 49.49% examples, 804603 words/s, in_qsize 14, out_qsize 1\n",
            "2022-05-01 05:48:19,729 : INFO : EPOCH 11 - PROGRESS: at 59.87% examples, 812770 words/s, in_qsize 15, out_qsize 0\n",
            "2022-05-01 05:48:20,742 : INFO : EPOCH 11 - PROGRESS: at 70.16% examples, 815978 words/s, in_qsize 16, out_qsize 0\n",
            "2022-05-01 05:48:21,751 : INFO : EPOCH 11 - PROGRESS: at 80.03% examples, 814342 words/s, in_qsize 16, out_qsize 4\n",
            "2022-05-01 05:48:22,761 : INFO : EPOCH 11 - PROGRESS: at 89.78% examples, 812087 words/s, in_qsize 15, out_qsize 0\n",
            "2022-05-01 05:48:23,659 : INFO : worker thread finished; awaiting finish of 7 more threads\n",
            "2022-05-01 05:48:23,663 : INFO : worker thread finished; awaiting finish of 6 more threads\n",
            "2022-05-01 05:48:23,670 : INFO : worker thread finished; awaiting finish of 5 more threads\n",
            "2022-05-01 05:48:23,676 : INFO : worker thread finished; awaiting finish of 4 more threads\n",
            "2022-05-01 05:48:23,679 : INFO : worker thread finished; awaiting finish of 3 more threads\n",
            "2022-05-01 05:48:23,688 : INFO : worker thread finished; awaiting finish of 2 more threads\n",
            "2022-05-01 05:48:23,693 : INFO : worker thread finished; awaiting finish of 1 more threads\n",
            "2022-05-01 05:48:23,696 : INFO : worker thread finished; awaiting finish of 0 more threads\n",
            "2022-05-01 05:48:23,697 : INFO : EPOCH - 11 : training on 9227204 raw words (8222974 effective words) took 10.0s, 819845 effective words/s\n",
            "2022-05-01 05:48:24,720 : INFO : EPOCH 12 - PROGRESS: at 9.66% examples, 783241 words/s, in_qsize 14, out_qsize 1\n",
            "2022-05-01 05:48:25,754 : INFO : EPOCH 12 - PROGRESS: at 20.27% examples, 813762 words/s, in_qsize 16, out_qsize 0\n",
            "2022-05-01 05:48:26,772 : INFO : EPOCH 12 - PROGRESS: at 30.56% examples, 819644 words/s, in_qsize 15, out_qsize 0\n",
            "2022-05-01 05:48:27,779 : INFO : EPOCH 12 - PROGRESS: at 40.94% examples, 826901 words/s, in_qsize 15, out_qsize 0\n",
            "2022-05-01 05:48:28,792 : INFO : EPOCH 12 - PROGRESS: at 51.10% examples, 826886 words/s, in_qsize 14, out_qsize 1\n",
            "2022-05-01 05:48:29,813 : INFO : EPOCH 12 - PROGRESS: at 61.82% examples, 833092 words/s, in_qsize 15, out_qsize 2\n",
            "2022-05-01 05:48:30,843 : INFO : EPOCH 12 - PROGRESS: at 71.89% examples, 828944 words/s, in_qsize 15, out_qsize 0\n",
            "2022-05-01 05:48:31,845 : INFO : EPOCH 12 - PROGRESS: at 82.10% examples, 829729 words/s, in_qsize 15, out_qsize 0\n",
            "2022-05-01 05:48:32,852 : INFO : EPOCH 12 - PROGRESS: at 92.28% examples, 829864 words/s, in_qsize 12, out_qsize 3\n",
            "2022-05-01 05:48:33,512 : INFO : worker thread finished; awaiting finish of 7 more threads\n",
            "2022-05-01 05:48:33,529 : INFO : worker thread finished; awaiting finish of 6 more threads\n",
            "2022-05-01 05:48:33,539 : INFO : worker thread finished; awaiting finish of 5 more threads\n",
            "2022-05-01 05:48:33,541 : INFO : worker thread finished; awaiting finish of 4 more threads\n",
            "2022-05-01 05:48:33,543 : INFO : worker thread finished; awaiting finish of 3 more threads\n",
            "2022-05-01 05:48:33,564 : INFO : worker thread finished; awaiting finish of 2 more threads\n",
            "2022-05-01 05:48:33,567 : INFO : worker thread finished; awaiting finish of 1 more threads\n",
            "2022-05-01 05:48:33,572 : INFO : worker thread finished; awaiting finish of 0 more threads\n",
            "2022-05-01 05:48:33,573 : INFO : EPOCH - 12 : training on 9227204 raw words (8222202 effective words) took 9.9s, 833377 effective words/s\n",
            "2022-05-01 05:48:34,589 : INFO : EPOCH 13 - PROGRESS: at 9.77% examples, 797013 words/s, in_qsize 16, out_qsize 1\n",
            "2022-05-01 05:48:35,598 : INFO : EPOCH 13 - PROGRESS: at 19.62% examples, 799545 words/s, in_qsize 15, out_qsize 0\n",
            "2022-05-01 05:48:36,601 : INFO : EPOCH 13 - PROGRESS: at 29.26% examples, 796642 words/s, in_qsize 15, out_qsize 1\n",
            "2022-05-01 05:48:37,618 : INFO : EPOCH 13 - PROGRESS: at 39.11% examples, 796855 words/s, in_qsize 14, out_qsize 1\n",
            "2022-05-01 05:48:38,626 : INFO : EPOCH 13 - PROGRESS: at 49.16% examples, 801892 words/s, in_qsize 15, out_qsize 0\n",
            "2022-05-01 05:48:39,628 : INFO : EPOCH 13 - PROGRESS: at 59.45% examples, 809037 words/s, in_qsize 15, out_qsize 0\n",
            "2022-05-01 05:48:40,634 : INFO : EPOCH 13 - PROGRESS: at 69.40% examples, 809850 words/s, in_qsize 14, out_qsize 1\n",
            "2022-05-01 05:48:41,644 : INFO : EPOCH 13 - PROGRESS: at 78.84% examples, 804461 words/s, in_qsize 15, out_qsize 0\n",
            "2022-05-01 05:48:42,653 : INFO : EPOCH 13 - PROGRESS: at 89.56% examples, 812165 words/s, in_qsize 15, out_qsize 0\n",
            "2022-05-01 05:48:43,646 : INFO : worker thread finished; awaiting finish of 7 more threads\n",
            "2022-05-01 05:48:43,663 : INFO : EPOCH 13 - PROGRESS: at 99.35% examples, 810319 words/s, in_qsize 5, out_qsize 3\n",
            "2022-05-01 05:48:43,665 : INFO : worker thread finished; awaiting finish of 6 more threads\n",
            "2022-05-01 05:48:43,667 : INFO : worker thread finished; awaiting finish of 5 more threads\n",
            "2022-05-01 05:48:43,681 : INFO : worker thread finished; awaiting finish of 4 more threads\n",
            "2022-05-01 05:48:43,686 : INFO : worker thread finished; awaiting finish of 3 more threads\n",
            "2022-05-01 05:48:43,691 : INFO : worker thread finished; awaiting finish of 2 more threads\n",
            "2022-05-01 05:48:43,693 : INFO : worker thread finished; awaiting finish of 1 more threads\n",
            "2022-05-01 05:48:43,703 : INFO : worker thread finished; awaiting finish of 0 more threads\n",
            "2022-05-01 05:48:43,704 : INFO : EPOCH - 13 : training on 9227204 raw words (8222228 effective words) took 10.1s, 812343 effective words/s\n",
            "2022-05-01 05:48:44,718 : INFO : EPOCH 14 - PROGRESS: at 8.90% examples, 727939 words/s, in_qsize 15, out_qsize 0\n",
            "2022-05-01 05:48:45,729 : INFO : EPOCH 14 - PROGRESS: at 18.76% examples, 765170 words/s, in_qsize 13, out_qsize 2\n",
            "2022-05-01 05:48:46,743 : INFO : EPOCH 14 - PROGRESS: at 28.72% examples, 779717 words/s, in_qsize 16, out_qsize 2\n",
            "2022-05-01 05:48:47,778 : INFO : EPOCH 14 - PROGRESS: at 38.57% examples, 780588 words/s, in_qsize 13, out_qsize 2\n",
            "2022-05-01 05:48:48,790 : INFO : EPOCH 14 - PROGRESS: at 49.05% examples, 795317 words/s, in_qsize 15, out_qsize 0\n",
            "2022-05-01 05:48:49,795 : INFO : EPOCH 14 - PROGRESS: at 58.91% examples, 797244 words/s, in_qsize 15, out_qsize 0\n",
            "2022-05-01 05:48:50,805 : INFO : EPOCH 14 - PROGRESS: at 68.32% examples, 792887 words/s, in_qsize 16, out_qsize 2\n",
            "2022-05-01 05:48:51,811 : INFO : EPOCH 14 - PROGRESS: at 78.40% examples, 796666 words/s, in_qsize 15, out_qsize 3\n",
            "2022-05-01 05:48:52,842 : INFO : EPOCH 14 - PROGRESS: at 88.91% examples, 801346 words/s, in_qsize 15, out_qsize 0\n",
            "2022-05-01 05:48:53,842 : INFO : EPOCH 14 - PROGRESS: at 99.23% examples, 805680 words/s, in_qsize 8, out_qsize 0\n",
            "2022-05-01 05:48:53,846 : INFO : worker thread finished; awaiting finish of 7 more threads\n",
            "2022-05-01 05:48:53,858 : INFO : worker thread finished; awaiting finish of 6 more threads\n",
            "2022-05-01 05:48:53,865 : INFO : worker thread finished; awaiting finish of 5 more threads\n",
            "2022-05-01 05:48:53,866 : INFO : worker thread finished; awaiting finish of 4 more threads\n",
            "2022-05-01 05:48:53,870 : INFO : worker thread finished; awaiting finish of 3 more threads\n",
            "2022-05-01 05:48:53,880 : INFO : worker thread finished; awaiting finish of 2 more threads\n",
            "2022-05-01 05:48:53,883 : INFO : worker thread finished; awaiting finish of 1 more threads\n",
            "2022-05-01 05:48:53,895 : INFO : worker thread finished; awaiting finish of 0 more threads\n",
            "2022-05-01 05:48:53,896 : INFO : EPOCH - 14 : training on 9227204 raw words (8223112 effective words) took 10.2s, 807625 effective words/s\n",
            "2022-05-01 05:48:54,907 : INFO : EPOCH 15 - PROGRESS: at 9.12% examples, 747976 words/s, in_qsize 15, out_qsize 0\n",
            "2022-05-01 05:48:55,922 : INFO : EPOCH 15 - PROGRESS: at 18.86% examples, 769144 words/s, in_qsize 15, out_qsize 0\n",
            "2022-05-01 05:48:56,937 : INFO : EPOCH 15 - PROGRESS: at 28.40% examples, 770434 words/s, in_qsize 15, out_qsize 1\n",
            "2022-05-01 05:48:57,950 : INFO : EPOCH 15 - PROGRESS: at 38.46% examples, 782198 words/s, in_qsize 14, out_qsize 4\n",
            "2022-05-01 05:48:58,966 : INFO : EPOCH 15 - PROGRESS: at 48.40% examples, 787187 words/s, in_qsize 15, out_qsize 0\n",
            "2022-05-01 05:48:59,968 : INFO : EPOCH 15 - PROGRESS: at 58.58% examples, 795176 words/s, in_qsize 15, out_qsize 0\n",
            "2022-05-01 05:49:00,988 : INFO : EPOCH 15 - PROGRESS: at 68.53% examples, 796374 words/s, in_qsize 15, out_qsize 3\n",
            "2022-05-01 05:49:01,989 : INFO : EPOCH 15 - PROGRESS: at 78.62% examples, 800133 words/s, in_qsize 15, out_qsize 0\n",
            "2022-05-01 05:49:02,995 : INFO : EPOCH 15 - PROGRESS: at 88.70% examples, 802770 words/s, in_qsize 15, out_qsize 0\n",
            "2022-05-01 05:49:03,966 : INFO : worker thread finished; awaiting finish of 7 more threads\n",
            "2022-05-01 05:49:03,988 : INFO : worker thread finished; awaiting finish of 6 more threads\n",
            "2022-05-01 05:49:03,990 : INFO : worker thread finished; awaiting finish of 5 more threads\n",
            "2022-05-01 05:49:03,992 : INFO : worker thread finished; awaiting finish of 4 more threads\n",
            "2022-05-01 05:49:04,001 : INFO : EPOCH 15 - PROGRESS: at 99.67% examples, 811856 words/s, in_qsize 3, out_qsize 1\n",
            "2022-05-01 05:49:04,003 : INFO : worker thread finished; awaiting finish of 3 more threads\n",
            "2022-05-01 05:49:04,007 : INFO : worker thread finished; awaiting finish of 2 more threads\n",
            "2022-05-01 05:49:04,008 : INFO : worker thread finished; awaiting finish of 1 more threads\n",
            "2022-05-01 05:49:04,012 : INFO : worker thread finished; awaiting finish of 0 more threads\n",
            "2022-05-01 05:49:04,014 : INFO : EPOCH - 15 : training on 9227204 raw words (8222184 effective words) took 10.1s, 813512 effective words/s\n",
            "2022-05-01 05:49:05,029 : INFO : EPOCH 16 - PROGRESS: at 9.55% examples, 780519 words/s, in_qsize 15, out_qsize 0\n",
            "2022-05-01 05:49:06,053 : INFO : EPOCH 16 - PROGRESS: at 19.62% examples, 794376 words/s, in_qsize 15, out_qsize 2\n",
            "2022-05-01 05:49:07,054 : INFO : EPOCH 16 - PROGRESS: at 30.13% examples, 817507 words/s, in_qsize 15, out_qsize 0\n",
            "2022-05-01 05:49:08,117 : INFO : EPOCH 16 - PROGRESS: at 40.30% examples, 809587 words/s, in_qsize 13, out_qsize 5\n",
            "2022-05-01 05:49:09,124 : INFO : EPOCH 16 - PROGRESS: at 50.78% examples, 819263 words/s, in_qsize 15, out_qsize 0\n",
            "2022-05-01 05:49:10,149 : INFO : EPOCH 16 - PROGRESS: at 61.18% examples, 821908 words/s, in_qsize 15, out_qsize 0\n",
            "2022-05-01 05:49:11,164 : INFO : EPOCH 16 - PROGRESS: at 70.91% examples, 817272 words/s, in_qsize 15, out_qsize 1\n",
            "2022-05-01 05:49:12,167 : INFO : EPOCH 16 - PROGRESS: at 81.45% examples, 822759 words/s, in_qsize 16, out_qsize 0\n",
            "2022-05-01 05:49:13,201 : INFO : EPOCH 16 - PROGRESS: at 91.20% examples, 817313 words/s, in_qsize 13, out_qsize 2\n",
            "2022-05-01 05:49:13,956 : INFO : worker thread finished; awaiting finish of 7 more threads\n",
            "2022-05-01 05:49:13,969 : INFO : worker thread finished; awaiting finish of 6 more threads\n",
            "2022-05-01 05:49:13,974 : INFO : worker thread finished; awaiting finish of 5 more threads\n",
            "2022-05-01 05:49:13,981 : INFO : worker thread finished; awaiting finish of 4 more threads\n",
            "2022-05-01 05:49:13,990 : INFO : worker thread finished; awaiting finish of 3 more threads\n",
            "2022-05-01 05:49:13,991 : INFO : worker thread finished; awaiting finish of 2 more threads\n",
            "2022-05-01 05:49:14,004 : INFO : worker thread finished; awaiting finish of 1 more threads\n",
            "2022-05-01 05:49:14,011 : INFO : worker thread finished; awaiting finish of 0 more threads\n",
            "2022-05-01 05:49:14,012 : INFO : EPOCH - 16 : training on 9227204 raw words (8222770 effective words) took 10.0s, 823306 effective words/s\n",
            "2022-05-01 05:49:15,032 : INFO : EPOCH 17 - PROGRESS: at 9.88% examples, 810620 words/s, in_qsize 14, out_qsize 0\n",
            "2022-05-01 05:49:16,064 : INFO : EPOCH 17 - PROGRESS: at 19.95% examples, 806470 words/s, in_qsize 14, out_qsize 1\n",
            "2022-05-01 05:49:17,071 : INFO : EPOCH 17 - PROGRESS: at 30.56% examples, 826763 words/s, in_qsize 16, out_qsize 0\n",
            "2022-05-01 05:49:18,081 : INFO : EPOCH 17 - PROGRESS: at 40.84% examples, 829453 words/s, in_qsize 14, out_qsize 1\n",
            "2022-05-01 05:49:19,086 : INFO : EPOCH 17 - PROGRESS: at 51.21% examples, 833822 words/s, in_qsize 14, out_qsize 1\n",
            "2022-05-01 05:49:20,151 : INFO : EPOCH 17 - PROGRESS: at 61.39% examples, 825534 words/s, in_qsize 16, out_qsize 2\n",
            "2022-05-01 05:49:21,168 : INFO : EPOCH 17 - PROGRESS: at 72.10% examples, 831444 words/s, in_qsize 14, out_qsize 1\n",
            "2022-05-01 05:49:22,195 : INFO : EPOCH 17 - PROGRESS: at 82.74% examples, 833748 words/s, in_qsize 16, out_qsize 0\n",
            "2022-05-01 05:49:23,198 : INFO : EPOCH 17 - PROGRESS: at 93.26% examples, 836752 words/s, in_qsize 14, out_qsize 1\n",
            "2022-05-01 05:49:23,774 : INFO : worker thread finished; awaiting finish of 7 more threads\n",
            "2022-05-01 05:49:23,793 : INFO : worker thread finished; awaiting finish of 6 more threads\n",
            "2022-05-01 05:49:23,795 : INFO : worker thread finished; awaiting finish of 5 more threads\n",
            "2022-05-01 05:49:23,799 : INFO : worker thread finished; awaiting finish of 4 more threads\n",
            "2022-05-01 05:49:23,809 : INFO : worker thread finished; awaiting finish of 3 more threads\n",
            "2022-05-01 05:49:23,811 : INFO : worker thread finished; awaiting finish of 2 more threads\n",
            "2022-05-01 05:49:23,814 : INFO : worker thread finished; awaiting finish of 1 more threads\n",
            "2022-05-01 05:49:23,825 : INFO : worker thread finished; awaiting finish of 0 more threads\n",
            "2022-05-01 05:49:23,826 : INFO : EPOCH - 17 : training on 9227204 raw words (8223425 effective words) took 9.8s, 839570 effective words/s\n",
            "2022-05-01 05:49:24,849 : INFO : EPOCH 18 - PROGRESS: at 9.99% examples, 809674 words/s, in_qsize 15, out_qsize 0\n",
            "2022-05-01 05:49:25,852 : INFO : EPOCH 18 - PROGRESS: at 19.62% examples, 799452 words/s, in_qsize 10, out_qsize 5\n",
            "2022-05-01 05:49:26,857 : INFO : EPOCH 18 - PROGRESS: at 29.70% examples, 807868 words/s, in_qsize 14, out_qsize 1\n",
            "2022-05-01 05:49:27,868 : INFO : EPOCH 18 - PROGRESS: at 39.54% examples, 806330 words/s, in_qsize 16, out_qsize 0\n",
            "2022-05-01 05:49:28,870 : INFO : EPOCH 18 - PROGRESS: at 50.13% examples, 819192 words/s, in_qsize 15, out_qsize 0\n",
            "2022-05-01 05:49:29,874 : INFO : EPOCH 18 - PROGRESS: at 59.77% examples, 814301 words/s, in_qsize 15, out_qsize 0\n",
            "2022-05-01 05:49:30,884 : INFO : EPOCH 18 - PROGRESS: at 70.05% examples, 817626 words/s, in_qsize 15, out_qsize 0\n",
            "2022-05-01 05:49:31,901 : INFO : EPOCH 18 - PROGRESS: at 80.03% examples, 816113 words/s, in_qsize 14, out_qsize 1\n",
            "2022-05-01 05:49:32,922 : INFO : EPOCH 18 - PROGRESS: at 90.43% examples, 818495 words/s, in_qsize 14, out_qsize 1\n",
            "2022-05-01 05:49:33,824 : INFO : worker thread finished; awaiting finish of 7 more threads\n",
            "2022-05-01 05:49:33,832 : INFO : worker thread finished; awaiting finish of 6 more threads\n",
            "2022-05-01 05:49:33,834 : INFO : worker thread finished; awaiting finish of 5 more threads\n",
            "2022-05-01 05:49:33,839 : INFO : worker thread finished; awaiting finish of 4 more threads\n",
            "2022-05-01 05:49:33,841 : INFO : worker thread finished; awaiting finish of 3 more threads\n",
            "2022-05-01 05:49:33,843 : INFO : worker thread finished; awaiting finish of 2 more threads\n",
            "2022-05-01 05:49:33,857 : INFO : worker thread finished; awaiting finish of 1 more threads\n",
            "2022-05-01 05:49:33,859 : INFO : worker thread finished; awaiting finish of 0 more threads\n",
            "2022-05-01 05:49:33,860 : INFO : EPOCH - 18 : training on 9227204 raw words (8221174 effective words) took 10.0s, 820148 effective words/s\n",
            "2022-05-01 05:49:34,879 : INFO : EPOCH 19 - PROGRESS: at 8.69% examples, 706435 words/s, in_qsize 15, out_qsize 0\n",
            "2022-05-01 05:49:35,893 : INFO : EPOCH 19 - PROGRESS: at 18.76% examples, 761881 words/s, in_qsize 16, out_qsize 4\n",
            "2022-05-01 05:49:36,900 : INFO : EPOCH 19 - PROGRESS: at 28.83% examples, 782133 words/s, in_qsize 15, out_qsize 0\n",
            "2022-05-01 05:49:37,901 : INFO : EPOCH 19 - PROGRESS: at 38.24% examples, 780173 words/s, in_qsize 15, out_qsize 0\n",
            "2022-05-01 05:49:38,919 : INFO : EPOCH 19 - PROGRESS: at 48.51% examples, 790404 words/s, in_qsize 15, out_qsize 0\n",
            "2022-05-01 05:49:39,955 : INFO : EPOCH 19 - PROGRESS: at 58.68% examples, 793743 words/s, in_qsize 16, out_qsize 2\n",
            "2022-05-01 05:49:40,958 : INFO : EPOCH 19 - PROGRESS: at 69.29% examples, 804404 words/s, in_qsize 16, out_qsize 1\n",
            "2022-05-01 05:49:41,983 : INFO : EPOCH 19 - PROGRESS: at 79.38% examples, 804876 words/s, in_qsize 15, out_qsize 0\n",
            "2022-05-01 05:49:43,035 : INFO : EPOCH 19 - PROGRESS: at 89.34% examples, 801832 words/s, in_qsize 15, out_qsize 0\n",
            "2022-05-01 05:49:44,028 : INFO : worker thread finished; awaiting finish of 7 more threads\n",
            "2022-05-01 05:49:44,033 : INFO : worker thread finished; awaiting finish of 6 more threads\n",
            "2022-05-01 05:49:44,045 : INFO : EPOCH 19 - PROGRESS: at 99.45% examples, 803684 words/s, in_qsize 5, out_qsize 1\n",
            "2022-05-01 05:49:44,050 : INFO : worker thread finished; awaiting finish of 5 more threads\n",
            "2022-05-01 05:49:44,053 : INFO : worker thread finished; awaiting finish of 4 more threads\n",
            "2022-05-01 05:49:44,055 : INFO : worker thread finished; awaiting finish of 3 more threads\n",
            "2022-05-01 05:49:44,056 : INFO : worker thread finished; awaiting finish of 2 more threads\n",
            "2022-05-01 05:49:44,059 : INFO : worker thread finished; awaiting finish of 1 more threads\n",
            "2022-05-01 05:49:44,060 : INFO : worker thread finished; awaiting finish of 0 more threads\n",
            "2022-05-01 05:49:44,061 : INFO : EPOCH - 19 : training on 9227204 raw words (8222130 effective words) took 10.2s, 806790 effective words/s\n",
            "2022-05-01 05:49:45,085 : INFO : EPOCH 20 - PROGRESS: at 9.88% examples, 802526 words/s, in_qsize 15, out_qsize 0\n",
            "2022-05-01 05:49:46,098 : INFO : EPOCH 20 - PROGRESS: at 20.27% examples, 822894 words/s, in_qsize 16, out_qsize 0\n",
            "2022-05-01 05:49:47,162 : INFO : EPOCH 20 - PROGRESS: at 30.89% examples, 824729 words/s, in_qsize 15, out_qsize 1\n",
            "2022-05-01 05:49:48,164 : INFO : EPOCH 20 - PROGRESS: at 41.26% examples, 831165 words/s, in_qsize 12, out_qsize 3\n",
            "2022-05-01 05:49:49,167 : INFO : EPOCH 20 - PROGRESS: at 50.78% examples, 820175 words/s, in_qsize 16, out_qsize 2\n",
            "2022-05-01 05:49:50,175 : INFO : EPOCH 20 - PROGRESS: at 60.85% examples, 820559 words/s, in_qsize 14, out_qsize 1\n",
            "2022-05-01 05:49:51,230 : INFO : EPOCH 20 - PROGRESS: at 71.13% examples, 817867 words/s, in_qsize 14, out_qsize 1\n",
            "2022-05-01 05:49:52,239 : INFO : EPOCH 20 - PROGRESS: at 81.55% examples, 821610 words/s, in_qsize 15, out_qsize 0\n",
            "2022-05-01 05:49:53,260 : INFO : EPOCH 20 - PROGRESS: at 91.09% examples, 815601 words/s, in_qsize 16, out_qsize 0\n",
            "2022-05-01 05:49:54,049 : INFO : worker thread finished; awaiting finish of 7 more threads\n",
            "2022-05-01 05:49:54,062 : INFO : worker thread finished; awaiting finish of 6 more threads\n",
            "2022-05-01 05:49:54,071 : INFO : worker thread finished; awaiting finish of 5 more threads\n",
            "2022-05-01 05:49:54,077 : INFO : worker thread finished; awaiting finish of 4 more threads\n",
            "2022-05-01 05:49:54,079 : INFO : worker thread finished; awaiting finish of 3 more threads\n",
            "2022-05-01 05:49:54,085 : INFO : worker thread finished; awaiting finish of 2 more threads\n",
            "2022-05-01 05:49:54,092 : INFO : worker thread finished; awaiting finish of 1 more threads\n",
            "2022-05-01 05:49:54,102 : INFO : worker thread finished; awaiting finish of 0 more threads\n",
            "2022-05-01 05:49:54,104 : INFO : EPOCH - 20 : training on 9227204 raw words (8222916 effective words) took 10.0s, 819892 effective words/s\n",
            "2022-05-01 05:49:55,140 : INFO : EPOCH 21 - PROGRESS: at 9.88% examples, 793455 words/s, in_qsize 14, out_qsize 1\n",
            "2022-05-01 05:49:56,151 : INFO : EPOCH 21 - PROGRESS: at 19.73% examples, 797035 words/s, in_qsize 12, out_qsize 3\n",
            "2022-05-01 05:49:57,166 : INFO : EPOCH 21 - PROGRESS: at 30.13% examples, 813470 words/s, in_qsize 15, out_qsize 2\n",
            "2022-05-01 05:49:58,163 : INFO : EPOCH 21 - PROGRESS: at 40.73% examples, 827896 words/s, in_qsize 15, out_qsize 0\n",
            "2022-05-01 05:49:59,165 : INFO : EPOCH 21 - PROGRESS: at 49.92% examples, 813558 words/s, in_qsize 15, out_qsize 0\n",
            "2022-05-01 05:50:00,202 : INFO : EPOCH 21 - PROGRESS: at 59.87% examples, 809779 words/s, in_qsize 12, out_qsize 3\n",
            "2022-05-01 05:50:01,209 : INFO : EPOCH 21 - PROGRESS: at 70.16% examples, 814068 words/s, in_qsize 14, out_qsize 5\n",
            "2022-05-01 05:50:02,222 : INFO : EPOCH 21 - PROGRESS: at 80.69% examples, 818877 words/s, in_qsize 15, out_qsize 0\n",
            "2022-05-01 05:50:03,254 : INFO : EPOCH 21 - PROGRESS: at 90.87% examples, 819101 words/s, in_qsize 16, out_qsize 4\n",
            "2022-05-01 05:50:04,009 : INFO : worker thread finished; awaiting finish of 7 more threads\n",
            "2022-05-01 05:50:04,015 : INFO : worker thread finished; awaiting finish of 6 more threads\n",
            "2022-05-01 05:50:04,023 : INFO : worker thread finished; awaiting finish of 5 more threads\n",
            "2022-05-01 05:50:04,025 : INFO : worker thread finished; awaiting finish of 4 more threads\n",
            "2022-05-01 05:50:04,033 : INFO : worker thread finished; awaiting finish of 3 more threads\n",
            "2022-05-01 05:50:04,037 : INFO : worker thread finished; awaiting finish of 2 more threads\n",
            "2022-05-01 05:50:04,041 : INFO : worker thread finished; awaiting finish of 1 more threads\n",
            "2022-05-01 05:50:04,043 : INFO : worker thread finished; awaiting finish of 0 more threads\n",
            "2022-05-01 05:50:04,044 : INFO : EPOCH - 21 : training on 9227204 raw words (8222621 effective words) took 9.9s, 828389 effective words/s\n",
            "2022-05-01 05:50:05,070 : INFO : EPOCH 22 - PROGRESS: at 9.12% examples, 736626 words/s, in_qsize 13, out_qsize 2\n",
            "2022-05-01 05:50:06,090 : INFO : EPOCH 22 - PROGRESS: at 19.19% examples, 773953 words/s, in_qsize 15, out_qsize 0\n",
            "2022-05-01 05:50:07,095 : INFO : EPOCH 22 - PROGRESS: at 29.59% examples, 799544 words/s, in_qsize 15, out_qsize 0\n",
            "2022-05-01 05:50:08,103 : INFO : EPOCH 22 - PROGRESS: at 39.75% examples, 807325 words/s, in_qsize 15, out_qsize 0\n",
            "2022-05-01 05:50:09,129 : INFO : EPOCH 22 - PROGRESS: at 49.70% examples, 805554 words/s, in_qsize 15, out_qsize 0\n",
            "2022-05-01 05:50:10,130 : INFO : EPOCH 22 - PROGRESS: at 59.87% examples, 810625 words/s, in_qsize 15, out_qsize 0\n",
            "2022-05-01 05:50:11,146 : INFO : EPOCH 22 - PROGRESS: at 69.18% examples, 802487 words/s, in_qsize 15, out_qsize 2\n",
            "2022-05-01 05:50:12,155 : INFO : EPOCH 22 - PROGRESS: at 79.27% examples, 804813 words/s, in_qsize 15, out_qsize 0\n",
            "2022-05-01 05:50:13,163 : INFO : EPOCH 22 - PROGRESS: at 89.13% examples, 804727 words/s, in_qsize 15, out_qsize 0\n",
            "2022-05-01 05:50:14,141 : INFO : worker thread finished; awaiting finish of 7 more threads\n",
            "2022-05-01 05:50:14,144 : INFO : worker thread finished; awaiting finish of 6 more threads\n",
            "2022-05-01 05:50:14,149 : INFO : worker thread finished; awaiting finish of 5 more threads\n",
            "2022-05-01 05:50:14,152 : INFO : worker thread finished; awaiting finish of 4 more threads\n",
            "2022-05-01 05:50:14,156 : INFO : worker thread finished; awaiting finish of 3 more threads\n",
            "2022-05-01 05:50:14,165 : INFO : EPOCH 22 - PROGRESS: at 99.78% examples, 811352 words/s, in_qsize 2, out_qsize 1\n",
            "2022-05-01 05:50:14,166 : INFO : worker thread finished; awaiting finish of 2 more threads\n",
            "2022-05-01 05:50:14,175 : INFO : worker thread finished; awaiting finish of 1 more threads\n",
            "2022-05-01 05:50:14,177 : INFO : worker thread finished; awaiting finish of 0 more threads\n",
            "2022-05-01 05:50:14,178 : INFO : EPOCH - 22 : training on 9227204 raw words (8221729 effective words) took 10.1s, 812077 effective words/s\n",
            "2022-05-01 05:50:15,200 : INFO : EPOCH 23 - PROGRESS: at 9.45% examples, 765213 words/s, in_qsize 15, out_qsize 0\n",
            "2022-05-01 05:50:16,221 : INFO : EPOCH 23 - PROGRESS: at 19.73% examples, 796998 words/s, in_qsize 15, out_qsize 0\n",
            "2022-05-01 05:50:17,243 : INFO : EPOCH 23 - PROGRESS: at 30.35% examples, 816481 words/s, in_qsize 16, out_qsize 0\n",
            "2022-05-01 05:50:18,258 : INFO : EPOCH 23 - PROGRESS: at 40.51% examples, 818619 words/s, in_qsize 14, out_qsize 1\n",
            "2022-05-01 05:50:19,279 : INFO : EPOCH 23 - PROGRESS: at 50.35% examples, 813674 words/s, in_qsize 15, out_qsize 0\n",
            "2022-05-01 05:50:20,285 : INFO : EPOCH 23 - PROGRESS: at 60.63% examples, 818211 words/s, in_qsize 16, out_qsize 0\n",
            "2022-05-01 05:50:21,286 : INFO : EPOCH 23 - PROGRESS: at 69.61% examples, 807064 words/s, in_qsize 15, out_qsize 0\n",
            "2022-05-01 05:50:22,311 : INFO : EPOCH 23 - PROGRESS: at 80.25% examples, 812638 words/s, in_qsize 13, out_qsize 2\n",
            "2022-05-01 05:50:23,335 : INFO : EPOCH 23 - PROGRESS: at 89.56% examples, 805427 words/s, in_qsize 14, out_qsize 1\n",
            "2022-05-01 05:50:24,290 : INFO : worker thread finished; awaiting finish of 7 more threads\n",
            "2022-05-01 05:50:24,293 : INFO : worker thread finished; awaiting finish of 6 more threads\n",
            "2022-05-01 05:50:24,296 : INFO : worker thread finished; awaiting finish of 5 more threads\n",
            "2022-05-01 05:50:24,325 : INFO : worker thread finished; awaiting finish of 4 more threads\n",
            "2022-05-01 05:50:24,330 : INFO : worker thread finished; awaiting finish of 3 more threads\n",
            "2022-05-01 05:50:24,332 : INFO : worker thread finished; awaiting finish of 2 more threads\n",
            "2022-05-01 05:50:24,333 : INFO : worker thread finished; awaiting finish of 1 more threads\n",
            "2022-05-01 05:50:24,344 : INFO : EPOCH 23 - PROGRESS: at 100.00% examples, 809689 words/s, in_qsize 0, out_qsize 1\n",
            "2022-05-01 05:50:24,345 : INFO : worker thread finished; awaiting finish of 0 more threads\n",
            "2022-05-01 05:50:24,346 : INFO : EPOCH - 23 : training on 9227204 raw words (8223158 effective words) took 10.2s, 809514 effective words/s\n",
            "2022-05-01 05:50:25,361 : INFO : EPOCH 24 - PROGRESS: at 8.58% examples, 700351 words/s, in_qsize 15, out_qsize 0\n",
            "2022-05-01 05:50:26,382 : INFO : EPOCH 24 - PROGRESS: at 19.19% examples, 778027 words/s, in_qsize 14, out_qsize 1\n",
            "2022-05-01 05:50:27,410 : INFO : EPOCH 24 - PROGRESS: at 29.16% examples, 784580 words/s, in_qsize 15, out_qsize 0\n",
            "2022-05-01 05:50:28,417 : INFO : EPOCH 24 - PROGRESS: at 39.43% examples, 798462 words/s, in_qsize 14, out_qsize 1\n",
            "2022-05-01 05:50:29,419 : INFO : EPOCH 24 - PROGRESS: at 49.70% examples, 807695 words/s, in_qsize 15, out_qsize 0\n",
            "2022-05-01 05:50:30,424 : INFO : EPOCH 24 - PROGRESS: at 59.66% examples, 809062 words/s, in_qsize 16, out_qsize 0\n",
            "2022-05-01 05:50:31,433 : INFO : EPOCH 24 - PROGRESS: at 69.50% examples, 808293 words/s, in_qsize 13, out_qsize 2\n",
            "2022-05-01 05:50:32,436 : INFO : EPOCH 24 - PROGRESS: at 79.38% examples, 808156 words/s, in_qsize 14, out_qsize 1\n",
            "2022-05-01 05:50:33,441 : INFO : EPOCH 24 - PROGRESS: at 88.80% examples, 804074 words/s, in_qsize 15, out_qsize 0\n",
            "2022-05-01 05:50:34,472 : INFO : EPOCH 24 - PROGRESS: at 99.12% examples, 806260 words/s, in_qsize 8, out_qsize 3\n",
            "2022-05-01 05:50:34,475 : INFO : worker thread finished; awaiting finish of 7 more threads\n",
            "2022-05-01 05:50:34,477 : INFO : worker thread finished; awaiting finish of 6 more threads\n",
            "2022-05-01 05:50:34,482 : INFO : worker thread finished; awaiting finish of 5 more threads\n",
            "2022-05-01 05:50:34,485 : INFO : worker thread finished; awaiting finish of 4 more threads\n",
            "2022-05-01 05:50:34,486 : INFO : worker thread finished; awaiting finish of 3 more threads\n",
            "2022-05-01 05:50:34,488 : INFO : worker thread finished; awaiting finish of 2 more threads\n",
            "2022-05-01 05:50:34,489 : INFO : worker thread finished; awaiting finish of 1 more threads\n",
            "2022-05-01 05:50:34,503 : INFO : worker thread finished; awaiting finish of 0 more threads\n",
            "2022-05-01 05:50:34,504 : INFO : EPOCH - 24 : training on 9227204 raw words (8222680 effective words) took 10.1s, 810345 effective words/s\n",
            "2022-05-01 05:50:35,530 : INFO : EPOCH 25 - PROGRESS: at 9.55% examples, 771181 words/s, in_qsize 15, out_qsize 0\n",
            "2022-05-01 05:50:36,549 : INFO : EPOCH 25 - PROGRESS: at 19.19% examples, 774381 words/s, in_qsize 15, out_qsize 3\n",
            "2022-05-01 05:50:37,556 : INFO : EPOCH 25 - PROGRESS: at 29.70% examples, 802364 words/s, in_qsize 14, out_qsize 1\n",
            "2022-05-01 05:50:38,581 : INFO : EPOCH 25 - PROGRESS: at 40.62% examples, 821443 words/s, in_qsize 15, out_qsize 0\n",
            "2022-05-01 05:50:39,587 : INFO : EPOCH 25 - PROGRESS: at 50.99% examples, 827122 words/s, in_qsize 15, out_qsize 0\n",
            "2022-05-01 05:50:40,600 : INFO : EPOCH 25 - PROGRESS: at 61.28% examples, 828623 words/s, in_qsize 15, out_qsize 0\n",
            "2022-05-01 05:50:41,606 : INFO : EPOCH 25 - PROGRESS: at 71.78% examples, 832896 words/s, in_qsize 15, out_qsize 0\n",
            "2022-05-01 05:50:42,629 : INFO : EPOCH 25 - PROGRESS: at 82.10% examples, 832183 words/s, in_qsize 16, out_qsize 1\n",
            "2022-05-01 05:50:43,653 : INFO : EPOCH 25 - PROGRESS: at 92.39% examples, 831479 words/s, in_qsize 13, out_qsize 2\n",
            "2022-05-01 05:50:44,288 : INFO : worker thread finished; awaiting finish of 7 more threads\n",
            "2022-05-01 05:50:44,317 : INFO : worker thread finished; awaiting finish of 6 more threads\n",
            "2022-05-01 05:50:44,319 : INFO : worker thread finished; awaiting finish of 5 more threads\n",
            "2022-05-01 05:50:44,324 : INFO : worker thread finished; awaiting finish of 4 more threads\n",
            "2022-05-01 05:50:44,327 : INFO : worker thread finished; awaiting finish of 3 more threads\n",
            "2022-05-01 05:50:44,352 : INFO : worker thread finished; awaiting finish of 2 more threads\n",
            "2022-05-01 05:50:44,357 : INFO : worker thread finished; awaiting finish of 1 more threads\n",
            "2022-05-01 05:50:44,360 : INFO : worker thread finished; awaiting finish of 0 more threads\n",
            "2022-05-01 05:50:44,361 : INFO : EPOCH - 25 : training on 9227204 raw words (8223648 effective words) took 9.8s, 835099 effective words/s\n",
            "2022-05-01 05:50:45,379 : INFO : EPOCH 26 - PROGRESS: at 9.88% examples, 804730 words/s, in_qsize 14, out_qsize 1\n",
            "2022-05-01 05:50:46,383 : INFO : EPOCH 26 - PROGRESS: at 19.94% examples, 814450 words/s, in_qsize 16, out_qsize 0\n",
            "2022-05-01 05:50:47,392 : INFO : EPOCH 26 - PROGRESS: at 29.70% examples, 808083 words/s, in_qsize 16, out_qsize 1\n",
            "2022-05-01 05:50:48,397 : INFO : EPOCH 26 - PROGRESS: at 40.40% examples, 825261 words/s, in_qsize 16, out_qsize 0\n",
            "2022-05-01 05:50:49,402 : INFO : EPOCH 26 - PROGRESS: at 50.56% examples, 826896 words/s, in_qsize 15, out_qsize 0\n",
            "2022-05-01 05:50:50,433 : INFO : EPOCH 26 - PROGRESS: at 60.42% examples, 820100 words/s, in_qsize 16, out_qsize 2\n",
            "2022-05-01 05:50:51,435 : INFO : EPOCH 26 - PROGRESS: at 70.04% examples, 816035 words/s, in_qsize 15, out_qsize 3\n",
            "2022-05-01 05:50:52,449 : INFO : EPOCH 26 - PROGRESS: at 80.80% examples, 822745 words/s, in_qsize 15, out_qsize 0\n",
            "2022-05-01 05:50:53,472 : INFO : EPOCH 26 - PROGRESS: at 90.87% examples, 821224 words/s, in_qsize 16, out_qsize 1\n",
            "2022-05-01 05:50:54,254 : INFO : worker thread finished; awaiting finish of 7 more threads\n",
            "2022-05-01 05:50:54,265 : INFO : worker thread finished; awaiting finish of 6 more threads\n",
            "2022-05-01 05:50:54,277 : INFO : worker thread finished; awaiting finish of 5 more threads\n",
            "2022-05-01 05:50:54,280 : INFO : worker thread finished; awaiting finish of 4 more threads\n",
            "2022-05-01 05:50:54,283 : INFO : worker thread finished; awaiting finish of 3 more threads\n",
            "2022-05-01 05:50:54,295 : INFO : worker thread finished; awaiting finish of 2 more threads\n",
            "2022-05-01 05:50:54,299 : INFO : worker thread finished; awaiting finish of 1 more threads\n",
            "2022-05-01 05:50:54,305 : INFO : worker thread finished; awaiting finish of 0 more threads\n",
            "2022-05-01 05:50:54,306 : INFO : EPOCH - 26 : training on 9227204 raw words (8223304 effective words) took 9.9s, 827683 effective words/s\n",
            "2022-05-01 05:50:55,337 : INFO : EPOCH 27 - PROGRESS: at 8.90% examples, 715571 words/s, in_qsize 15, out_qsize 0\n",
            "2022-05-01 05:50:56,346 : INFO : EPOCH 27 - PROGRESS: at 19.19% examples, 776765 words/s, in_qsize 15, out_qsize 0\n",
            "2022-05-01 05:50:57,350 : INFO : EPOCH 27 - PROGRESS: at 28.83% examples, 781098 words/s, in_qsize 14, out_qsize 1\n",
            "2022-05-01 05:50:58,362 : INFO : EPOCH 27 - PROGRESS: at 38.89% examples, 790399 words/s, in_qsize 13, out_qsize 2\n",
            "2022-05-01 05:50:59,373 : INFO : EPOCH 27 - PROGRESS: at 49.59% examples, 806863 words/s, in_qsize 14, out_qsize 1\n",
            "2022-05-01 05:51:00,401 : INFO : EPOCH 27 - PROGRESS: at 59.76% examples, 808187 words/s, in_qsize 14, out_qsize 1\n",
            "2022-05-01 05:51:01,427 : INFO : EPOCH 27 - PROGRESS: at 69.94% examples, 809334 words/s, in_qsize 15, out_qsize 0\n",
            "2022-05-01 05:51:02,430 : INFO : EPOCH 27 - PROGRESS: at 79.70% examples, 808056 words/s, in_qsize 15, out_qsize 0\n",
            "2022-05-01 05:51:03,438 : INFO : EPOCH 27 - PROGRESS: at 90.00% examples, 811555 words/s, in_qsize 14, out_qsize 1\n",
            "2022-05-01 05:51:04,341 : INFO : worker thread finished; awaiting finish of 7 more threads\n",
            "2022-05-01 05:51:04,366 : INFO : worker thread finished; awaiting finish of 6 more threads\n",
            "2022-05-01 05:51:04,368 : INFO : worker thread finished; awaiting finish of 5 more threads\n",
            "2022-05-01 05:51:04,370 : INFO : worker thread finished; awaiting finish of 4 more threads\n",
            "2022-05-01 05:51:04,372 : INFO : worker thread finished; awaiting finish of 3 more threads\n",
            "2022-05-01 05:51:04,377 : INFO : worker thread finished; awaiting finish of 2 more threads\n",
            "2022-05-01 05:51:04,385 : INFO : worker thread finished; awaiting finish of 1 more threads\n",
            "2022-05-01 05:51:04,390 : INFO : worker thread finished; awaiting finish of 0 more threads\n",
            "2022-05-01 05:51:04,391 : INFO : EPOCH - 27 : training on 9227204 raw words (8222635 effective words) took 10.1s, 816170 effective words/s\n",
            "2022-05-01 05:51:05,419 : INFO : EPOCH 28 - PROGRESS: at 9.45% examples, 761109 words/s, in_qsize 13, out_qsize 2\n",
            "2022-05-01 05:51:06,420 : INFO : EPOCH 28 - PROGRESS: at 20.16% examples, 820087 words/s, in_qsize 16, out_qsize 1\n",
            "2022-05-01 05:51:07,422 : INFO : EPOCH 28 - PROGRESS: at 30.02% examples, 816616 words/s, in_qsize 14, out_qsize 1\n",
            "2022-05-01 05:51:08,441 : INFO : EPOCH 28 - PROGRESS: at 39.87% examples, 811146 words/s, in_qsize 13, out_qsize 2\n",
            "2022-05-01 05:51:09,443 : INFO : EPOCH 28 - PROGRESS: at 50.35% examples, 821356 words/s, in_qsize 13, out_qsize 2\n",
            "2022-05-01 05:51:10,462 : INFO : EPOCH 28 - PROGRESS: at 60.96% examples, 827509 words/s, in_qsize 16, out_qsize 0\n",
            "2022-05-01 05:51:11,478 : INFO : EPOCH 28 - PROGRESS: at 71.45% examples, 830792 words/s, in_qsize 15, out_qsize 0\n",
            "2022-05-01 05:51:12,499 : INFO : EPOCH 28 - PROGRESS: at 81.99% examples, 832680 words/s, in_qsize 16, out_qsize 2\n",
            "2022-05-01 05:51:13,519 : INFO : EPOCH 28 - PROGRESS: at 91.63% examples, 826337 words/s, in_qsize 14, out_qsize 1\n",
            "2022-05-01 05:51:14,206 : INFO : worker thread finished; awaiting finish of 7 more threads\n",
            "2022-05-01 05:51:14,214 : INFO : worker thread finished; awaiting finish of 6 more threads\n",
            "2022-05-01 05:51:14,232 : INFO : worker thread finished; awaiting finish of 5 more threads\n",
            "2022-05-01 05:51:14,240 : INFO : worker thread finished; awaiting finish of 4 more threads\n",
            "2022-05-01 05:51:14,246 : INFO : worker thread finished; awaiting finish of 3 more threads\n",
            "2022-05-01 05:51:14,254 : INFO : worker thread finished; awaiting finish of 2 more threads\n",
            "2022-05-01 05:51:14,258 : INFO : worker thread finished; awaiting finish of 1 more threads\n",
            "2022-05-01 05:51:14,261 : INFO : worker thread finished; awaiting finish of 0 more threads\n",
            "2022-05-01 05:51:14,262 : INFO : EPOCH - 28 : training on 9227204 raw words (8221552 effective words) took 9.9s, 833752 effective words/s\n",
            "2022-05-01 05:51:15,275 : INFO : EPOCH 29 - PROGRESS: at 9.23% examples, 757208 words/s, in_qsize 15, out_qsize 0\n",
            "2022-05-01 05:51:16,281 : INFO : EPOCH 29 - PROGRESS: at 18.86% examples, 772205 words/s, in_qsize 15, out_qsize 0\n",
            "2022-05-01 05:51:17,283 : INFO : EPOCH 29 - PROGRESS: at 27.64% examples, 755069 words/s, in_qsize 14, out_qsize 2\n",
            "2022-05-01 05:51:18,321 : INFO : EPOCH 29 - PROGRESS: at 37.92% examples, 770609 words/s, in_qsize 15, out_qsize 0\n",
            "2022-05-01 05:51:19,324 : INFO : EPOCH 29 - PROGRESS: at 47.32% examples, 770946 words/s, in_qsize 15, out_qsize 0\n",
            "2022-05-01 05:51:20,328 : INFO : EPOCH 29 - PROGRESS: at 57.27% examples, 778569 words/s, in_qsize 15, out_qsize 0\n",
            "2022-05-01 05:51:21,343 : INFO : EPOCH 29 - PROGRESS: at 67.66% examples, 787736 words/s, in_qsize 14, out_qsize 1\n",
            "2022-05-01 05:51:22,347 : INFO : EPOCH 29 - PROGRESS: at 77.53% examples, 790191 words/s, in_qsize 15, out_qsize 0\n",
            "2022-05-01 05:51:23,354 : INFO : EPOCH 29 - PROGRESS: at 87.29% examples, 790818 words/s, in_qsize 15, out_qsize 0\n",
            "2022-05-01 05:51:24,368 : INFO : EPOCH 29 - PROGRESS: at 97.18% examples, 791609 words/s, in_qsize 15, out_qsize 0\n",
            "2022-05-01 05:51:24,574 : INFO : worker thread finished; awaiting finish of 7 more threads\n",
            "2022-05-01 05:51:24,582 : INFO : worker thread finished; awaiting finish of 6 more threads\n",
            "2022-05-01 05:51:24,598 : INFO : worker thread finished; awaiting finish of 5 more threads\n",
            "2022-05-01 05:51:24,600 : INFO : worker thread finished; awaiting finish of 4 more threads\n",
            "2022-05-01 05:51:24,609 : INFO : worker thread finished; awaiting finish of 3 more threads\n",
            "2022-05-01 05:51:24,615 : INFO : worker thread finished; awaiting finish of 2 more threads\n",
            "2022-05-01 05:51:24,620 : INFO : worker thread finished; awaiting finish of 1 more threads\n",
            "2022-05-01 05:51:24,629 : INFO : worker thread finished; awaiting finish of 0 more threads\n",
            "2022-05-01 05:51:24,630 : INFO : EPOCH - 29 : training on 9227204 raw words (8222558 effective words) took 10.4s, 794031 effective words/s\n",
            "2022-05-01 05:51:25,641 : INFO : EPOCH 30 - PROGRESS: at 9.34% examples, 765732 words/s, in_qsize 15, out_qsize 0\n",
            "2022-05-01 05:51:26,650 : INFO : EPOCH 30 - PROGRESS: at 19.08% examples, 779955 words/s, in_qsize 15, out_qsize 0\n",
            "2022-05-01 05:51:27,663 : INFO : EPOCH 30 - PROGRESS: at 29.37% examples, 798866 words/s, in_qsize 15, out_qsize 0\n",
            "2022-05-01 05:51:28,664 : INFO : EPOCH 30 - PROGRESS: at 39.43% examples, 805865 words/s, in_qsize 15, out_qsize 0\n",
            "2022-05-01 05:51:29,673 : INFO : EPOCH 30 - PROGRESS: at 48.51% examples, 792995 words/s, in_qsize 15, out_qsize 0\n",
            "2022-05-01 05:51:30,695 : INFO : EPOCH 30 - PROGRESS: at 57.82% examples, 787086 words/s, in_qsize 15, out_qsize 1\n",
            "2022-05-01 05:51:31,694 : INFO : EPOCH 30 - PROGRESS: at 68.09% examples, 794507 words/s, in_qsize 14, out_qsize 1\n",
            "2022-05-01 05:51:32,700 : INFO : EPOCH 30 - PROGRESS: at 78.51% examples, 801475 words/s, in_qsize 15, out_qsize 0\n",
            "2022-05-01 05:51:33,712 : INFO : EPOCH 30 - PROGRESS: at 88.37% examples, 801413 words/s, in_qsize 14, out_qsize 1\n",
            "2022-05-01 05:51:34,713 : INFO : EPOCH 30 - PROGRESS: at 98.47% examples, 803971 words/s, in_qsize 13, out_qsize 2\n",
            "2022-05-01 05:51:34,785 : INFO : worker thread finished; awaiting finish of 7 more threads\n",
            "2022-05-01 05:51:34,792 : INFO : worker thread finished; awaiting finish of 6 more threads\n",
            "2022-05-01 05:51:34,797 : INFO : worker thread finished; awaiting finish of 5 more threads\n",
            "2022-05-01 05:51:34,805 : INFO : worker thread finished; awaiting finish of 4 more threads\n",
            "2022-05-01 05:51:34,807 : INFO : worker thread finished; awaiting finish of 3 more threads\n",
            "2022-05-01 05:51:34,828 : INFO : worker thread finished; awaiting finish of 2 more threads\n",
            "2022-05-01 05:51:34,830 : INFO : worker thread finished; awaiting finish of 1 more threads\n",
            "2022-05-01 05:51:34,832 : INFO : worker thread finished; awaiting finish of 0 more threads\n",
            "2022-05-01 05:51:34,833 : INFO : EPOCH - 30 : training on 9227204 raw words (8223614 effective words) took 10.2s, 806780 effective words/s\n",
            "2022-05-01 05:51:35,866 : INFO : EPOCH 31 - PROGRESS: at 9.34% examples, 750768 words/s, in_qsize 13, out_qsize 2\n",
            "2022-05-01 05:51:36,871 : INFO : EPOCH 31 - PROGRESS: at 19.73% examples, 800447 words/s, in_qsize 15, out_qsize 0\n",
            "2022-05-01 05:51:37,871 : INFO : EPOCH 31 - PROGRESS: at 30.46% examples, 827333 words/s, in_qsize 15, out_qsize 0\n",
            "2022-05-01 05:51:38,878 : INFO : EPOCH 31 - PROGRESS: at 39.86% examples, 813018 words/s, in_qsize 16, out_qsize 1\n",
            "2022-05-01 05:51:39,886 : INFO : EPOCH 31 - PROGRESS: at 49.38% examples, 806013 words/s, in_qsize 15, out_qsize 0\n",
            "2022-05-01 05:51:40,925 : INFO : EPOCH 31 - PROGRESS: at 59.98% examples, 811970 words/s, in_qsize 13, out_qsize 2\n",
            "2022-05-01 05:51:41,948 : INFO : EPOCH 31 - PROGRESS: at 70.05% examples, 811655 words/s, in_qsize 15, out_qsize 2\n",
            "2022-05-01 05:51:42,962 : INFO : EPOCH 31 - PROGRESS: at 80.68% examples, 817798 words/s, in_qsize 14, out_qsize 1\n",
            "2022-05-01 05:51:43,962 : INFO : EPOCH 31 - PROGRESS: at 90.54% examples, 816944 words/s, in_qsize 15, out_qsize 0\n",
            "2022-05-01 05:51:44,780 : INFO : worker thread finished; awaiting finish of 7 more threads\n",
            "2022-05-01 05:51:44,792 : INFO : worker thread finished; awaiting finish of 6 more threads\n",
            "2022-05-01 05:51:44,802 : INFO : worker thread finished; awaiting finish of 5 more threads\n",
            "2022-05-01 05:51:44,819 : INFO : worker thread finished; awaiting finish of 4 more threads\n",
            "2022-05-01 05:51:44,824 : INFO : worker thread finished; awaiting finish of 3 more threads\n",
            "2022-05-01 05:51:44,831 : INFO : worker thread finished; awaiting finish of 2 more threads\n",
            "2022-05-01 05:51:44,838 : INFO : worker thread finished; awaiting finish of 1 more threads\n",
            "2022-05-01 05:51:44,840 : INFO : worker thread finished; awaiting finish of 0 more threads\n",
            "2022-05-01 05:51:44,841 : INFO : EPOCH - 31 : training on 9227204 raw words (8223531 effective words) took 10.0s, 822782 effective words/s\n",
            "2022-05-01 05:51:45,911 : INFO : EPOCH 32 - PROGRESS: at 9.34% examples, 730418 words/s, in_qsize 15, out_qsize 4\n",
            "2022-05-01 05:51:46,933 : INFO : EPOCH 32 - PROGRESS: at 20.05% examples, 795622 words/s, in_qsize 12, out_qsize 2\n",
            "2022-05-01 05:51:47,939 : INFO : EPOCH 32 - PROGRESS: at 30.35% examples, 810873 words/s, in_qsize 15, out_qsize 0\n",
            "2022-05-01 05:51:48,942 : INFO : EPOCH 32 - PROGRESS: at 40.62% examples, 818803 words/s, in_qsize 16, out_qsize 0\n",
            "2022-05-01 05:51:49,973 : INFO : EPOCH 32 - PROGRESS: at 50.67% examples, 815872 words/s, in_qsize 15, out_qsize 0\n",
            "2022-05-01 05:51:50,988 : INFO : EPOCH 32 - PROGRESS: at 60.85% examples, 817422 words/s, in_qsize 12, out_qsize 3\n",
            "2022-05-01 05:51:51,990 : INFO : EPOCH 32 - PROGRESS: at 71.12% examples, 821205 words/s, in_qsize 15, out_qsize 0\n",
            "2022-05-01 05:51:53,009 : INFO : EPOCH 32 - PROGRESS: at 81.55% examples, 823496 words/s, in_qsize 15, out_qsize 0\n",
            "2022-05-01 05:51:54,026 : INFO : EPOCH 32 - PROGRESS: at 92.07% examples, 826280 words/s, in_qsize 15, out_qsize 0\n",
            "2022-05-01 05:51:54,746 : INFO : worker thread finished; awaiting finish of 7 more threads\n",
            "2022-05-01 05:51:54,757 : INFO : worker thread finished; awaiting finish of 6 more threads\n",
            "2022-05-01 05:51:54,759 : INFO : worker thread finished; awaiting finish of 5 more threads\n",
            "2022-05-01 05:51:54,762 : INFO : worker thread finished; awaiting finish of 4 more threads\n",
            "2022-05-01 05:51:54,766 : INFO : worker thread finished; awaiting finish of 3 more threads\n",
            "2022-05-01 05:51:54,773 : INFO : worker thread finished; awaiting finish of 2 more threads\n",
            "2022-05-01 05:51:54,785 : INFO : worker thread finished; awaiting finish of 1 more threads\n",
            "2022-05-01 05:51:54,786 : INFO : worker thread finished; awaiting finish of 0 more threads\n",
            "2022-05-01 05:51:54,787 : INFO : EPOCH - 32 : training on 9227204 raw words (8223672 effective words) took 9.9s, 828615 effective words/s\n",
            "2022-05-01 05:51:54,788 : INFO : training on a 295270528 raw words (263126189 effective words) took 324.5s, 810947 effective words/s\n"
          ]
        },
        {
          "output_type": "stream",
          "name": "stdout",
          "text": [
            "CPU times: user 19min 8s, sys: 5.67 s, total: 19min 13s\n",
            "Wall time: 5min 24s\n"
          ]
        },
        {
          "output_type": "execute_result",
          "data": {
            "text/plain": [
              "(263126189, 295270528)"
            ]
          },
          "metadata": {},
          "execution_count": 22
        }
      ]
    },
    {
      "metadata": {
        "trusted": true,
        "_uuid": "27cc2651c74227115d8bfd8c40e5618048e05edd",
        "colab": {
          "base_uri": "https://localhost:8080/"
        },
        "id": "eNtfvJFyHOry",
        "outputId": "32f0de66-c05b-45e5-b8a9-e72c5bf684e6"
      },
      "cell_type": "code",
      "source": [
        "w2v_model.most_similar(\"love\")"
      ],
      "execution_count": null,
      "outputs": [
        {
          "output_type": "stream",
          "name": "stderr",
          "text": [
            "/usr/local/lib/python3.7/dist-packages/ipykernel_launcher.py:1: DeprecationWarning: Call to deprecated `most_similar` (Method will be removed in 4.0.0, use self.wv.most_similar() instead).\n",
            "  \"\"\"Entry point for launching an IPython kernel.\n",
            "2022-05-01 05:51:54,802 : INFO : precomputing L2-norms of word weight vectors\n"
          ]
        },
        {
          "output_type": "execute_result",
          "data": {
            "text/plain": [
              "[('luv', 0.5801413059234619),\n",
              " ('loved', 0.5415389537811279),\n",
              " ('loves', 0.5400099158287048),\n",
              " ('adore', 0.5304422974586487),\n",
              " ('amazing', 0.5103352069854736),\n",
              " ('looove', 0.48566293716430664),\n",
              " ('awesome', 0.4705257713794708),\n",
              " ('loveee', 0.43806278705596924),\n",
              " ('loooove', 0.43743059039115906),\n",
              " ('lovee', 0.4364038407802582)]"
            ]
          },
          "metadata": {},
          "execution_count": 23
        }
      ]
    },
    {
      "metadata": {
        "_uuid": "e13563644468037258598637b49373ca96b9b879",
        "id": "1x-2GwzeHOry"
      },
      "cell_type": "markdown",
      "source": [
        "### Tokenize Text"
      ]
    },
    {
      "metadata": {
        "trusted": true,
        "_uuid": "6852bc709a7cd20173cbeeb218505078f8f37c57",
        "colab": {
          "base_uri": "https://localhost:8080/"
        },
        "id": "KAtnYOBTHOry",
        "outputId": "d4e4351d-85bf-443d-9933-faeeb4fd5487"
      },
      "cell_type": "code",
      "source": [
        "%%time\n",
        "tokenizer = Tokenizer()\n",
        "tokenizer.fit_on_texts(df_train.text)\n",
        "\n",
        "vocab_size = len(tokenizer.word_index) + 1\n",
        "print(\"Total words\", vocab_size)"
      ],
      "execution_count": null,
      "outputs": [
        {
          "output_type": "stream",
          "name": "stdout",
          "text": [
            "Total words 290419\n",
            "CPU times: user 15.5 s, sys: 19.5 ms, total: 15.5 s\n",
            "Wall time: 15.5 s\n"
          ]
        }
      ]
    },
    {
      "metadata": {
        "trusted": true,
        "_uuid": "45de439df3015030c71f84c2d170346936a1d68f",
        "colab": {
          "base_uri": "https://localhost:8080/"
        },
        "id": "yJFDw-NSHOry",
        "outputId": "47b479eb-2428-46d0-a85c-d325f45b9c22"
      },
      "cell_type": "code",
      "source": [
        "%%time\n",
        "x_train = pad_sequences(tokenizer.texts_to_sequences(df_train.text), maxlen=seq_len)\n",
        "x_test = pad_sequences(tokenizer.texts_to_sequences(df_test.text), maxlen=seq_len)"
      ],
      "execution_count": null,
      "outputs": [
        {
          "output_type": "stream",
          "name": "stdout",
          "text": [
            "CPU times: user 22.1 s, sys: 377 ms, total: 22.5 s\n",
            "Wall time: 22.4 s\n"
          ]
        }
      ]
    },
    {
      "metadata": {
        "_uuid": "03b35903fc6260e190d6928d240ef7432de117fc",
        "id": "Y-71VshLHOry"
      },
      "cell_type": "markdown",
      "source": [
        "### Label Encoder "
      ]
    },
    {
      "metadata": {
        "trusted": true,
        "_uuid": "33676e0efa39e97d89bd650b8b4eae933a22fbf0",
        "colab": {
          "base_uri": "https://localhost:8080/"
        },
        "id": "-_gAjXitHOrz",
        "outputId": "13459d41-3d82-4cd6-b792-22d85461d4d6"
      },
      "cell_type": "code",
      "source": [
        "labels = df_train.target.unique().tolist()\n",
        "labels.append(NEUTRAL)\n",
        "labels"
      ],
      "execution_count": null,
      "outputs": [
        {
          "output_type": "execute_result",
          "data": {
            "text/plain": [
              "['POSITIVE', 'NEGATIVE', 'NEUTRAL']"
            ]
          },
          "metadata": {},
          "execution_count": 68
        }
      ]
    },
    {
      "metadata": {
        "trusted": true,
        "_uuid": "04239a9bef76e7922fd86098a5601dfde8ee4665",
        "colab": {
          "base_uri": "https://localhost:8080/"
        },
        "id": "Co3zSoy1HOrz",
        "outputId": "26533205-a151-42b7-dd42-34e4db2d1a99"
      },
      "cell_type": "code",
      "source": [
        "encoder = LabelEncoder()\n",
        "encoder.fit(df_train.target.tolist())\n",
        "\n",
        "y_train = encoder.transform(df_train.target.tolist())\n",
        "y_test = encoder.transform(df_test.target.tolist())\n",
        "\n",
        "y_train = y_train.reshape(-1,1)\n",
        "y_test = y_test.reshape(-1,1)\n",
        "\n",
        "print(\"y_train\",y_train.shape)\n",
        "print(\"y_test\",y_test.shape)"
      ],
      "execution_count": null,
      "outputs": [
        {
          "output_type": "stream",
          "name": "stdout",
          "text": [
            "y_train (1280000, 1)\n",
            "y_test (320000, 1)\n"
          ]
        }
      ]
    },
    {
      "metadata": {
        "trusted": true,
        "_uuid": "04299c886911ca135583ab64878f213939a2990c",
        "colab": {
          "base_uri": "https://localhost:8080/"
        },
        "id": "sqpYm_QsHOrz",
        "outputId": "f60ec5c9-beb1-4baf-eabc-300d50d86723"
      },
      "cell_type": "code",
      "source": [
        "print(\"x_train\", x_train.shape)\n",
        "print(\"y_train\", y_train.shape)\n",
        "print()\n",
        "print(\"x_test\", x_test.shape)\n",
        "print(\"y_test\", y_test.shape)"
      ],
      "execution_count": null,
      "outputs": [
        {
          "output_type": "stream",
          "name": "stdout",
          "text": [
            "x_train (1280000, 300)\n",
            "y_train (1280000, 1)\n",
            "\n",
            "x_test (320000, 300)\n",
            "y_test (320000, 1)\n"
          ]
        }
      ]
    },
    {
      "metadata": {
        "trusted": true,
        "_uuid": "232533fb27b7be99d9b8c2f8fb22c9c6bf121a6f",
        "colab": {
          "base_uri": "https://localhost:8080/"
        },
        "id": "p7Sggz0JHOrz",
        "outputId": "78278311-65ab-4340-dd31-60cde3bd1af6"
      },
      "cell_type": "code",
      "source": [
        "y_train[:10]"
      ],
      "execution_count": null,
      "outputs": [
        {
          "output_type": "execute_result",
          "data": {
            "text/plain": [
              "array([[1],\n",
              "       [1],\n",
              "       [1],\n",
              "       [0],\n",
              "       [1],\n",
              "       [1],\n",
              "       [1],\n",
              "       [1],\n",
              "       [1],\n",
              "       [1]])"
            ]
          },
          "metadata": {},
          "execution_count": 29
        }
      ]
    },
    {
      "metadata": {
        "_uuid": "233c0ea94055a03e2e7df3e2a13d036ec963484f",
        "id": "9OLHNiaLHOrz"
      },
      "cell_type": "markdown",
      "source": [
        "### Embedding layer"
      ]
    },
    {
      "metadata": {
        "trusted": true,
        "_uuid": "9ab488374b59e3f30f8b1ea92767d853c4846bac",
        "colab": {
          "base_uri": "https://localhost:8080/"
        },
        "id": "ekYq2DMzHOrz",
        "outputId": "a5673393-ed23-4708-a434-7f3fbae596b5"
      },
      "cell_type": "code",
      "source": [
        "embedding_matrix = np.zeros((vocab_size, w2v_size))\n",
        "for word, i in tokenizer.word_index.items():\n",
        "  if word in w2v_model.wv:\n",
        "    embedding_matrix[i] = w2v_model.wv[word]\n",
        "print(embedding_matrix.shape)"
      ],
      "execution_count": null,
      "outputs": [
        {
          "output_type": "stream",
          "name": "stdout",
          "text": [
            "(290419, 300)\n"
          ]
        }
      ]
    },
    {
      "metadata": {
        "trusted": true,
        "_uuid": "833279d91e4286065968237fb5f2a0c2dd4d246c",
        "id": "-1EfzqJgHOr0"
      },
      "cell_type": "code",
      "source": [
        "embedding_layer = Embedding(vocab_size, w2v_size, weights=[embedding_matrix], input_length=seq_len, trainable=False)"
      ],
      "execution_count": null,
      "outputs": []
    },
    {
      "metadata": {
        "_uuid": "b299ef78f94c2085942c993a2d58753a7476305a",
        "id": "C8dFdUP4HOr0"
      },
      "cell_type": "markdown",
      "source": [
        "### Build Model"
      ]
    },
    {
      "metadata": {
        "trusted": true,
        "_uuid": "e775ef4f1b74e6412457181383c39f2df554ef3f",
        "colab": {
          "base_uri": "https://localhost:8080/"
        },
        "id": "8YWO_i2tHOr0",
        "outputId": "e275c2c6-6014-4a7c-cb17-5242bd508aca"
      },
      "cell_type": "code",
      "source": [
        "model = Sequential()\n",
        "model.add(embedding_layer)\n",
        "model.add(Dropout(0.5))\n",
        "model.add(LSTM(100, dropout=0.2, recurrent_dropout=0.2))\n",
        "model.add(Dense(1, activation='sigmoid'))\n",
        "\n",
        "model.summary()"
      ],
      "execution_count": null,
      "outputs": [
        {
          "output_type": "stream",
          "name": "stdout",
          "text": [
            "WARNING:tensorflow:Layer lstm will not use cuDNN kernels since it doesn't meet the criteria. It will use a generic GPU kernel as fallback when running on GPU.\n"
          ]
        },
        {
          "output_type": "stream",
          "name": "stderr",
          "text": [
            "2022-05-01 05:52:36,806 : WARNING : Layer lstm will not use cuDNN kernels since it doesn't meet the criteria. It will use a generic GPU kernel as fallback when running on GPU.\n"
          ]
        },
        {
          "output_type": "stream",
          "name": "stdout",
          "text": [
            "Model: \"sequential\"\n",
            "_________________________________________________________________\n",
            " Layer (type)                Output Shape              Param #   \n",
            "=================================================================\n",
            " embedding (Embedding)       (None, 300, 300)          87125700  \n",
            "                                                                 \n",
            " dropout (Dropout)           (None, 300, 300)          0         \n",
            "                                                                 \n",
            " lstm (LSTM)                 (None, 100)               160400    \n",
            "                                                                 \n",
            " dense (Dense)               (None, 1)                 101       \n",
            "                                                                 \n",
            "=================================================================\n",
            "Total params: 87,286,201\n",
            "Trainable params: 160,501\n",
            "Non-trainable params: 87,125,700\n",
            "_________________________________________________________________\n"
          ]
        }
      ]
    },
    {
      "metadata": {
        "_uuid": "28d22eafd0c7d798dcf3d742bc92fb8577939e6c",
        "id": "NaZRaViWHOr0"
      },
      "cell_type": "markdown",
      "source": [
        "### Compile model"
      ]
    },
    {
      "metadata": {
        "trusted": true,
        "_uuid": "1331e08d590bb2aa2033706c8faca217afc0f1c3",
        "id": "qteqgVpuHOr0"
      },
      "cell_type": "code",
      "source": [
        "model.compile(loss='binary_crossentropy',\n",
        "              optimizer=\"adam\",\n",
        "              metrics=['accuracy'])"
      ],
      "execution_count": null,
      "outputs": []
    },
    {
      "metadata": {
        "_uuid": "c7733127cb8b380e0c807268903bf4d03ef92542",
        "id": "tfJcMP-XHOr0"
      },
      "cell_type": "markdown",
      "source": [
        "### Callbacks"
      ]
    },
    {
      "metadata": {
        "trusted": true,
        "_uuid": "a688df590386f5748da6fe00b01904fe6c71619e",
        "id": "gdyYMu3iHOr0"
      },
      "cell_type": "code",
      "source": [
        "callbacks = [ ReduceLROnPlateau(monitor='val_loss', patience=5, cooldown=0),\n",
        "              EarlyStopping(monitor='val_accuracy', min_delta=1e-4, patience=5)]"
      ],
      "execution_count": null,
      "outputs": []
    },
    {
      "metadata": {
        "_uuid": "8d0873633dd49179c8cae17377641b97d323ef3b",
        "id": "b0G7gIqoHOr1"
      },
      "cell_type": "markdown",
      "source": [
        "### Train"
      ]
    },
    {
      "metadata": {
        "trusted": true,
        "_uuid": "2b659d390c6577dc5cdb6b6297934279b4e801d5",
        "colab": {
          "base_uri": "https://localhost:8080/"
        },
        "id": "mPmZEBn3HOr1",
        "outputId": "92b89691-80d5-4a24-909f-25eee525037e"
      },
      "cell_type": "code",
      "source": [
        "%%time\n",
        "history = model.fit(x_train, y_train,\n",
        "                    batch_size=BATCH_SIZE,\n",
        "                    epochs=EPOCHS,\n",
        "                    validation_split=0.1,\n",
        "                    verbose=1,\n",
        "                    callbacks=callbacks)"
      ],
      "execution_count": null,
      "outputs": [
        {
          "output_type": "stream",
          "name": "stdout",
          "text": [
            "Epoch 1/8\n",
            "1125/1125 [==============================] - 600s 533ms/step - loss: 0.4765 - accuracy: 0.7688 - val_loss: 0.4559 - val_accuracy: 0.7842 - lr: 0.0010\n",
            "Epoch 2/8\n",
            "1125/1125 [==============================] - 581s 516ms/step - loss: 0.4706 - accuracy: 0.7728 - val_loss: 0.4545 - val_accuracy: 0.7873 - lr: 0.0010\n",
            "Epoch 3/8\n",
            "1125/1125 [==============================] - 574s 510ms/step - loss: 0.4669 - accuracy: 0.7750 - val_loss: 0.4505 - val_accuracy: 0.7881 - lr: 0.0010\n",
            "Epoch 4/8\n",
            "1125/1125 [==============================] - 573s 509ms/step - loss: 0.4646 - accuracy: 0.7764 - val_loss: 0.4482 - val_accuracy: 0.7891 - lr: 0.0010\n",
            "Epoch 5/8\n",
            "1125/1125 [==============================] - 576s 512ms/step - loss: 0.4628 - accuracy: 0.7777 - val_loss: 0.4465 - val_accuracy: 0.7894 - lr: 0.0010\n",
            "Epoch 6/8\n",
            "1125/1125 [==============================] - 574s 510ms/step - loss: 0.4613 - accuracy: 0.7782 - val_loss: 0.4479 - val_accuracy: 0.7897 - lr: 0.0010\n",
            "Epoch 7/8\n",
            "1125/1125 [==============================] - 576s 512ms/step - loss: 0.4612 - accuracy: 0.7782 - val_loss: 0.4452 - val_accuracy: 0.7912 - lr: 0.0010\n",
            "Epoch 8/8\n",
            "1125/1125 [==============================] - 577s 513ms/step - loss: 0.4598 - accuracy: 0.7796 - val_loss: 0.4440 - val_accuracy: 0.7907 - lr: 0.0010\n",
            "CPU times: user 1h 39min 6s, sys: 8min 12s, total: 1h 47min 19s\n",
            "Wall time: 1h 17min 10s\n"
          ]
        }
      ]
    },
    {
      "metadata": {
        "_uuid": "267258196d96796ac69a7b8c466314bcf5d6ee42",
        "id": "bzHof3NuHOr1"
      },
      "cell_type": "markdown",
      "source": [
        "### Evaluate"
      ]
    },
    {
      "metadata": {
        "trusted": true,
        "_uuid": "98ecd8f1b8b74594c3ea775dd68a094e92458022",
        "colab": {
          "base_uri": "https://localhost:8080/"
        },
        "id": "cZXb-3r2HOr1",
        "outputId": "412790b3-744f-47bc-e8bb-1efbebe9d6b2"
      },
      "cell_type": "code",
      "source": [
        "%%time\n",
        "score = model.evaluate(x_test, y_test, batch_size=BATCH_SIZE)\n",
        "print()\n",
        "print(\"ACCURACY:\",score[1])\n",
        "print(\"LOSS:\",score[0])"
      ],
      "execution_count": null,
      "outputs": [
        {
          "output_type": "stream",
          "name": "stdout",
          "text": [
            "313/313 [==============================] - 34s 106ms/step - loss: 0.4435 - accuracy: 0.7928\n",
            "\n",
            "ACCURACY: 0.792759358882904\n",
            "LOSS: 0.443481981754303\n",
            "CPU times: user 30.8 s, sys: 1.3 s, total: 32.2 s\n",
            "Wall time: 33.8 s\n"
          ]
        }
      ]
    },
    {
      "metadata": {
        "trusted": true,
        "_uuid": "40c72cd1e9d6c4fd799cbba7c813765ac4039dfc",
        "colab": {
          "base_uri": "https://localhost:8080/",
          "height": 545
        },
        "id": "iQ7XJ7btHOr1",
        "outputId": "2f6ff70c-9549-42c6-a50c-00d3efe1b0c1"
      },
      "cell_type": "code",
      "source": [
        "acc = history.history['accuracy']\n",
        "val_acc = history.history['val_accuracy']\n",
        "loss = history.history['loss']\n",
        "val_loss = history.history['val_loss']\n",
        " \n",
        "epochs = range(len(acc))\n",
        " \n",
        "plt.plot(epochs, acc, 'b', label='Training acc')\n",
        "plt.plot(epochs, val_acc, 'r', label='Validation acc')\n",
        "plt.title('Training and validation accuracy')\n",
        "plt.legend()\n",
        " \n",
        "plt.figure()\n",
        " \n",
        "plt.plot(epochs, loss, 'b', label='Training loss')\n",
        "plt.plot(epochs, val_loss, 'r', label='Validation loss')\n",
        "plt.title('Training and validation loss')\n",
        "plt.legend()\n",
        " \n",
        "plt.show()"
      ],
      "execution_count": null,
      "outputs": [
        {
          "output_type": "display_data",
          "data": {
            "text/plain": [
              "<Figure size 432x288 with 1 Axes>"
            ],
            "image/png": "[encoded data removed]"
          },
          "metadata": {
            "needs_background": "light"
          }
        },
        {
          "output_type": "display_data",
          "data": {
            "text/plain": [
              "<Figure size 432x288 with 1 Axes>"
            ],
            "image/png": "[encoded data removed]"
          },
          "metadata": {
            "needs_background": "light"
          }
        }
      ]
    },
    {
      "metadata": {
        "_uuid": "6bdfc0f6a6af5bebc0271d83dd7432c91001409b",
        "id": "XZaPAsFBHOr1"
      },
      "cell_type": "markdown",
      "source": [
        "### Predict"
      ]
    },
    {
      "metadata": {
        "trusted": true,
        "_uuid": "f0b0fa3d4b1bb14b3f5e3d169a369f3ebef29ae1",
        "id": "aYCZHGi4HOr1"
      },
      "cell_type": "code",
      "source": [
        "def decode_sentiment(score, include_neutral=True):\n",
        "    if include_neutral:        \n",
        "        label = NEUTRAL\n",
        "        if score <= sent_thres[0]:\n",
        "            label = NEGATIVE\n",
        "        elif score >= sent_thres[1]:\n",
        "            label = POSITIVE\n",
        "\n",
        "        return label\n",
        "    else:\n",
        "        return NEGATIVE if score < 0.5 else POSITIVE"
      ],
      "execution_count": null,
      "outputs": []
    },
    {
      "metadata": {
        "trusted": true,
        "_uuid": "ed4086d651f2f8cbed11d3c909a8873607d29a06",
        "id": "B871mszHHOr1"
      },
      "cell_type": "code",
      "source": [
        "def predict(text, include_neutral=True):\n",
        "    start_at = time.time()\n",
        "    # Tokenize text\n",
        "    x_test = pad_sequences(tokenizer.texts_to_sequences([text]), maxlen=seq_len)\n",
        "    # Predict\n",
        "    score = model.predict([x_test])[0]\n",
        "    # Decode sentiment\n",
        "    label = decode_sentiment(score, include_neutral=include_neutral)\n",
        "\n",
        "    return {\"label\": label, \"score\": float(score),\n",
        "       \"elapsed_time\": time.time()-start_at}  "
      ],
      "execution_count": null,
      "outputs": []
    },
    {
      "metadata": {
        "trusted": true,
        "_uuid": "ca38b1e6c9b5acfed7467de2cf02a78333108872",
        "colab": {
          "base_uri": "https://localhost:8080/"
        },
        "id": "BIVQzDt0HOr2",
        "outputId": "5ad4badd-015a-45dd-d421-f7f93911ce62"
      },
      "cell_type": "code",
      "source": [
        "predict(\"I love the music\")"
      ],
      "execution_count": null,
      "outputs": [
        {
          "output_type": "execute_result",
          "data": {
            "text/plain": [
              "{'elapsed_time': 0.33767175674438477,\n",
              " 'label': 'POSITIVE',\n",
              " 'score': 0.9717611074447632}"
            ]
          },
          "metadata": {},
          "execution_count": 45
        }
      ]
    },
    {
      "metadata": {
        "trusted": true,
        "_uuid": "0e5fe647533be0148850de349fea6ef6f71303d1",
        "colab": {
          "base_uri": "https://localhost:8080/"
        },
        "id": "p-1_h2utHOr2",
        "outputId": "e10b6816-9a97-4c23-9cf5-63c14a33bf1c"
      },
      "cell_type": "code",
      "source": [
        "predict(\"I hate the rain\")"
      ],
      "execution_count": null,
      "outputs": [
        {
          "output_type": "execute_result",
          "data": {
            "text/plain": [
              "{'elapsed_time': 0.11081647872924805,\n",
              " 'label': 'NEGATIVE',\n",
              " 'score': 0.01091895904392004}"
            ]
          },
          "metadata": {},
          "execution_count": 46
        }
      ]
    },
    {
      "metadata": {
        "trusted": true,
        "_uuid": "37064dffcc8920d34ccd54fac7c8b50e583a8269",
        "colab": {
          "base_uri": "https://localhost:8080/"
        },
        "id": "RaSQmauyHOr2",
        "outputId": "dc22495c-07a6-4528-b581-4fe60f535b99"
      },
      "cell_type": "code",
      "source": [
        "predict(\"I am weirded out\")"
      ],
      "execution_count": null,
      "outputs": [
        {
          "output_type": "execute_result",
          "data": {
            "text/plain": [
              "{'elapsed_time': 0.11071562767028809,\n",
              " 'label': 'NEUTRAL',\n",
              " 'score': 0.5083423852920532}"
            ]
          },
          "metadata": {},
          "execution_count": 89
        }
      ]
    },
    {
      "metadata": {
        "_uuid": "3ee72e47f84b6dbc32e02a783de5ec1661f157e1",
        "id": "wUJdZvpoHOr2"
      },
      "cell_type": "markdown",
      "source": [
        "### Confusion Matrix"
      ]
    },
    {
      "metadata": {
        "trusted": true,
        "_uuid": "0e920173eb05f04aecdd735bc5dff0f5be5f8d15",
        "colab": {
          "base_uri": "https://localhost:8080/"
        },
        "id": "trKPeVsBHOr2",
        "outputId": "bc5d251e-176f-4e1d-e8de-d56ce322aac7"
      },
      "cell_type": "code",
      "source": [
        "%%time\n",
        "y_pred_1d = []\n",
        "y_test_1d = list(df_test.target)\n",
        "scores = model.predict(x_test, verbose=1, batch_size=8000)\n",
        "y_pred_1d = [decode_sentiment(score, include_neutral=False) for score in scores]"
      ],
      "execution_count": null,
      "outputs": [
        {
          "output_type": "stream",
          "name": "stdout",
          "text": [
            "40/40 [==============================] - 22s 541ms/step\n",
            "CPU times: user 13.4 s, sys: 9.77 s, total: 23.2 s\n",
            "Wall time: 22.5 s\n"
          ]
        }
      ]
    },
    {
      "metadata": {
        "trusted": true,
        "_uuid": "b3575191bb425ab871f3f41e83812ee84bb7e595",
        "id": "0YQGpv1QHOr2"
      },
      "cell_type": "code",
      "source": [
        "def plot_confusion_matrix(cm, classes,\n",
        "                          title='Confusion matrix',\n",
        "                          cmap=plt.cm.Blues):\n",
        "    \"\"\"\n",
        "    This function prints and plots the confusion matrix.\n",
        "    Normalization can be applied by setting `normalize=True`.\n",
        "    \"\"\"\n",
        "\n",
        "    cm = cm.astype('float') / cm.sum(axis=1)[:, np.newaxis]\n",
        "\n",
        "    plt.imshow(cm, interpolation='nearest', cmap=cmap)\n",
        "    plt.title(title, fontsize=30)\n",
        "    plt.colorbar()\n",
        "    tick_marks = np.arange(len(classes))\n",
        "    plt.xticks(tick_marks, classes, rotation=90, fontsize=22)\n",
        "    plt.yticks(tick_marks, classes, fontsize=22)\n",
        "\n",
        "    fmt = '.2f'\n",
        "    thresh = cm.max() / 2.\n",
        "    for i, j in itertools.product(range(cm.shape[0]), range(cm.shape[1])):\n",
        "        plt.text(j, i, format(cm[i, j], fmt),\n",
        "                 horizontalalignment=\"center\",\n",
        "                 color=\"white\" if cm[i, j] > thresh else \"black\")\n",
        "\n",
        "    plt.ylabel('True label', fontsize=25)\n",
        "    plt.xlabel('Predicted label', fontsize=25)"
      ],
      "execution_count": null,
      "outputs": []
    },
    {
      "metadata": {
        "trusted": true,
        "_uuid": "a57dc6f6211c144491a70f533225edfa95a2dc66",
        "colab": {
          "base_uri": "https://localhost:8080/",
          "height": 804
        },
        "id": "bSK6G8HFHOr3",
        "outputId": "db26bf2d-6b38-4a04-ca88-a56c8785c30a"
      },
      "cell_type": "code",
      "source": [
        "%%time\n",
        "\n",
        "cnf_matrix = confusion_matrix(y_test_1d, y_pred_1d)\n",
        "plt.figure(figsize=(12,12))\n",
        "plot_confusion_matrix(cnf_matrix, classes=df_train.target.unique(), title=\"Confusion matrix\")\n",
        "plt.show()"
      ],
      "execution_count": null,
      "outputs": [
        {
          "output_type": "display_data",
          "data": {
            "text/plain": [
              "<Figure size 864x864 with 2 Axes>"
            ],
            "image/png": "[encoded data removed]"
          },
          "metadata": {
            "needs_background": "light"
          }
        },
        {
          "output_type": "stream",
          "name": "stdout",
          "text": [
            "CPU times: user 1.15 s, sys: 15.9 ms, total: 1.16 s\n",
            "Wall time: 1.16 s\n"
          ]
        }
      ]
    },
    {
      "metadata": {
        "_uuid": "e23b957348dcc084249d3cc7538b972da471c2cd",
        "id": "EYQC3lANHOr3"
      },
      "cell_type": "markdown",
      "source": [
        "### Classification Report"
      ]
    },
    {
      "metadata": {
        "trusted": true,
        "_uuid": "a7fe05b7caa1c984ff1deb0be2f7c6bc043df9f5",
        "colab": {
          "base_uri": "https://localhost:8080/"
        },
        "id": "_DTydYArHOr3",
        "outputId": "4c19e5f7-2410-4efe-e62d-50b107137783"
      },
      "cell_type": "code",
      "source": [
        "print(classification_report(y_test_1d, y_pred_1d))"
      ],
      "execution_count": null,
      "outputs": [
        {
          "output_type": "stream",
          "name": "stdout",
          "text": [
            "              precision    recall  f1-score   support\n",
            "\n",
            "    NEGATIVE       0.80      0.78      0.79    159494\n",
            "    POSITIVE       0.79      0.80      0.80    160506\n",
            "\n",
            "    accuracy                           0.79    320000\n",
            "   macro avg       0.79      0.79      0.79    320000\n",
            "weighted avg       0.79      0.79      0.79    320000\n",
            "\n"
          ]
        }
      ]
    },
    {
      "metadata": {
        "_uuid": "4eb300f0c6693a618587c7dcf32f77f5416cbfb9",
        "id": "w5jKd0fIHOr3"
      },
      "cell_type": "markdown",
      "source": [
        "### Accuracy Score"
      ]
    },
    {
      "metadata": {
        "trusted": true,
        "_uuid": "5cf76e6e09f8a60ed25947932b94c772eda44d23",
        "colab": {
          "base_uri": "https://localhost:8080/"
        },
        "id": "s1oRd66XHOr3",
        "outputId": "d800bd0b-09be-491d-9895-355d4b32077a"
      },
      "cell_type": "code",
      "source": [
        "accuracy_score(y_test_1d, y_pred_1d)"
      ],
      "execution_count": null,
      "outputs": [
        {
          "output_type": "execute_result",
          "data": {
            "text/plain": [
              "0.792759375"
            ]
          },
          "metadata": {},
          "execution_count": 52
        }
      ]
    },
    {
      "metadata": {
        "_uuid": "4f014c32f3833db282e1a075c526604f34e3158c",
        "id": "Q6I0Ws6rHOr3"
      },
      "cell_type": "markdown",
      "source": [
        "### Save model"
      ]
    },
    {
      "cell_type": "code",
      "source": [
        "KERAS_MODEL = \"/content/gdrive/MyDrive/model.h5\"\n",
        "WORD2VEC_MODEL = \"/content/gdrive/MyDrive/model.w2v\"\n",
        "TOKENIZER_MODEL = \"/content/gdrive/MyDrive/tokenizer.pkl\"\n",
        "ENCODER_MODEL = \"/content/gdrive/MyDrive/encoder.pkl\""
      ],
      "metadata": {
        "id": "o7KVf1vIPpS2"
      },
      "execution_count": null,
      "outputs": []
    },
    {
      "cell_type": "code",
      "source": [
        "model.save(KERAS_MODEL)\n",
        "w2v_model.save(WORD2VEC_MODEL)\n",
        "pickle.dump(tokenizer, open(TOKENIZER_MODEL, \"wb\"), protocol=0)\n",
        "pickle.dump(encoder, open(ENCODER_MODEL, \"wb\"), protocol=0)"
      ],
      "metadata": {
        "colab": {
          "base_uri": "https://localhost:8080/"
        },
        "id": "Jqm-CP0WPqKy",
        "outputId": "7846f564-860d-4647-d229-ab7d5637a737"
      },
      "execution_count": null,
      "outputs": [
        {
          "output_type": "stream",
          "name": "stderr",
          "text": [
            "2022-05-01 07:31:54,150 : INFO : saving Word2Vec object under /content/gdrive/MyDrive/model.w2v, separately None\n",
            "2022-05-01 07:31:54,152 : INFO : not storing attribute vectors_norm\n",
            "2022-05-01 07:31:54,156 : INFO : not storing attribute cum_table\n",
            "2022-05-01 07:31:54,956 : INFO : saved /content/gdrive/MyDrive/model.w2v\n"
          ]
        }
      ]
    },
    {
      "cell_type": "code",
      "source": [
        "tokenizer = Tokenizer()\n",
        "encoder = LabelEncoder()"
      ],
      "metadata": {
        "id": "Cf7QETABPrbF"
      },
      "execution_count": null,
      "outputs": []
    },
    {
      "cell_type": "code",
      "source": [
        "w2v_model = gensim.models.Word2Vec.load(\"/content/gdrive/MyDrive/model.w2v\")\n",
        "tokenizer = pickle.load(open(TOKENIZER_MODEL, \"rb\"))\n",
        "encoder = pickle.load(open(ENCODER_MODEL, \"rb\"))\n",
        "model = keras.models.load_model('/content/gdrive/MyDrive/model.h5')"
      ],
      "metadata": {
        "colab": {
          "base_uri": "https://localhost:8080/"
        },
        "id": "WbBqRM2OPsPD",
        "outputId": "8b57f9a5-6813-479b-914c-158a37f7f69f"
      },
      "execution_count": null,
      "outputs": [
        {
          "output_type": "stream",
          "name": "stderr",
          "text": [
            "2022-05-02 08:48:42,877 : INFO : loading Word2Vec object from /content/gdrive/MyDrive/model.w2v\n",
            "2022-05-02 08:48:45,161 : INFO : loading wv recursively from /content/gdrive/MyDrive/model.w2v.wv.* with mmap=None\n",
            "2022-05-02 08:48:45,163 : INFO : setting ignored attribute vectors_norm to None\n",
            "2022-05-02 08:48:45,164 : INFO : loading vocabulary recursively from /content/gdrive/MyDrive/model.w2v.vocabulary.* with mmap=None\n",
            "2022-05-02 08:48:45,169 : INFO : loading trainables recursively from /content/gdrive/MyDrive/model.w2v.trainables.* with mmap=None\n",
            "2022-05-02 08:48:45,169 : INFO : setting ignored attribute cum_table to None\n",
            "2022-05-02 08:48:45,170 : INFO : loaded /content/gdrive/MyDrive/model.w2v\n"
          ]
        },
        {
          "output_type": "stream",
          "name": "stdout",
          "text": [
            "WARNING:tensorflow:Layer lstm will not use cuDNN kernels since it doesn't meet the criteria. It will use a generic GPU kernel as fallback when running on GPU.\n"
          ]
        },
        {
          "output_type": "stream",
          "name": "stderr",
          "text": [
            "2022-05-02 08:48:50,996 : WARNING : Layer lstm will not use cuDNN kernels since it doesn't meet the criteria. It will use a generic GPU kernel as fallback when running on GPU.\n"
          ]
        }
      ]
    },
    {
      "cell_type": "code",
      "source": [
        "predict(\"I love the music\")"
      ],
      "metadata": {
        "colab": {
          "base_uri": "https://localhost:8080/"
        },
        "id": "-dAPWOWRPtG_",
        "outputId": "0e55bffb-41e6-4cd0-e842-5b4a53e82984"
      },
      "execution_count": null,
      "outputs": [
        {
          "output_type": "execute_result",
          "data": {
            "text/plain": [
              "{'elapsed_time': 0.1055293083190918,\n",
              " 'label': 'POSITIVE',\n",
              " 'score': 0.9717611074447632}"
            ]
          },
          "metadata": {},
          "execution_count": 18
        }
      ]
    }
  ],
  "metadata": {
    "kernelspec": {
      "display_name": "Python 3",
      "language": "python",
      "name": "python3"
    },
    "language_info": {
      "name": "python",
      "version": "3.6.6",
      "mimetype": "text/x-python",
      "codemirror_mode": {
        "name": "ipython",
        "version": 3
      },
      "pygments_lexer": "ipython3",
      "nbconvert_exporter": "python",
      "file_extension": ".py"
    },
    "colab": {
      "name": "Sentiment analysis.ipynb",
      "provenance": [],
      "collapsed_sections": [],
      "machine_shape": "hm"
    },
    "accelerator": "GPU"
  },
  "nbformat": 4,
  "nbformat_minor": 0
}