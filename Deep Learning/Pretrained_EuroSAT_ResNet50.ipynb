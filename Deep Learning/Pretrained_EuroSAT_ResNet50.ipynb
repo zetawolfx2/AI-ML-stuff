{
 "cells": [
  {
   "cell_type": "code",
   "execution_count": 1,
   "metadata": {
    "id": "Yz2BQXCHGaMA"
   },
   "outputs": [],
   "source": [
    "import numpy as np\n",
    "from sklearn.metrics import classification_report, confusion_matrix\n",
    "from keras import layers\n",
    "from keras import models\n",
    "from keras.applications import resnet50\n",
    "from keras.callbacks import ModelCheckpoint\n",
    "from keras.layers import Input, Add, Dense, Activation, ZeroPadding2D, BatchNormalization, Flatten, Conv2D, AveragePooling2D, MaxPooling2D, Dropout\n",
    "from keras.models import Model, load_model\n",
    "from keras.initializers import glorot_uniform\n",
    "from keras.optimizers import RMSprop\n",
    "from keras.preprocessing.image import ImageDataGenerator"
   ]
  },
  {
   "cell_type": "markdown",
   "metadata": {
    "id": "p-Qu15OLOwac"
   },
   "source": [
    "Structure of the ResNet50:"
   ]
  },
  {
   "cell_type": "code",
   "execution_count": 2,
   "metadata": {
    "id": "GLgTasEVHR3V"
   },
   "outputs": [],
   "source": [
    "def identity_block(X, ks, filters):\n",
    "  f1, f2, f3 = filters\n",
    "  #We are performing identity mapping after the 3 component blocks (instead of 2 - ResNet34) which include bottleneck 1x1 layers i.e F1 and F3 having number of filters as variable 'filters'.\n",
    "\n",
    "  X_identity = X\n",
    "  #We will add this later\n",
    "\n",
    "  #CONV-BN-RELU x 2 - CONV-BN-IdentityMapping-RELU\n",
    "\n",
    "  X = Conv2D(filters = f1, kernel_size = (1, 1), strides = (1, 1), padding = 'valid', kernel_initializer=glorot_uniform(seed=0))(X)\n",
    "  #Glorot_uniform = Xavier Initialisation\n",
    "  X = BatchNormalization(axis = 3)(X)\n",
    "  X = Activation('relu')(X)\n",
    "\n",
    "  X = Conv2D(filters = f2, kernel_size = (ks, ks), strides = (1, 1), padding = 'same', kernel_initializer=glorot_uniform(seed=0))(X)\n",
    "  X = BatchNormalization(axis = 3)(X)\n",
    "  X = Activation('relu')(X)\n",
    "\n",
    "  X = Conv2D(filters = f3, kernel_size = (1, 1), strides = (1, 1), padding = 'valid', kernel_initializer=glorot_uniform(seed=0))(X)\n",
    "  X = BatchNormalization(axis = 3)(X)\n",
    "  X = Add()([X_identity, X])\n",
    "  X = Activation('relu')(X)\n",
    "\n",
    "  return X"
   ]
  },
  {
   "cell_type": "code",
   "execution_count": 3,
   "metadata": {
    "id": "Co7g9OFGKouL"
   },
   "outputs": [],
   "source": [
    "def convolutional_block(X, ks, filters, stride = 2):\n",
    "  f1, f2, f3 = filters\n",
    "\n",
    "  X_identity = X\n",
    "\n",
    "  #Structure same as identity block, but we do Conv and BN on identity mapping too\n",
    "\n",
    "  X = Conv2D(f1, (1,1), strides = (stride, stride), kernel_initializer=glorot_uniform(seed=0))(X)\n",
    "  X = BatchNormalization(axis = 3)(X)\n",
    "  X = Activation('relu')(X)\n",
    "\n",
    "  X = Conv2D(filters = f2, kernel_size = (ks, ks), strides = (1, 1), padding = 'same', kernel_initializer=glorot_uniform(seed=0))(X)\n",
    "  X = BatchNormalization(axis=3)(X)\n",
    "  X = Activation('relu')(X)\n",
    "\n",
    "  X = Conv2D(filters = f3, kernel_size = (1, 1), strides = (1, 1), padding = 'valid', kernel_initializer=glorot_uniform(seed=0))(X)\n",
    "  X = BatchNormalization(axis=3)(X)\n",
    "\n",
    "  X_identity = Conv2D(filters = f3, kernel_size = (1, 1), strides = (stride, stride), padding = 'valid', kernel_initializer=glorot_uniform(seed=0))(X_identity)\n",
    "  X_identity = BatchNormalization(axis = 3)(X_identity)\n",
    "  \n",
    "  X = Add()([X, X_identity])\n",
    "  X = Activation('relu')(X)\n",
    "\n",
    "  return X"
   ]
  },
  {
   "cell_type": "markdown",
   "metadata": {
    "id": "LCmmAjL7RmAM"
   },
   "source": [
    "The Structure of the ResNet50 is as follows\n",
    "\n",
    "ZeroPad - (Conv - BN - ReLU - MaxPool) - (CB-IBx2) - (CB-IBx3) - (CB-IBx5) - (CB-IBx2) - Flatten - FC - Dropout - FC - Output\n",
    "\n",
    "It usually is Avgpool - flatten - FC - output in the end but we're using Flatten FC Dropout FC Output because it gives better results"
   ]
  },
  {
   "cell_type": "code",
   "execution_count": 4,
   "metadata": {
    "id": "AMKe95C6Nh2T"
   },
   "outputs": [],
   "source": [
    "def ResNet50(input_shape = (64, 64, 3), classes = 10):\n",
    "  X_input = Input(input_shape)\n",
    "\n",
    "  X = ZeroPadding2D((3,3))(X_input)\n",
    "\n",
    "  X = Conv2D(64, (7, 7), strides = (2, 2), kernel_initializer = glorot_uniform(seed=0))(X)\n",
    "  X = BatchNormalization(axis = 3)(X)\n",
    "  X = Activation('relu')(X)\n",
    "  X = MaxPooling2D((3, 3), strides = (2, 2))(X)\n",
    "\n",
    "  X = convolutional_block(X, ks = 3, filters = [64, 64, 256], stride = 1)\n",
    "  X = identity_block(X, 3, [64, 64, 256])\n",
    "  X = identity_block(X, 3, [64, 64, 256])\n",
    "\n",
    "  X = convolutional_block(X, ks = 3, filters = [128, 128, 512], stride = 2)\n",
    "  X = identity_block(X, 3, [128, 128, 512])\n",
    "  X = identity_block(X, 3, [128, 128, 512])\n",
    "\n",
    "  X = convolutional_block(X, ks = 3, filters = [256, 256, 1024], stride = 2)\n",
    "  X = identity_block(X, 3, [256, 256, 1024])\n",
    "  X = identity_block(X, 3, [256, 256, 1024])\n",
    "  X = identity_block(X, 3, [256, 256, 1024])\n",
    "  X = identity_block(X, 3, [256, 256, 1024])\n",
    "\n",
    "  X = convolutional_block(X, ks = 3, filters = [512, 512, 2048], stride = 2)\n",
    "  X = identity_block(X, 3, [512, 512, 2048])\n",
    "  X = identity_block(X, 3, [512, 512, 2048])\n",
    "\n",
    "  X = Flatten()(X)\n",
    "  X = Dense(1024, activation='relu', kernel_initializer=glorot_uniform(seed=0))(X)\n",
    "  X = Dropout(0.5)(X)\n",
    "  X = Dense(10, activation = 'softmax', kernel_initializer=glorot_uniform(seed=0))(X)\n",
    "\n",
    "  model = Model(inputs = X_input, outputs = X, name = 'ResNet50')\n",
    "\n",
    "  return model"
   ]
  },
  {
   "cell_type": "markdown",
   "metadata": {
    "id": "kvOiGsbBPnYk"
   },
   "source": [
    "However for best results we shall use a pretrained ResNet50 model."
   ]
  },
  {
   "cell_type": "code",
   "execution_count": 5,
   "metadata": {
    "colab": {
     "base_uri": "https://localhost:8080/"
    },
    "id": "Pl8qcUY2O7bT",
    "outputId": "ce8f6b16-3480-4012-bda2-5795cb11c938"
   },
   "outputs": [],
   "source": [
    "ResNet50 = resnet50.ResNet50(weights='imagenet', include_top=False, input_shape=(64, 64, 3))"
   ]
  },
  {
   "cell_type": "code",
   "execution_count": 6,
   "metadata": {
    "id": "5xLHjSBhPFcs"
   },
   "outputs": [],
   "source": [
    "model = models.Sequential()"
   ]
  },
  {
   "cell_type": "code",
   "execution_count": 7,
   "metadata": {
    "id": "q-3KhT8CPIJL"
   },
   "outputs": [],
   "source": [
    "model.add(ResNet50)\n",
    "model.add(Flatten())\n",
    "model.add(Dense(1024, activation='relu'))\n",
    "model.add(Dropout(0.5))\n",
    "model.add(Dense(10, activation='softmax'))"
   ]
  },
  {
   "cell_type": "code",
   "execution_count": 8,
   "metadata": {
    "id": "MU0dpL5_RvlE"
   },
   "outputs": [],
   "source": [
    "model.compile(loss = 'categorical_crossentropy', optimizer = RMSprop(learning_rate = 1e-4), metrics = ['accuracy'])"
   ]
  },
  {
   "cell_type": "code",
   "execution_count": 9,
   "metadata": {
    "colab": {
     "base_uri": "https://localhost:8080/"
    },
    "id": "7APPnOOPQVp-",
    "outputId": "ced8f97d-54ce-4c1f-b74a-853c0fb6b799"
   },
   "outputs": [
    {
     "name": "stdout",
     "output_type": "stream",
     "text": [
      "Model: \"sequential\"\n",
      "_________________________________________________________________\n",
      "Layer (type)                 Output Shape              Param #   \n",
      "=================================================================\n",
      "resnet50 (Functional)        (None, 2, 2, 2048)        23587712  \n",
      "_________________________________________________________________\n",
      "flatten (Flatten)            (None, 8192)              0         \n",
      "_________________________________________________________________\n",
      "dense (Dense)                (None, 1024)              8389632   \n",
      "_________________________________________________________________\n",
      "dropout (Dropout)            (None, 1024)              0         \n",
      "_________________________________________________________________\n",
      "dense_1 (Dense)              (None, 10)                10250     \n",
      "=================================================================\n",
      "Total params: 31,987,594\n",
      "Trainable params: 31,934,474\n",
      "Non-trainable params: 53,120\n",
      "_________________________________________________________________\n"
     ]
    }
   ],
   "source": [
    "model.summary()"
   ]
  },
  {
   "cell_type": "code",
   "execution_count": 10,
   "metadata": {
    "id": "ga28TTakZXe2"
   },
   "outputs": [],
   "source": [
    "#Image Augmentation\n",
    "\n",
    "train_datagen = ImageDataGenerator(rescale=1./255, shear_range=0.2, zoom_range=0.2, horizontal_flip=True)\n",
    "test_datagen = ImageDataGenerator(rescale=1./255)"
   ]
  },
  {
   "cell_type": "code",
   "execution_count": 11,
   "metadata": {
    "colab": {
     "base_uri": "https://localhost:8080/"
    },
    "id": "NltZ1XXsa_p9",
    "outputId": "ebb77c5f-f8fa-4a81-bd64-29c8322b0e9a"
   },
   "outputs": [
    {
     "name": "stdout",
     "output_type": "stream",
     "text": [
      "Found 20600 images belonging to 10 classes.\n",
      "Found 6400 images belonging to 10 classes.\n"
     ]
    }
   ],
   "source": [
    "training_set = train_datagen.flow_from_directory('C:\\\\Users\\\\Musab Ahmed Pathan\\\\Documents\\\\EUROSAT\\\\Training Set', target_size = (64,64), batch_size=32, class_mode='categorical')\n",
    "val_set = test_datagen.flow_from_directory('C:\\\\Users\\\\Musab Ahmed Pathan\\\\Documents\\\\EUROSAT\\\\Validation Set', target_size = (64,64), batch_size=32, class_mode='categorical')"
   ]
  },
  {
   "cell_type": "code",
   "execution_count": 12,
   "metadata": {
    "id": "l06pBUdzejUP"
   },
   "outputs": [],
   "source": [
    "filepath=\"C:\\\\Users\\\\Musab Ahmed Pathan\\\\Documents\\\\EUROSAT\\\\final_best_model2.hdf5\"\n",
    "checkpoint = ModelCheckpoint(filepath, monitor='val_accuracy', verbose=1, save_best_only=True, mode='max')\n",
    "callbacks_list = [checkpoint]"
   ]
  },
  {
   "cell_type": "code",
   "execution_count": 13,
   "metadata": {},
   "outputs": [],
   "source": [
    "model = load_model('C:\\\\Users\\\\Musab Ahmed Pathan\\\\Documents\\\\EUROSAT\\\\final_best_model.hdf5')"
   ]
  },
  {
   "cell_type": "code",
   "execution_count": 15,
   "metadata": {
    "colab": {
     "base_uri": "https://localhost:8080/"
    },
    "id": "u59A3VbkcCX2",
    "outputId": "2b6c44da-0817-47d7-e69f-303cec84a17d"
   },
   "outputs": [
    {
     "name": "stdout",
     "output_type": "stream",
     "text": [
      "Epoch 1/20\n",
      "644/644 [==============================] - 1061s 2s/step - loss: 0.1283 - accuracy: 0.9708 - val_loss: 0.4640 - val_accuracy: 0.9022\n",
      "\n",
      "Epoch 00001: val_accuracy improved from -inf to 0.90219, saving model to C:\\Users\\Musab Ahmed Pathan\\Documents\\EUROSAT\\final_best_model2.hdf5\n",
      "Epoch 2/20\n",
      "644/644 [==============================] - 1030s 2s/step - loss: 0.1825 - accuracy: 0.9672 - val_loss: 92.7645 - val_accuracy: 0.7770\n",
      "\n",
      "Epoch 00002: val_accuracy did not improve from 0.90219\n",
      "Epoch 3/20\n",
      "644/644 [==============================] - 1036s 2s/step - loss: 0.1294 - accuracy: 0.9720 - val_loss: 0.3457 - val_accuracy: 0.9481\n",
      "\n",
      "Epoch 00003: val_accuracy improved from 0.90219 to 0.94813, saving model to C:\\Users\\Musab Ahmed Pathan\\Documents\\EUROSAT\\final_best_model2.hdf5\n",
      "Epoch 4/20\n",
      "644/644 [==============================] - 1052s 2s/step - loss: 0.1223 - accuracy: 0.9733 - val_loss: 0.2234 - val_accuracy: 0.9611\n",
      "\n",
      "Epoch 00004: val_accuracy improved from 0.94813 to 0.96109, saving model to C:\\Users\\Musab Ahmed Pathan\\Documents\\EUROSAT\\final_best_model2.hdf5\n",
      "Epoch 5/20\n",
      "644/644 [==============================] - 1013s 2s/step - loss: 0.1158 - accuracy: 0.9755 - val_loss: 3.2612 - val_accuracy: 0.9284\n",
      "\n",
      "Epoch 00005: val_accuracy did not improve from 0.96109\n",
      "Epoch 6/20\n",
      "644/644 [==============================] - 1022s 2s/step - loss: 0.1066 - accuracy: 0.9750 - val_loss: 0.2605 - val_accuracy: 0.9631\n",
      "\n",
      "Epoch 00006: val_accuracy improved from 0.96109 to 0.96312, saving model to C:\\Users\\Musab Ahmed Pathan\\Documents\\EUROSAT\\final_best_model2.hdf5\n",
      "Epoch 7/20\n",
      "644/644 [==============================] - 1048s 2s/step - loss: 0.1453 - accuracy: 0.9749 - val_loss: 22.3810 - val_accuracy: 0.9123\n",
      "\n",
      "Epoch 00007: val_accuracy did not improve from 0.96312\n",
      "Epoch 8/20\n",
      "644/644 [==============================] - 1030s 2s/step - loss: 0.1287 - accuracy: 0.9742 - val_loss: 0.2423 - val_accuracy: 0.9516\n",
      "\n",
      "Epoch 00008: val_accuracy did not improve from 0.96312\n",
      "Epoch 9/20\n",
      "644/644 [==============================] - 1030s 2s/step - loss: 0.1406 - accuracy: 0.9754 - val_loss: 0.5351 - val_accuracy: 0.9333\n",
      "\n",
      "Epoch 00009: val_accuracy did not improve from 0.96312\n",
      "Epoch 10/20\n",
      "644/644 [==============================] - 1036s 2s/step - loss: 0.1189 - accuracy: 0.9761 - val_loss: 0.6875 - val_accuracy: 0.9430\n",
      "\n",
      "Epoch 00010: val_accuracy did not improve from 0.96312\n",
      "Epoch 11/20\n",
      "644/644 [==============================] - 1045s 2s/step - loss: 0.1335 - accuracy: 0.9779 - val_loss: 8.3601 - val_accuracy: 0.9237\n",
      "\n",
      "Epoch 00011: val_accuracy did not improve from 0.96312\n",
      "Epoch 12/20\n",
      "644/644 [==============================] - 1011s 2s/step - loss: 0.1212 - accuracy: 0.9762 - val_loss: 0.3699 - val_accuracy: 0.9480\n",
      "\n",
      "Epoch 00012: val_accuracy did not improve from 0.96312\n",
      "Epoch 13/20\n",
      "644/644 [==============================] - 1039s 2s/step - loss: 0.1315 - accuracy: 0.9767 - val_loss: 4.1443 - val_accuracy: 0.8248\n",
      "\n",
      "Epoch 00013: val_accuracy did not improve from 0.96312\n",
      "Epoch 14/20\n",
      "644/644 [==============================] - 1020s 2s/step - loss: 0.1323 - accuracy: 0.9772 - val_loss: 0.5014 - val_accuracy: 0.9389\n",
      "\n",
      "Epoch 00014: val_accuracy did not improve from 0.96312\n",
      "Epoch 15/20\n",
      "644/644 [==============================] - 1029s 2s/step - loss: 0.0993 - accuracy: 0.9785 - val_loss: 0.6637 - val_accuracy: 0.9203\n",
      "\n",
      "Epoch 00015: val_accuracy did not improve from 0.96312\n",
      "Epoch 16/20\n",
      "644/644 [==============================] - 1029s 2s/step - loss: 0.1249 - accuracy: 0.9794 - val_loss: 0.6145 - val_accuracy: 0.8953\n",
      "\n",
      "Epoch 00016: val_accuracy did not improve from 0.96312\n",
      "Epoch 17/20\n",
      "644/644 [==============================] - 1019s 2s/step - loss: 0.1495 - accuracy: 0.9801 - val_loss: 21.6965 - val_accuracy: 0.9273\n",
      "\n",
      "Epoch 00017: val_accuracy did not improve from 0.96312\n",
      "Epoch 18/20\n",
      "644/644 [==============================] - 1043s 2s/step - loss: 0.1232 - accuracy: 0.9802 - val_loss: 0.8940 - val_accuracy: 0.9098\n",
      "\n",
      "Epoch 00018: val_accuracy did not improve from 0.96312\n",
      "Epoch 19/20\n",
      "644/644 [==============================] - 1009s 2s/step - loss: 0.1495 - accuracy: 0.9774 - val_loss: 0.2831 - val_accuracy: 0.9572\n",
      "\n",
      "Epoch 00019: val_accuracy did not improve from 0.96312\n",
      "Epoch 20/20\n",
      "644/644 [==============================] - 1042s 2s/step - loss: 0.1089 - accuracy: 0.9810 - val_loss: 0.7911 - val_accuracy: 0.9244\n",
      "\n",
      "Epoch 00020: val_accuracy did not improve from 0.96312\n"
     ]
    }
   ],
   "source": [
    "EuroSAT_ResNet50 = model.fit(training_set, epochs=20, callbacks=callbacks_list, validation_data=val_set)"
   ]
  },
  {
   "cell_type": "code",
   "execution_count": 14,
   "metadata": {
    "id": "yVNzlhVTKU0b"
   },
   "outputs": [
    {
     "name": "stdout",
     "output_type": "stream",
     "text": [
      "200/200 [==============================] - 45s 220ms/step - loss: 0.2605 - accuracy: 0.9631\n",
      "Loss = 0.26052647829055786\n",
      "Test Accuracy = 0.9631249904632568\n"
     ]
    }
   ],
   "source": [
    "model = load_model('C:\\\\Users\\\\Musab Ahmed Pathan\\\\Documents\\\\EUROSAT\\\\final_best_model2.hdf5')\n",
    "\n",
    "pred = model.evaluate(val_set)\n",
    "print (\"Loss = \" + str(pred[0]))\n",
    "print (\"Test Accuracy = \" + str(pred[1]))"
   ]
  }
 ],
 "metadata": {
  "colab": {
   "collapsed_sections": [],
   "name": "Final_EuroSAT_ResNet50.ipynb",
   "provenance": []
  },
  "kernelspec": {
   "display_name": "Python 3",
   "language": "python",
   "name": "python3"
  },
  "language_info": {
   "codemirror_mode": {
    "name": "ipython",
    "version": 3
   },
   "file_extension": ".py",
   "mimetype": "text/x-python",
   "name": "python",
   "nbconvert_exporter": "python",
   "pygments_lexer": "ipython3",
   "version": "3.8.3"
  }
 },
 "nbformat": 4,
 "nbformat_minor": 1
}
