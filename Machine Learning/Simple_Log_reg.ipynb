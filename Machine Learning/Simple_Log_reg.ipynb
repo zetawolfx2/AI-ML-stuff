{
  "nbformat": 4,
  "nbformat_minor": 0,
  "metadata": {
    "colab": {
      "name": "Simple Log reg for MANAS.ipynb",
      "provenance": [],
      "collapsed_sections": []
    },
    "kernelspec": {
      "name": "python3",
      "display_name": "Python 3"
    }
  },
  "cells": [
    {
      "cell_type": "code",
      "metadata": {
        "id": "zL9B9-n5lvHm"
      },
      "source": [
        "import pandas as pd\r\n",
        "import numpy as np\r\n",
        "import matplotlib.pyplot as plt"
      ],
      "execution_count": 1,
      "outputs": []
    },
    {
      "cell_type": "code",
      "metadata": {
        "id": "v7_0Xpxyl6JN"
      },
      "source": [
        "dataset = pd.read_csv(\"heartdisease.csv\")"
      ],
      "execution_count": 2,
      "outputs": []
    },
    {
      "cell_type": "code",
      "metadata": {
        "colab": {
          "base_uri": "https://localhost:8080/"
        },
        "id": "toM6saa9oN_s",
        "outputId": "49669591-f7ed-47a9-8ad9-f45ee8a870f9"
      },
      "source": [
        "float_lists = dataset.mean()\r\n",
        "print(float_lists)\r\n",
        "\r\n",
        "for i in range(len(float_lists)):\r\n",
        "  float_lists[i] = round(float_lists[i],0)\r\n",
        "\r\n",
        "print(float_lists)\r\n",
        "\r\n",
        "dataset = dataset.fillna(float_lists)\r\n",
        "print(dataset.values[14, :])"
      ],
      "execution_count": 3,
      "outputs": [
        {
          "output_type": "stream",
          "text": [
            "male                 0.429212\n",
            "age                 49.584946\n",
            "education            1.978950\n",
            "currentSmoker        0.494101\n",
            "cigsPerDay           9.003089\n",
            "BPMeds               0.029630\n",
            "prevalentStroke      0.005899\n",
            "prevalentHyp         0.310524\n",
            "diabetes             0.025720\n",
            "totChol            236.721585\n",
            "sysBP              132.352407\n",
            "diaBP               82.893464\n",
            "BMI                 25.802008\n",
            "heartRate           75.878924\n",
            "glucose             81.966753\n",
            "TenYearCHD           0.151958\n",
            "dtype: float64\n",
            "male                 0.0\n",
            "age                 50.0\n",
            "education            2.0\n",
            "currentSmoker        0.0\n",
            "cigsPerDay           9.0\n",
            "BPMeds               0.0\n",
            "prevalentStroke      0.0\n",
            "prevalentHyp         0.0\n",
            "diabetes             0.0\n",
            "totChol            237.0\n",
            "sysBP              132.0\n",
            "diaBP               83.0\n",
            "BMI                 26.0\n",
            "heartRate           76.0\n",
            "glucose             82.0\n",
            "TenYearCHD           0.0\n",
            "dtype: float64\n",
            "[  0.    39.     2.     1.     9.     0.     0.     0.     0.   226.\n",
            " 114.    64.    22.35  85.    82.     0.  ]\n"
          ],
          "name": "stdout"
        }
      ]
    },
    {
      "cell_type": "code",
      "metadata": {
        "colab": {
          "base_uri": "https://localhost:8080/"
        },
        "id": "423nAWvfrE_b",
        "outputId": "72903a91-3188-49e0-e2e3-426cd9c3d0e3"
      },
      "source": [
        "print(dataset.values[21, :])"
      ],
      "execution_count": 4,
      "outputs": [
        {
          "output_type": "stream",
          "text": [
            "[  0.    43.     1.     0.     0.     0.     0.     0.     0.   185.\n",
            " 123.5   77.5   29.89  70.    82.     0.  ]\n"
          ],
          "name": "stdout"
        }
      ]
    },
    {
      "cell_type": "code",
      "metadata": {
        "colab": {
          "base_uri": "https://localhost:8080/"
        },
        "id": "L1PFnVMwmesc",
        "outputId": "608509da-8443-4853-baab-4d2d915bc7f7"
      },
      "source": [
        "X = dataset.values[:, :-1]\r\n",
        "Y = dataset.values[:, -1]\r\n",
        "print(X)\r\n",
        "print(Y)"
      ],
      "execution_count": 5,
      "outputs": [
        {
          "output_type": "stream",
          "text": [
            "[[  1.    39.     4.   ...  26.97  80.    77.  ]\n",
            " [  0.    46.     2.   ...  28.73  95.    76.  ]\n",
            " [  1.    48.     1.   ...  25.34  75.    70.  ]\n",
            " ...\n",
            " [  0.    48.     2.   ...  22.    84.    86.  ]\n",
            " [  0.    44.     1.   ...  19.16  86.    82.  ]\n",
            " [  0.    52.     2.   ...  21.47  80.   107.  ]]\n",
            "[0. 0. 0. ... 0. 0. 0.]\n"
          ],
          "name": "stdout"
        }
      ]
    },
    {
      "cell_type": "code",
      "metadata": {
        "id": "9LtF0NJw6B3b"
      },
      "source": [
        "new_column = np.ones(len(X))\r\n",
        "X = np.insert(X, 0, new_column, axis=1)"
      ],
      "execution_count": 6,
      "outputs": []
    },
    {
      "cell_type": "code",
      "metadata": {
        "id": "PzHGyy_DrajX"
      },
      "source": [
        "from sklearn.model_selection import train_test_split\r\n",
        "X_train, X_test, Y_train, Y_test = train_test_split(X, Y, test_size = 0.25, random_state = 0)"
      ],
      "execution_count": 7,
      "outputs": []
    },
    {
      "cell_type": "code",
      "metadata": {
        "id": "ecpqDIypsODh"
      },
      "source": [
        "scalee = [2, 10, 11, 12, 13, 14, 15]\r\n",
        "\r\n",
        "for index in scalee:\r\n",
        "  mean = np.mean(X_train[:, index])\r\n",
        "  var = np.std(X_train[:, index])\r\n",
        "  for j in range(len(X_train)):\r\n",
        "    X_train[j][index] = (X_train[j][index] - mean)/var\r\n",
        "  for j in range(len(X_test)):\r\n",
        "    X_test[j][index] = (X_test[j][index] - mean)/var"
      ],
      "execution_count": 8,
      "outputs": []
    },
    {
      "cell_type": "code",
      "metadata": {
        "id": "4UBW1gCIt7m3"
      },
      "source": [
        "def sigmoid(X, theta):\r\n",
        "  z = ((np.dot(X, theta)).astype(float))\r\n",
        "  return 1.0 / (1.0 + np.exp(0.1-z))"
      ],
      "execution_count": 9,
      "outputs": []
    },
    {
      "cell_type": "code",
      "metadata": {
        "id": "LhGvvbV23Eet"
      },
      "source": [
        "def log_likelihood(X, Y, theta):\r\n",
        "    h_x = sigmoid(X, theta)\r\n",
        "    log_like = 0\r\n",
        "    lmbda = 0.1\r\n",
        "    weight_norm = 0\r\n",
        "    for i in range(len(X[0])):\r\n",
        "      weight_norm += (theta[i])**2\r\n",
        "    for m in range(len(X)):\r\n",
        "      log_like += Y[m]*np.log(h_x[m][0]) + (1-Y[m])*np.log(1-h_x[m][0])\r\n",
        "    regu = (lmbda/(2*m))*weight_norm\r\n",
        "    return -log_like/m + regu"
      ],
      "execution_count": 10,
      "outputs": []
    },
    {
      "cell_type": "code",
      "metadata": {
        "id": "ffGKTrKb6_6L"
      },
      "source": [
        "def Logistic_Regression(x, y):\r\n",
        "    theta = np.random.rand(len(X_train[0])).reshape((len(X_train[0]),1))\r\n",
        "    temp = np.random.rand(len(X_train[0])).reshape((len(X_train[0]),1))\r\n",
        "    m = len(X_train)\r\n",
        "\r\n",
        "    ite = 500\r\n",
        "    LR = 0.01\r\n",
        "\r\n",
        "    cost_function_iterative = np.zeros((ite))\r\n",
        "\r\n",
        "    for i in range(ite):\r\n",
        "      cost = log_likelihood(x, y, theta)\r\n",
        "      cost_function_iterative[i] = cost\r\n",
        "      h_x = sigmoid(x, theta)\r\n",
        "      for g in range(len(x[0])):\r\n",
        "        for f in range(len(x)):\r\n",
        "          temp[g] = temp[g] - (LR/m)*np.dot((h_x[f] - np.transpose(y[f])), x[f][g])\r\n",
        "      \r\n",
        "      for g in range(len(x[0])):\r\n",
        "        theta[g] = temp[g]\r\n",
        "\r\n",
        "      print(i)\r\n",
        "    return theta, cost_function_iterative"
      ],
      "execution_count": 11,
      "outputs": []
    },
    {
      "cell_type": "code",
      "metadata": {
        "colab": {
          "base_uri": "https://localhost:8080/"
        },
        "id": "WTMG4_SD9DpK",
        "outputId": "39d71e7b-5fa1-43ca-c0e2-007c922bd3a4"
      },
      "source": [
        "parameters, cost_func = Logistic_Regression(X_train, Y_train)"
      ],
      "execution_count": 12,
      "outputs": [
        {
          "output_type": "stream",
          "text": [
            "/usr/local/lib/python3.6/dist-packages/ipykernel_launcher.py:9: RuntimeWarning: divide by zero encountered in log\n",
            "  if __name__ == '__main__':\n",
            "/usr/local/lib/python3.6/dist-packages/ipykernel_launcher.py:9: RuntimeWarning: invalid value encountered in double_scalars\n",
            "  if __name__ == '__main__':\n"
          ],
          "name": "stderr"
        },
        {
          "output_type": "stream",
          "text": [
            "0\n",
            "1\n",
            "2\n",
            "3\n",
            "4\n",
            "5\n",
            "6\n",
            "7\n",
            "8\n",
            "9\n",
            "10\n",
            "11\n",
            "12\n",
            "13\n",
            "14\n",
            "15\n",
            "16\n",
            "17\n",
            "18\n",
            "19\n",
            "20\n",
            "21\n",
            "22\n",
            "23\n",
            "24\n",
            "25\n",
            "26\n",
            "27\n",
            "28\n",
            "29\n",
            "30\n",
            "31\n",
            "32\n",
            "33\n",
            "34\n",
            "35\n",
            "36\n",
            "37\n",
            "38\n",
            "39\n",
            "40\n",
            "41\n",
            "42\n",
            "43\n",
            "44\n",
            "45\n",
            "46\n",
            "47\n",
            "48\n",
            "49\n",
            "50\n",
            "51\n",
            "52\n",
            "53\n",
            "54\n",
            "55\n",
            "56\n",
            "57\n",
            "58\n",
            "59\n",
            "60\n",
            "61\n",
            "62\n",
            "63\n",
            "64\n",
            "65\n",
            "66\n",
            "67\n",
            "68\n",
            "69\n",
            "70\n",
            "71\n",
            "72\n",
            "73\n",
            "74\n",
            "75\n",
            "76\n",
            "77\n",
            "78\n",
            "79\n",
            "80\n",
            "81\n",
            "82\n",
            "83\n",
            "84\n",
            "85\n",
            "86\n",
            "87\n",
            "88\n",
            "89\n",
            "90\n",
            "91\n",
            "92\n",
            "93\n",
            "94\n",
            "95\n",
            "96\n",
            "97\n",
            "98\n",
            "99\n",
            "100\n",
            "101\n",
            "102\n",
            "103\n",
            "104\n",
            "105\n",
            "106\n",
            "107\n",
            "108\n",
            "109\n",
            "110\n",
            "111\n",
            "112\n",
            "113\n",
            "114\n",
            "115\n",
            "116\n",
            "117\n",
            "118\n",
            "119\n",
            "120\n",
            "121\n",
            "122\n",
            "123\n",
            "124\n",
            "125\n",
            "126\n",
            "127\n",
            "128\n",
            "129\n",
            "130\n",
            "131\n",
            "132\n",
            "133\n",
            "134\n",
            "135\n",
            "136\n",
            "137\n",
            "138\n",
            "139\n",
            "140\n",
            "141\n",
            "142\n",
            "143\n",
            "144\n",
            "145\n",
            "146\n",
            "147\n",
            "148\n",
            "149\n",
            "150\n",
            "151\n",
            "152\n",
            "153\n",
            "154\n",
            "155\n",
            "156\n",
            "157\n",
            "158\n",
            "159\n",
            "160\n",
            "161\n",
            "162\n",
            "163\n",
            "164\n",
            "165\n",
            "166\n",
            "167\n",
            "168\n",
            "169\n",
            "170\n",
            "171\n",
            "172\n",
            "173\n",
            "174\n",
            "175\n",
            "176\n",
            "177\n",
            "178\n",
            "179\n",
            "180\n",
            "181\n",
            "182\n",
            "183\n",
            "184\n",
            "185\n",
            "186\n",
            "187\n",
            "188\n",
            "189\n",
            "190\n",
            "191\n",
            "192\n",
            "193\n",
            "194\n",
            "195\n",
            "196\n",
            "197\n",
            "198\n",
            "199\n",
            "200\n",
            "201\n",
            "202\n",
            "203\n",
            "204\n",
            "205\n",
            "206\n",
            "207\n",
            "208\n",
            "209\n",
            "210\n",
            "211\n",
            "212\n",
            "213\n",
            "214\n",
            "215\n",
            "216\n",
            "217\n",
            "218\n",
            "219\n",
            "220\n",
            "221\n",
            "222\n",
            "223\n",
            "224\n",
            "225\n",
            "226\n",
            "227\n",
            "228\n",
            "229\n",
            "230\n",
            "231\n",
            "232\n",
            "233\n",
            "234\n",
            "235\n",
            "236\n",
            "237\n",
            "238\n",
            "239\n",
            "240\n",
            "241\n",
            "242\n",
            "243\n",
            "244\n",
            "245\n",
            "246\n",
            "247\n",
            "248\n",
            "249\n",
            "250\n",
            "251\n",
            "252\n",
            "253\n",
            "254\n",
            "255\n",
            "256\n",
            "257\n",
            "258\n",
            "259\n",
            "260\n",
            "261\n",
            "262\n",
            "263\n",
            "264\n",
            "265\n",
            "266\n",
            "267\n",
            "268\n",
            "269\n",
            "270\n",
            "271\n",
            "272\n",
            "273\n",
            "274\n",
            "275\n",
            "276\n",
            "277\n",
            "278\n",
            "279\n",
            "280\n",
            "281\n",
            "282\n",
            "283\n",
            "284\n",
            "285\n",
            "286\n",
            "287\n",
            "288\n",
            "289\n",
            "290\n",
            "291\n",
            "292\n",
            "293\n",
            "294\n",
            "295\n",
            "296\n",
            "297\n",
            "298\n",
            "299\n",
            "300\n",
            "301\n",
            "302\n",
            "303\n",
            "304\n",
            "305\n",
            "306\n",
            "307\n",
            "308\n",
            "309\n",
            "310\n",
            "311\n",
            "312\n",
            "313\n",
            "314\n",
            "315\n",
            "316\n",
            "317\n",
            "318\n",
            "319\n",
            "320\n",
            "321\n",
            "322\n",
            "323\n",
            "324\n",
            "325\n",
            "326\n",
            "327\n",
            "328\n",
            "329\n",
            "330\n",
            "331\n",
            "332\n",
            "333\n",
            "334\n",
            "335\n",
            "336\n",
            "337\n",
            "338\n",
            "339\n",
            "340\n",
            "341\n",
            "342\n",
            "343\n",
            "344\n",
            "345\n",
            "346\n",
            "347\n",
            "348\n",
            "349\n",
            "350\n",
            "351\n",
            "352\n",
            "353\n",
            "354\n",
            "355\n",
            "356\n",
            "357\n",
            "358\n",
            "359\n",
            "360\n",
            "361\n",
            "362\n",
            "363\n",
            "364\n",
            "365\n",
            "366\n",
            "367\n",
            "368\n",
            "369\n",
            "370\n",
            "371\n",
            "372\n",
            "373\n",
            "374\n",
            "375\n",
            "376\n",
            "377\n",
            "378\n",
            "379\n",
            "380\n",
            "381\n",
            "382\n",
            "383\n",
            "384\n",
            "385\n",
            "386\n",
            "387\n",
            "388\n",
            "389\n",
            "390\n",
            "391\n",
            "392\n",
            "393\n",
            "394\n",
            "395\n",
            "396\n",
            "397\n",
            "398\n",
            "399\n",
            "400\n",
            "401\n",
            "402\n",
            "403\n",
            "404\n",
            "405\n",
            "406\n",
            "407\n",
            "408\n",
            "409\n",
            "410\n",
            "411\n",
            "412\n",
            "413\n",
            "414\n",
            "415\n",
            "416\n",
            "417\n",
            "418\n",
            "419\n",
            "420\n",
            "421\n",
            "422\n",
            "423\n",
            "424\n",
            "425\n",
            "426\n",
            "427\n",
            "428\n",
            "429\n",
            "430\n",
            "431\n",
            "432\n",
            "433\n",
            "434\n",
            "435\n",
            "436\n",
            "437\n",
            "438\n",
            "439\n",
            "440\n",
            "441\n",
            "442\n",
            "443\n",
            "444\n",
            "445\n",
            "446\n",
            "447\n",
            "448\n",
            "449\n",
            "450\n",
            "451\n",
            "452\n",
            "453\n",
            "454\n",
            "455\n",
            "456\n",
            "457\n",
            "458\n",
            "459\n",
            "460\n",
            "461\n",
            "462\n",
            "463\n",
            "464\n",
            "465\n",
            "466\n",
            "467\n",
            "468\n",
            "469\n",
            "470\n",
            "471\n",
            "472\n",
            "473\n",
            "474\n",
            "475\n",
            "476\n",
            "477\n",
            "478\n",
            "479\n",
            "480\n",
            "481\n",
            "482\n",
            "483\n",
            "484\n",
            "485\n",
            "486\n",
            "487\n",
            "488\n",
            "489\n",
            "490\n",
            "491\n",
            "492\n",
            "493\n",
            "494\n",
            "495\n",
            "496\n",
            "497\n",
            "498\n",
            "499\n"
          ],
          "name": "stdout"
        }
      ]
    },
    {
      "cell_type": "code",
      "metadata": {
        "id": "El_ud8bJ7L8J",
        "colab": {
          "base_uri": "https://localhost:8080/"
        },
        "outputId": "c9f9a8f2-f8a5-4fc8-bd43-a7d4dadfc2f3"
      },
      "source": [
        "print(parameters)"
      ],
      "execution_count": 13,
      "outputs": [
        {
          "output_type": "stream",
          "text": [
            "[[-0.18212655]\n",
            " [ 0.13528401]\n",
            " [ 0.32284733]\n",
            " [-0.80621358]\n",
            " [ 0.09418591]\n",
            " [-0.00514296]\n",
            " [ 0.52821153]\n",
            " [ 0.68139822]\n",
            " [-0.01188877]\n",
            " [ 0.49091428]\n",
            " [ 0.18339822]\n",
            " [-0.09134175]\n",
            " [ 0.34019784]\n",
            " [ 0.30233873]\n",
            " [ 0.34711071]\n",
            " [ 0.52846084]]\n"
          ],
          "name": "stdout"
        }
      ]
    },
    {
      "cell_type": "code",
      "metadata": {
        "colab": {
          "base_uri": "https://localhost:8080/",
          "height": 282
        },
        "id": "D33a54V4AoxD",
        "outputId": "b081cecb-91fe-414d-8278-059df345fd6c"
      },
      "source": [
        "plt.plot(range(500), cost_func)"
      ],
      "execution_count": 14,
      "outputs": [
        {
          "output_type": "execute_result",
          "data": {
            "text/plain": [
              "[<matplotlib.lines.Line2D at 0x7fc19a8efe80>]"
            ]
          },
          "metadata": {
            "tags": []
          },
          "execution_count": 14
        },
        {
          "output_type": "display_data",
          "data": {
            "image/png": "[encoded data removed]",
            "text/plain": [
              "<Figure size 432x288 with 1 Axes>"
            ]
          },
          "metadata": {
            "tags": [],
            "needs_background": "light"
          }
        }
      ]
    },
    {
      "cell_type": "code",
      "metadata": {
        "id": "R6-5LEuWD1qE"
      },
      "source": [
        "def predict(X, Y):\r\n",
        "  final_array = np.zeros(len(Y))\r\n",
        "  count = 0\r\n",
        "  for object in X:\r\n",
        "    j = 0\r\n",
        "    final = 0\r\n",
        "    for i in range(len(X[0])):\r\n",
        "      final = final + object[i]*parameters[i]\r\n",
        "    final = 1.0 / (1.0 + np.exp(-final))\r\n",
        "    final = np.round(final)\r\n",
        "    final_array[count] = final\r\n",
        "    count = count+1\r\n",
        "  return final_array"
      ],
      "execution_count": 15,
      "outputs": []
    },
    {
      "cell_type": "code",
      "metadata": {
        "colab": {
          "base_uri": "https://localhost:8080/"
        },
        "id": "i7sSRqx5TeWo",
        "outputId": "874fd3e6-01d7-4adc-af17-a50e8c799784"
      },
      "source": [
        "test_array = predict(X_test, Y_test)\r\n",
        "print(test_array)\r\n",
        "print(Y_test)"
      ],
      "execution_count": 16,
      "outputs": [
        {
          "output_type": "stream",
          "text": [
            "[0. 0. 0. ... 0. 0. 0.]\n",
            "[0. 0. 0. ... 0. 0. 1.]\n"
          ],
          "name": "stdout"
        }
      ]
    },
    {
      "cell_type": "code",
      "metadata": {
        "colab": {
          "base_uri": "https://localhost:8080/"
        },
        "id": "uh4D2SwMTrns",
        "outputId": "41c3838d-c7b2-449d-d1de-cd4f93980d14"
      },
      "source": [
        "from sklearn.metrics import confusion_matrix, accuracy_score, f1_score\r\n",
        "cm = confusion_matrix(Y_test, test_array)\r\n",
        "print(cm)\r\n",
        "print(accuracy_score(Y_test, test_array))\r\n",
        "print(f1_score(Y_test, test_array))"
      ],
      "execution_count": 17,
      "outputs": [
        {
          "output_type": "stream",
          "text": [
            "[[824  66]\n",
            " [143  27]]\n",
            "0.8028301886792453\n",
            "0.20532319391634982\n"
          ],
          "name": "stdout"
        }
      ]
    },
    {
      "cell_type": "code",
      "metadata": {
        "colab": {
          "base_uri": "https://localhost:8080/"
        },
        "id": "edFOcjOmhe4z",
        "outputId": "a189f227-efb8-48c2-e80a-15d094ca0977"
      },
      "source": [
        "train_array = predict(X_train, Y_train)\r\n",
        "cm = confusion_matrix(Y_train, train_array)\r\n",
        "print(cm)\r\n",
        "print(accuracy_score(Y_train, train_array))\r\n",
        "print(f1_score(Y_train, train_array))"
      ],
      "execution_count": 18,
      "outputs": [
        {
          "output_type": "stream",
          "text": [
            "[[2494  210]\n",
            " [ 377   97]]\n",
            "0.8152926368785399\n",
            "0.24839948783610752\n"
          ],
          "name": "stdout"
        }
      ]
    }
  ]
}