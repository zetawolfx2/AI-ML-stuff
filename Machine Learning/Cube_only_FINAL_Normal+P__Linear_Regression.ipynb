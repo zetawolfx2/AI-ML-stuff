{
  "nbformat": 4,
  "nbformat_minor": 0,
  "metadata": {
    "colab": {
      "name": "***Cube only FINAL(Normal+P)_Manas_Linear_Regression.ipynb",
      "provenance": [],
      "collapsed_sections": []
    },
    "kernelspec": {
      "display_name": "Python 3",
      "name": "python3"
    }
  },
  "cells": [
    {
      "cell_type": "code",
      "metadata": {
        "id": "5MkvYBwfGxnd"
      },
      "source": [
        "import pandas as pd\n",
        "import numpy as np\n",
        "import matplotlib.pyplot as plt\n",
        "import re"
      ],
      "execution_count": 1,
      "outputs": []
    },
    {
      "cell_type": "code",
      "metadata": {
        "colab": {
          "base_uri": "https://localhost:8080/"
        },
        "id": "2e6IFWIeHPff",
        "outputId": "fa8ba668-47af-41d3-97fd-eaf3a6061c70"
      },
      "source": [
        "#Reading the csv and converting to a dataframe\n",
        "dataset = pd.read_csv('car_price.csv')\n",
        "\n",
        "#kmpl to km/kg\n",
        "clist = []\n",
        "count = 0\n",
        "for object in dataset['mileage']:\n",
        "  newobject = str(object)\n",
        "  if re.search(r'\\b' + \"kmpl\" + r'\\b', newobject):\n",
        "    clist.append(count)\n",
        "  count = count + 1\n",
        "\n",
        "#Dropping letters of the units\n",
        "dataset['mileage'] = (dataset['mileage'].str.rstrip(' kmplkg/km')).astype(float)\n",
        "\n",
        "isDiesel = []\n",
        "isPetrol = []\n",
        "#Converting kmpl to km/kg\n",
        "for count in clist:\n",
        "  if dataset.at[count, 'fuel'] == 'Diesel':\n",
        "    dataset.at[count, 'mileage'] = (dataset.at[count, 'mileage'])/0.832\n",
        "    isDiesel.append(count)#This is a surprise tool that will help us later\n",
        "  elif dataset.at[count, 'fuel'] == 'Petrol':\n",
        "    dataset.at[count, 'mileage'] = (dataset.at[count, 'mileage'])/0.742\n",
        "    isPetrol.append(count)#''\n",
        "\n",
        "#Drop... cont.\n",
        "dataset['engine'] = (dataset['engine'].str.rstrip(' CC')).astype(float)\n",
        "\n",
        "#THROWS ERROR AT ENTRY NO. 4933 because only bhp is written at that place\n",
        "dataset['max_power'] = dataset['max_power'].str.rstrip(' bhp')\n",
        "\n",
        "count = 0\n",
        "for object in dataset['max_power']:\n",
        "  if count != 4933:\n",
        "    object = (float)(object)\n",
        "    dataset.at[count, 'max_power'] = object\n",
        "  count = count + 1\n",
        "\n",
        "dataset.at[4933, 'max_power'] = np.nan\n",
        "\n",
        "print(dataset)"
      ],
      "execution_count": 2,
      "outputs": [
        {
          "output_type": "stream",
          "text": [
            "                              name  year  ...                     torque  seats\n",
            "0           Maruti Swift Dzire VDI  2014  ...             190Nm@ 2000rpm    5.0\n",
            "1     Skoda Rapid 1.5 TDI Ambition  2014  ...        250Nm@ 1500-2500rpm    5.0\n",
            "2         Honda City 2017-2020 EXi  2006  ...      12.7@ 2,700(kgm@ rpm)    5.0\n",
            "3        Hyundai i20 Sportz Diesel  2010  ...   22.4 kgm at 1750-2750rpm    5.0\n",
            "4           Maruti Swift VXI BSIII  2007  ...      11.5@ 4,500(kgm@ rpm)    5.0\n",
            "...                            ...   ...  ...                        ...    ...\n",
            "8123             Hyundai i20 Magna  2013  ...           113.7Nm@ 4000rpm    5.0\n",
            "8124         Hyundai Verna CRDi SX  2007  ...  24@ 1,900-2,750(kgm@ rpm)    5.0\n",
            "8125        Maruti Swift Dzire ZDi  2009  ...             190Nm@ 2000rpm    5.0\n",
            "8126               Tata Indigo CR4  2013  ...        140Nm@ 1800-3000rpm    5.0\n",
            "8127               Tata Indigo CR4  2013  ...        140Nm@ 1800-3000rpm    5.0\n",
            "\n",
            "[8128 rows x 13 columns]\n"
          ],
          "name": "stdout"
        }
      ]
    },
    {
      "cell_type": "code",
      "metadata": {
        "colab": {
          "base_uri": "https://localhost:8080/"
        },
        "id": "iIdGVJwOIiDF",
        "outputId": "5b431c38-58b0-4142-a07b-8723a66e9a8f"
      },
      "source": [
        "#Taking the torque values and splitting them into Nm and avg. RPM\n",
        "count = 0\n",
        "\n",
        "#keeping track of kgm values\n",
        "clist2 = []\n",
        "\n",
        "#Used to make 2 new columns\n",
        "torqlist = []\n",
        "rpmlist = []\n",
        "for object in dataset['torque']:\n",
        "  newobject = str(object)\n",
        "  if re.search(r'\\b' + \"kgm\" + r'\\b', newobject):\n",
        "    clist2.append(count)\n",
        "  count = count + 1\n",
        "  newobject = newobject.replace(',', '')\n",
        "  A = re.findall(r\"[-+]?\\d*\\.\\d+|\\d+\", newobject)\n",
        "  leng = len(A)\n",
        "  if leng == 0:\n",
        "    torqlist.append(np.nan)\n",
        "    rpmlist.append(np.nan)\n",
        "    continue\n",
        "  elif leng == 1:\n",
        "    a0 = float(A[0])\n",
        "    torqlist.append(a0)\n",
        "    rpmlist.append(np.nan)\n",
        "  elif leng == 2:\n",
        "    a0 = float(A[0])\n",
        "    a1 = float(A[1])\n",
        "    torqlist.append(a0)\n",
        "    rpmlist.append(a1)\n",
        "  elif leng == 3:\n",
        "    a0 = float(A[0])\n",
        "    a1 = float(A[1])\n",
        "    a2 = float(A[2])\n",
        "    torqlist.append(a0)\n",
        "    rpmlist.append((a1+a2)/2) #Why average? Asked my mechanical friend\n",
        "\n",
        "#kgm to Nm\n",
        "for index in clist2:\n",
        "  torqlist[index] = torqlist[index]*9.80665\n",
        "\n",
        "dataset['NM'] = torqlist\n",
        "dataset['RPM'] = rpmlist\n",
        "del dataset['torque']\n",
        "\n",
        "dataset = dataset.replace(np.nan, 0)\n",
        "print(dataset.iloc[13, :])\n",
        "\n",
        "#Preparation of Features and Results\n",
        "X = dataset.loc[:, dataset.columns != 'selling_price'].values\n",
        "X = X[:, 1:]\n",
        "Y = dataset.iloc[:, 2].values\n",
        "print(X)\n",
        "print(Y)"
      ],
      "execution_count": 3,
      "outputs": [
        {
          "output_type": "stream",
          "text": [
            "name             Maruti Swift 1.3 VXi\n",
            "year                             2007\n",
            "selling_price                  200000\n",
            "km_driven                       80000\n",
            "fuel                           Petrol\n",
            "seller_type                Individual\n",
            "transmission                   Manual\n",
            "owner                    Second Owner\n",
            "mileage                             0\n",
            "engine                              0\n",
            "max_power                           0\n",
            "seats                               0\n",
            "NM                                  0\n",
            "RPM                                 0\n",
            "Name: 13, dtype: object\n",
            "[[2014 145500 'Diesel' ... 5.0 190.0 2000.0]\n",
            " [2014 120000 'Diesel' ... 5.0 250.0 2000.0]\n",
            " [2006 140000 'Petrol' ... 5.0 124.54445499999999 2700.0]\n",
            " ...\n",
            " [2009 120000 'Diesel' ... 5.0 190.0 2000.0]\n",
            " [2013 25000 'Diesel' ... 5.0 140.0 2400.0]\n",
            " [2013 25000 'Diesel' ... 5.0 140.0 2400.0]]\n",
            "[450000 370000 158000 ... 382000 290000 290000]\n"
          ],
          "name": "stdout"
        }
      ]
    },
    {
      "cell_type": "code",
      "metadata": {
        "colab": {
          "base_uri": "https://localhost:8080/"
        },
        "id": "LkVzHpoTK3ky",
        "outputId": "6fd5af8d-87fd-4352-d071-9e7de61a5742"
      },
      "source": [
        "print(X[13,:])"
      ],
      "execution_count": 4,
      "outputs": [
        {
          "output_type": "stream",
          "text": [
            "[2007 80000 'Petrol' 'Individual' 'Manual' 'Second Owner' 0.0 0.0 0.0 0.0\n",
            " 0.0 0.0]\n"
          ],
          "name": "stdout"
        }
      ]
    },
    {
      "cell_type": "code",
      "metadata": {
        "id": "-Osex8sf0bfN"
      },
      "source": [
        "'''\n",
        "There are nan values above that need to be fixed.\n",
        "So, we'll replace them with the mean values of Petrol and Diesel respectively.\n",
        "Index of mileage is 6, engine 7, max_power 8, seats 9, NM 10 and RPM 11\n",
        "'''\n",
        "isCNG = []\n",
        "isLPG = []\n",
        "\n",
        "for i in range(len(X)):\n",
        "  if dataset.at[i, 'fuel'] == 'CNG':\n",
        "    isCNG.append(i)\n",
        "  elif dataset.at[i, 'fuel'] == 'LPG':\n",
        "    isLPG.append(i)\n",
        "\n",
        "mean_Diesel = []\n",
        "mean_Petrol = []\n",
        "mean_CNG = []\n",
        "mean_LPG = []\n",
        "\n",
        "for j in range(6,12):\n",
        "  mean = 0\n",
        "  for index in isDiesel:\n",
        "      mean = mean + X[index][j]\n",
        "  mean_Diesel.append(mean/len(isDiesel))\n",
        "\n",
        "\n",
        "for j in range(6,12):\n",
        "  mean = 0\n",
        "  for index in isPetrol:\n",
        "    mean = mean + X[index][j]\n",
        "  mean_Petrol.append(mean/len(isPetrol))\n",
        "\n",
        "\n",
        "for j in range(6,12):\n",
        "  mean = 0\n",
        "  for index in isCNG:\n",
        "    mean = mean + X[index][j]\n",
        "  mean_CNG.append(mean/len(isCNG))\n",
        "\n",
        "for j in range(6,12):\n",
        "  mean = 0\n",
        "  for index in isLPG:\n",
        "    mean = mean + X[index][j]\n",
        "  mean_LPG.append(mean/len(isLPG))\n",
        "\n",
        "count = 0\n",
        "\n",
        "for j in range(6,12):\n",
        "  for index in range(len(X)):\n",
        "    if X[index][j] == 0 and X[index][2] == 'Petrol':\n",
        "      X[index][j] = mean_Petrol[count]\n",
        "    elif X[index][j] == 0 and X[index][2] == 'Diesel':\n",
        "      X[index][j] = mean_Diesel[count]\n",
        "    elif X[index][j] == 0 and X[index][2] == 'CNG':\n",
        "      X[index][j] = mean_CNG[count]\n",
        "    elif X[index][j] == 0 and X[index][2] == 'LPG':\n",
        "      X[index][j] = mean_LPG[count]\n",
        "  count = count + 1"
      ],
      "execution_count": 5,
      "outputs": []
    },
    {
      "cell_type": "code",
      "metadata": {
        "colab": {
          "base_uri": "https://localhost:8080/"
        },
        "id": "DfFKziFQ1WMV",
        "outputId": "9f0c39e3-9596-46b7-d587-c0321ec49da6"
      },
      "source": [
        "print(X[13,:])\n",
        "print(X[78,:])"
      ],
      "execution_count": 6,
      "outputs": [
        {
          "output_type": "stream",
          "text": [
            "[2007 80000 'Petrol' 'Individual' 'Manual' 'Second Owner'\n",
            " 25.717386976231385 1182.4457386363636 80.1722443181807 5.046590909090909\n",
            " 113.81890364204554 3813.4280113636364]\n",
            "[2003 70000 'Diesel' 'Individual' 'Manual' 'First Owner'\n",
            " 23.608922915883824 1692.8813677599442 101.56669806931819\n",
            " 5.728076296813212 236.08581429518506 2092.9359967434284]\n"
          ],
          "name": "stdout"
        }
      ]
    },
    {
      "cell_type": "code",
      "metadata": {
        "colab": {
          "base_uri": "https://localhost:8080/"
        },
        "id": "KZI2ZPXpm2SB",
        "outputId": "a8c9816f-7102-4c55-b16e-45ccb7ce59eb"
      },
      "source": [
        "print(len(isDiesel), len(isPetrol), len(isLPG), len(isCNG))"
      ],
      "execution_count": 7,
      "outputs": [
        {
          "output_type": "stream",
          "text": [
            "4299 3520 38 57\n"
          ],
          "name": "stdout"
        }
      ]
    },
    {
      "cell_type": "code",
      "metadata": {
        "id": "wF17x1UKTjDD"
      },
      "source": [
        "#Encoding\n",
        "\n",
        "def Encoding(X):\n",
        "  '''\n",
        "  Automatic - 1\n",
        "  Manual - 0\n",
        "  '''\n",
        "  man = []\n",
        "  aut = []\n",
        "\n",
        "  for index in range(len(X)):\n",
        "    if X[index][4] == 'Manual':\n",
        "      man.append(index)\n",
        "      X[index][4] = 0\n",
        "    else:\n",
        "      aut.append(index)\n",
        "      X[index][4] = 1\n",
        "\n",
        "  '''\n",
        "  Individual - 0\n",
        "  Dealer - 1\n",
        "  Trustmark Dealer - 2\n",
        "  Self Explanatory\n",
        "  '''\n",
        "  ind = []\n",
        "  dea = []\n",
        "  td = []\n",
        "\n",
        "  for index in range(len(X)):\n",
        "    if X[index][3] == 'Individual':\n",
        "      ind.append(index)\n",
        "      X[index][3] = 0\n",
        "    elif X[index][3] == 'Dealer':\n",
        "      dea.append(index)\n",
        "      X[index][3] = 1\n",
        "    elif X[index][3] == 'Trustmark Dealer':\n",
        "      td.append(index)\n",
        "      X[index][3] = 2\n",
        "\n",
        "  '''\n",
        "  Test Drive Car = 4\n",
        "  First Owner = 3\n",
        "  2nd Owner = 2\n",
        "  3rd Owner = 1\n",
        "  4th Owner = 0\n",
        "  Self Explanatory\n",
        "  '''\n",
        "  fourth = []\n",
        "  third = []\n",
        "  second = []\n",
        "  first = []\n",
        "  test = []\n",
        "\n",
        "  for index in range(len(X)):\n",
        "    if X[index][5] == 'Fourth & Above Owner':\n",
        "      fourth.append(index)\n",
        "      X[index][5] = 0\n",
        "    elif X[index][5] == 'Third Owner':\n",
        "      third.append(index)\n",
        "      X[index][5] = 1\n",
        "    elif X[index][5] == 'Second Owner':\n",
        "      second.append(index)\n",
        "      X[index][5] = 2\n",
        "    elif X[index][5] == 'First Owner':\n",
        "      first.append(index)\n",
        "      X[index][5] = 3\n",
        "    elif X[index][5] == 'Test Drive Car':\n",
        "      test.append(index)\n",
        "      X[index][5] = 4\n",
        "\n",
        "  for index in range(len(X)):\n",
        "    if X[index][2] == 'LPG':\n",
        "      X[index][2] = 0\n",
        "    elif X[index][2] == 'CNG':\n",
        "      X[index][2] = 1\n",
        "    elif X[index][2] == 'Petrol':\n",
        "      X[index][2] = 2\n",
        "    elif X[index][2] == 'Diesel':\n",
        "      X[index][2] = 3\n",
        "  return X"
      ],
      "execution_count": 8,
      "outputs": []
    },
    {
      "cell_type": "code",
      "metadata": {
        "id": "rNyi2JMrFNXD"
      },
      "source": [
        "X = Encoding(X)"
      ],
      "execution_count": 9,
      "outputs": []
    },
    {
      "cell_type": "code",
      "metadata": {
        "colab": {
          "base_uri": "https://localhost:8080/"
        },
        "id": "ROaJ-UXaWqUe",
        "outputId": "ffd7df7e-8873-4c2c-8f85-387563e24a94"
      },
      "source": [
        "#Preparation of Matrix\n",
        "\n",
        "def prepMat(X):\n",
        "  new_column = np.ones(len(X))\n",
        "  X = np.insert(X, 0, new_column, axis=1)\n",
        "  return X\n",
        "\n",
        "X = prepMat(X)\n",
        "print(X[4933, :])"
      ],
      "execution_count": 10,
      "outputs": [
        {
          "output_type": "stream",
          "text": [
            "[1.0 2000 100000 1 0 0 2 10.9 796.0 55.64280701754386 8.0\n",
            " 76.39794956140351 3013.157894736842]\n"
          ],
          "name": "stdout"
        }
      ]
    },
    {
      "cell_type": "code",
      "metadata": {
        "colab": {
          "base_uri": "https://localhost:8080/",
          "height": 1000
        },
        "id": "893-q9ac-tzY",
        "outputId": "b177a9a7-9ebb-45ce-f032-63320f59e6a5"
      },
      "source": [
        "#Analysis of Data\n",
        "points = []\n",
        "\n",
        "for j in range(len(X[0, :])):\n",
        "  lop = []\n",
        "  for i in range(len(X)):\n",
        "    lop.append(X[i][j])\n",
        "  points.append(lop)\n",
        "\n",
        "print(len(points[0]))\n",
        "\n",
        "for j in range(13):\n",
        "  plt.scatter(points[j], Y)\n",
        "  plt.show()\n",
        "\n",
        "#1, 2, 7, 8, 9, 10, 11, 12 need squaring, Lets try cubing 7 and 12\n",
        "\n",
        "square = [1, 2, 8, 9, 11]\n",
        "cube = [7, 12]"
      ],
      "execution_count": 11,
      "outputs": [
        {
          "output_type": "stream",
          "text": [
            "8128\n"
          ],
          "name": "stdout"
        },
        {
          "output_type": "display_data",
          "data": {
            "image/png": "[encoded data removed]",
            "text/plain": [
              "<Figure size 432x288 with 1 Axes>"
            ]
          },
          "metadata": {
            "tags": [],
            "needs_background": "light"
          }
        },
        {
          "output_type": "display_data",
          "data": {
            "image/png": "[encoded data removed]",
            "text/plain": [
              "<Figure size 432x288 with 1 Axes>"
            ]
          },
          "metadata": {
            "tags": [],
            "needs_background": "light"
          }
        },
        {
          "output_type": "display_data",
          "data": {
            "image/png": "[encoded data removed]",
            "text/plain": [
              "<Figure size 432x288 with 1 Axes>"
            ]
          },
          "metadata": {
            "tags": [],
            "needs_background": "light"
          }
        },
        {
          "output_type": "display_data",
          "data": {
            "image/png": "[encoded data removed]",
            "text/plain": [
              "<Figure size 432x288 with 1 Axes>"
            ]
          },
          "metadata": {
            "tags": [],
            "needs_background": "light"
          }
        },
        {
          "output_type": "display_data",
          "data": {
            "image/png": "[encoded data removed]",
            "text/plain": [
              "<Figure size 432x288 with 1 Axes>"
            ]
          },
          "metadata": {
            "tags": [],
            "needs_background": "light"
          }
        },
        {
          "output_type": "display_data",
          "data": {
            "image/png": "[encoded data removed]",
            "text/plain": [
              "<Figure size 432x288 with 1 Axes>"
            ]
          },
          "metadata": {
            "tags": [],
            "needs_background": "light"
          }
        },
        {
          "output_type": "display_data",
          "data": {
            "image/png": "[encoded data removed]",
            "text/plain": [
              "<Figure size 432x288 with 1 Axes>"
            ]
          },
          "metadata": {
            "tags": [],
            "needs_background": "light"
          }
        },
        {
          "output_type": "display_data",
          "data": {
            "image/png": "[encoded data removed]",
            "text/plain": [
              "<Figure size 432x288 with 1 Axes>"
            ]
          },
          "metadata": {
            "tags": [],
            "needs_background": "light"
          }
        },
        {
          "output_type": "display_data",
          "data": {
            "image/png": "[encoded data removed]",
            "text/plain": [
              "<Figure size 432x288 with 1 Axes>"
            ]
          },
          "metadata": {
            "tags": [],
            "needs_background": "light"
          }
        },
        {
          "output_type": "display_data",
          "data": {
            "image/png": "[encoded data removed]",
            "text/plain": [
              "<Figure size 432x288 with 1 Axes>"
            ]
          },
          "metadata": {
            "tags": [],
            "needs_background": "light"
          }
        },
        {
          "output_type": "display_data",
          "data": {
            "image/png": "[encoded data removed]",
            "text/plain": [
              "<Figure size 432x288 with 1 Axes>"
            ]
          },
          "metadata": {
            "tags": [],
            "needs_background": "light"
          }
        },
        {
          "output_type": "display_data",
          "data": {
            "image/png": "[encoded data removed]",
            "text/plain": [
              "<Figure size 432x288 with 1 Axes>"
            ]
          },
          "metadata": {
            "tags": [],
            "needs_background": "light"
          }
        },
        {
          "output_type": "display_data",
          "data": {
            "image/png": "[encoded data removed]",
            "text/plain": [
              "<Figure size 432x288 with 1 Axes>"
            ]
          },
          "metadata": {
            "tags": [],
            "needs_background": "light"
          }
        }
      ]
    },
    {
      "cell_type": "code",
      "metadata": {
        "colab": {
          "base_uri": "https://localhost:8080/"
        },
        "id": "ZWXt34Pn_G5-",
        "outputId": "db180438-a696-4519-a312-80cb46aea537"
      },
      "source": [
        "def AddFeatures(X):\n",
        "  for index in square:\n",
        "    decoy = X[:, index]\n",
        "    decoy = np.square(decoy)\n",
        "    X = np.column_stack((X, decoy))\n",
        "\n",
        "  for index in cube:\n",
        "    decoy = X[:, index]\n",
        "    decoy = np.power(decoy, 3)\n",
        "    X = np.column_stack((X, decoy))\n",
        "  return X\n",
        "\n",
        "X = AddFeatures(X)\n",
        "print(X)"
      ],
      "execution_count": 12,
      "outputs": [
        {
          "output_type": "stream",
          "text": [
            "[[1.0 2014 145500 ... 36100.0 22247.314453125 8000000000.0]\n",
            " [1.0 2014 120000 ... 62500.0 16403.819053347783 8000000000.0]\n",
            " [1.0 2006 140000 ... 15511.321271247021 13574.007451040989 19683000000.0]\n",
            " ...\n",
            " [1.0 2009 120000 ... 36100.0 12482.510732964167 8000000000.0]\n",
            " [1.0 2013 25000 ... 19600.0 22735.72296330101 13824000000.0]\n",
            " [1.0 2013 25000 ... 19600.0 22735.72296330101 13824000000.0]]\n"
          ],
          "name": "stdout"
        }
      ]
    },
    {
      "cell_type": "code",
      "metadata": {
        "colab": {
          "base_uri": "https://localhost:8080/"
        },
        "id": "zH2ePYqjZSNc",
        "outputId": "86473c6a-921a-4aa8-e770-c6462db0541e"
      },
      "source": [
        "#Splitting data\n",
        "\n",
        "from sklearn.model_selection import train_test_split\n",
        "X_train, X_tes, Y_train, Y_tes = train_test_split(X, Y, test_size = 0.4, random_state = 1)\n",
        "X_val, X_test, Y_val, Y_test = train_test_split(X_tes, Y_tes, test_size = 0.5, random_state = 1)\n",
        "print(X_train[1, :])"
      ],
      "execution_count": 13,
      "outputs": [
        {
          "output_type": "stream",
          "text": [
            "[1.0 2010 86017 3 1 0 2 30.649038461538463 1498.0 99.23 5.0 215.0 2375.0\n",
            " 4040100 7398924289 2244004.0 9846.592900000001 46225.0 28790.589837415908\n",
            " 13396484375.0]\n"
          ],
          "name": "stdout"
        }
      ]
    },
    {
      "cell_type": "code",
      "metadata": {
        "colab": {
          "base_uri": "https://localhost:8080/"
        },
        "id": "k4UIvfSm4R6U",
        "outputId": "000868bc-ed4c-48bf-81e7-ccdafd1bf480"
      },
      "source": [
        "#Model Training using Normal equation\n",
        "\n",
        "decoy_X = (X_train.transpose()).astype('float')\n",
        "prod1 = (np.matmul(decoy_X, X_train)).astype('float')\n",
        "reg_matrix = np.zeros((len(X_train[0]), len(X_train[0])), float)\n",
        "np.fill_diagonal(reg_matrix, 1)\n",
        "reg_matrix[0][0] = 0.0\n",
        "prod1 = prod1+0.01*reg_matrix\n",
        "prod1 = np.linalg.inv(prod1)\n",
        "prod2 = np.matmul(decoy_X,Y_train)\n",
        "\n",
        "theta = np.matmul(prod1, prod2)\n",
        "\n",
        "print(theta)"
      ],
      "execution_count": 14,
      "outputs": [
        {
          "output_type": "stream",
          "text": [
            "[ 1.52073396e+10 -1.51705143e+07 -1.05280752e+00 -3.21267500e+04\n",
            "  1.25100257e+05  2.82865852e+05  5.12919491e+03  7.69189725e+04\n",
            "  1.06926345e+03 -1.67053357e+04  2.11009497e+04 -1.34417366e+03\n",
            " -1.53942233e+02  3.78318704e+03  7.48076317e-07 -2.54352824e-01\n",
            "  1.26437430e+02  9.15809135e-01 -3.81459125e+01  5.98998274e-07]\n"
          ],
          "name": "stdout"
        }
      ]
    },
    {
      "cell_type": "code",
      "metadata": {
        "id": "cWlcnluXFo0F"
      },
      "source": [
        "def predict(X, Y):\r\n",
        "  final_array = np.zeros(len(Y))\r\n",
        "  count = 0\r\n",
        "  for object in X:\r\n",
        "    j = 0\r\n",
        "    final = 0\r\n",
        "    for i in range(20):\r\n",
        "      final = final + object[i]*theta[i]\r\n",
        "    final_array[count] = final\r\n",
        "    count = count+1\r\n",
        "  return final_array"
      ],
      "execution_count": 15,
      "outputs": []
    },
    {
      "cell_type": "code",
      "metadata": {
        "colab": {
          "base_uri": "https://localhost:8080/"
        },
        "id": "Lp3992N4DLhB",
        "outputId": "b8fc0980-72d2-4e26-a60b-fa53b292aae1"
      },
      "source": [
        "#Printing test cases predictions\n",
        "from sklearn.metrics import r2_score \n",
        "from sklearn.metrics import mean_squared_error\n",
        "\n",
        "final_array = predict(X_val, Y_val)\n",
        "print(r2_score(Y_val, final_array))\n",
        "print(1-(1-r2_score(Y_val, final_array))*((len(X_val)-1)/(len(X_val)-len(X_val[0])-1)))\n",
        "rms = mean_squared_error(Y_val, final_array, squared=False)\n",
        "print(rms)\n",
        "\n",
        "final_array = predict(X_test, Y_test)\n",
        "print(r2_score(Y_test, final_array))\n",
        "print(1-(1-r2_score(Y_test, final_array))*((len(X_test)-1)/(len(X_test)-len(X_test[0])-1)))\n",
        "rms = mean_squared_error(Y_test, final_array, squared=False)\n",
        "print(rms)"
      ],
      "execution_count": 16,
      "outputs": [
        {
          "output_type": "stream",
          "text": [
            "0.7546059322994995\n",
            "0.751548062297001\n",
            "366401.5031860989\n",
            "0.7939616966592107\n",
            "0.7913942411658675\n",
            "365279.071163208\n"
          ],
          "name": "stdout"
        }
      ]
    },
    {
      "cell_type": "code",
      "metadata": {
        "colab": {
          "base_uri": "https://localhost:8080/"
        },
        "id": "pkxCbncNDYy4",
        "outputId": "dbb99140-e9ad-4ee6-cb85-2f45cbfba7eb"
      },
      "source": [
        "#CHECKING FOR OVERFITTING\n",
        "\n",
        "final_array = predict(X_train, Y_train)\n",
        "print(r2_score(Y_train, final_array))\n",
        "print(1-(1-r2_score(Y_train, final_array))*((len(X_test)-1)/(len(X_test)-len(X_test[0])-1)))\n",
        "rms = mean_squared_error(Y_train, final_array, squared=False)\n",
        "print(rms)"
      ],
      "execution_count": 17,
      "outputs": [
        {
          "output_type": "stream",
          "text": [
            "0.7705301117983083\n",
            "0.7676706739390973\n",
            "396375.32485221355\n"
          ],
          "name": "stdout"
        }
      ]
    },
    {
      "cell_type": "code",
      "metadata": {
        "id": "VLFC9WFtI8Uo"
      },
      "source": [
        "def predict_single(X):\r\n",
        "  final_value = 0\r\n",
        "  count = 0\r\n",
        "  for object in X:\r\n",
        "    j = 0\r\n",
        "    final = 0\r\n",
        "    for i in range(20):\r\n",
        "      final = final + object[i]*theta[i]\r\n",
        "    final_value = final\r\n",
        "    count = count+1\r\n",
        "  return final_value"
      ],
      "execution_count": 18,
      "outputs": []
    },
    {
      "cell_type": "code",
      "metadata": {
        "colab": {
          "base_uri": "https://localhost:8080/"
        },
        "id": "UVB26wzu_Rd4",
        "outputId": "79780c20-ef01-49e3-df75-d613e906083c"
      },
      "source": [
        "X_val[53, :]\r\n",
        "Y_val[53]"
      ],
      "execution_count": 23,
      "outputs": [
        {
          "output_type": "execute_result",
          "data": {
            "text/plain": [
              "840000"
            ]
          },
          "metadata": {
            "tags": []
          },
          "execution_count": 23
        }
      ]
    },
    {
      "cell_type": "code",
      "metadata": {
        "id": "5i_wox9N8jTC",
        "colab": {
          "base_uri": "https://localhost:8080/"
        },
        "outputId": "f69bffe6-a592-4095-93ec-f8fde24bb185"
      },
      "source": [
        "#PREDICTOR\n",
        "\n",
        "X_price_pred = np.array([[2019, 1500, 'Diesel', 'Individual','Manual','First Owner', \n",
        "                          24.528301886792452, 1199.0, 88.7, 5.0, 110.0, 4800.0]])\n",
        "\n",
        "X_price_pred = Encoding(X_price_pred).astype(float)\n",
        "X_price_pred = prepMat(X_price_pred)\n",
        "X_price_pred = AddFeatures(X_price_pred)\n",
        "print(X_price_pred)\n",
        "print(predict_single(X_price_pred))"
      ],
      "execution_count": 24,
      "outputs": [
        {
          "output_type": "stream",
          "text": [
            "[[1.00000000e+00 2.01900000e+03 1.50000000e+03 3.00000000e+00\n",
            "  0.00000000e+00 0.00000000e+00 3.00000000e+00 2.45283019e+01\n",
            "  1.19900000e+03 8.87000000e+01 5.00000000e+00 1.10000000e+02\n",
            "  4.80000000e+03 4.07636100e+06 2.25000000e+06 1.43760100e+06\n",
            "  7.86769000e+03 1.21000000e+04 1.47571485e+04 1.10592000e+11]]\n",
            "674020.2203807806\n"
          ],
          "name": "stdout"
        }
      ]
    }
  ]
}